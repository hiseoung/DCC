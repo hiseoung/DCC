{
 "cells": [
  {
   "cell_type": "code",
   "execution_count": 1,
   "metadata": {
    "colab": {
     "base_uri": "https://localhost:8080/"
    },
    "executionInfo": {
     "elapsed": 15368,
     "status": "ok",
     "timestamp": 1632571099862,
     "user": {
      "displayName": "정진우",
      "photoUrl": "https://lh3.googleusercontent.com/a/default-user=s64",
      "userId": "05017758655145019300"
     },
     "user_tz": -540
    },
    "id": "URK9BhL0xCFq",
    "outputId": "e75e1e81-e95d-49d7-8a96-8534616f2d0a"
   },
   "outputs": [
    {
     "name": "stdout",
     "output_type": "stream",
     "text": [
      "Mounted at /content/drive\n"
     ]
    }
   ],
   "source": [
    "from google.colab import drive\n",
    "drive.mount('/content/drive')"
   ]
  },
  {
   "cell_type": "code",
   "execution_count": 2,
   "metadata": {
    "executionInfo": {
     "elapsed": 4,
     "status": "ok",
     "timestamp": 1632571099863,
     "user": {
      "displayName": "정진우",
      "photoUrl": "https://lh3.googleusercontent.com/a/default-user=s64",
      "userId": "05017758655145019300"
     },
     "user_tz": -540
    },
    "id": "oSNI_lKlxBx6"
   },
   "outputs": [],
   "source": [
    "path = '/content/drive/MyDrive/데이터크리에이터캠프/nlp/task1/data'"
   ]
  },
  {
   "cell_type": "code",
   "execution_count": 3,
   "metadata": {
    "executionInfo": {
     "elapsed": 1594,
     "status": "ok",
     "timestamp": 1632571101454,
     "user": {
      "displayName": "정진우",
      "photoUrl": "https://lh3.googleusercontent.com/a/default-user=s64",
      "userId": "05017758655145019300"
     },
     "user_tz": -540
    },
    "id": "RjGVl-iqr4c8"
   },
   "outputs": [],
   "source": [
    "import tensorflow as tf\n",
    "from tensorflow import keras\n",
    "from collections import Counter\n",
    "import pandas as pd\n",
    "import re\n",
    "import os"
   ]
  },
  {
   "cell_type": "code",
   "execution_count": 4,
   "metadata": {
    "executionInfo": {
     "elapsed": 1889,
     "status": "ok",
     "timestamp": 1632571103893,
     "user": {
      "displayName": "정진우",
      "photoUrl": "https://lh3.googleusercontent.com/a/default-user=s64",
      "userId": "05017758655145019300"
     },
     "user_tz": -540
    },
    "id": "wicovgo_siI8"
   },
   "outputs": [],
   "source": [
    "train_path = os.path.join(path, 'train.csv')\n",
    "test_path = os.path.join(path, 'test_x.csv')\n",
    "sub_path = os.path.join(path, 'sample_submission.csv')\n",
    "\n",
    "train = pd.read_csv(train_path, index_col=0)\n",
    "test = pd.read_csv(test_path, index_col=0)\n",
    "sub = pd.read_csv(sub_path, index_col=0)"
   ]
  },
  {
   "cell_type": "code",
   "execution_count": 5,
   "metadata": {
    "executionInfo": {
     "elapsed": 2,
     "status": "ok",
     "timestamp": 1632571103894,
     "user": {
      "displayName": "정진우",
      "photoUrl": "https://lh3.googleusercontent.com/a/default-user=s64",
      "userId": "05017758655145019300"
     },
     "user_tz": -540
    },
    "id": "m6wZtdHtsiYE"
   },
   "outputs": [],
   "source": [
    "# 특수문자, 영어 이외의 문자 제거\n",
    "def preprocessing(text):\n",
    "    text = re.sub(\"<br\\\\s*/?>\", ' ', text)\n",
    "    text = re.sub(\"[^a-zA-Z\\']\", ' ', text)\n",
    "    text = text.split()\n",
    "    return text"
   ]
  },
  {
   "cell_type": "code",
   "execution_count": 6,
   "metadata": {
    "executionInfo": {
     "elapsed": 8063,
     "status": "ok",
     "timestamp": 1632571111955,
     "user": {
      "displayName": "정진우",
      "photoUrl": "https://lh3.googleusercontent.com/a/default-user=s64",
      "userId": "05017758655145019300"
     },
     "user_tz": -540
    },
    "id": "OTMOie0Psicq"
   },
   "outputs": [],
   "source": [
    "# vocab 생성\n",
    "vocab = Counter()\n",
    "x_train = train['text']\n",
    "y_train = train['author']\n",
    "y_train = tf.keras.utils.to_categorical(y_train)\n",
    "\n",
    "for text in x_train.tolist():\n",
    "    text = preprocessing(text)\n",
    "    vocab.update(text)\n",
    "\n",
    "# vocab 길이를 20000으로 제한\n",
    "vocab_size = 20000\n",
    "trunc_vocab = [\n",
    "    word for word, count in vocab.most_common()[:vocab_size]\n",
    "]\n",
    "\n",
    "# lookup table 생성\n",
    "words = tf.constant(trunc_vocab)\n",
    "word_ids = tf.range(len(trunc_vocab), dtype=tf.int64)\n",
    "vocab_init = tf.lookup.KeyValueTensorInitializer(words, word_ids)\n",
    "num_oov_buckets = 1000\n",
    "table = tf.lookup.StaticVocabularyTable(vocab_init, num_oov_buckets)"
   ]
  },
  {
   "cell_type": "code",
   "execution_count": 7,
   "metadata": {
    "executionInfo": {
     "elapsed": 11,
     "status": "ok",
     "timestamp": 1632571111956,
     "user": {
      "displayName": "정진우",
      "photoUrl": "https://lh3.googleusercontent.com/a/default-user=s64",
      "userId": "05017758655145019300"
     },
     "user_tz": -540
    },
    "id": "FKH0Ky8EsihC"
   },
   "outputs": [],
   "source": [
    "# dataset mapping 함수\n",
    "def tf_preprocess(X_batch, y_batch):\n",
    "  X_batch = tf.strings.regex_replace(X_batch, b\"<br\\\\s*/?>\", b\" \")\n",
    "  X_batch = tf.strings.regex_replace(X_batch, b\"[^a-zA-Z']\", b\" \")\n",
    "  X_batch = tf.strings.split(X_batch)\n",
    "  return X_batch.to_tensor(default_value=b\"<pad>\"), y_batch\n",
    "\n",
    "def encode_word(X_batch, y_batch):\n",
    "  return table.lookup(X_batch), y_batch"
   ]
  },
  {
   "cell_type": "code",
   "execution_count": 13,
   "metadata": {
    "executionInfo": {
     "elapsed": 245,
     "status": "ok",
     "timestamp": 1632571252108,
     "user": {
      "displayName": "정진우",
      "photoUrl": "https://lh3.googleusercontent.com/a/default-user=s64",
      "userId": "05017758655145019300"
     },
     "user_tz": -540
    },
    "id": "6CeLT4i4silS"
   },
   "outputs": [],
   "source": [
    "BATCH_SIZE = 512\n",
    "train_dataset = tf.data.Dataset.from_tensor_slices((x_train, y_train))\n",
    "train_dataset = train_dataset.batch(BATCH_SIZE).map(tf_preprocess).map(encode_word)\n",
    "train_dataset = train_dataset.shuffle(1000, seed=42).prefetch(buffer_size=tf.data.experimental.AUTOTUNE)"
   ]
  },
  {
   "cell_type": "code",
   "execution_count": 14,
   "metadata": {
    "executionInfo": {
     "elapsed": 381,
     "status": "ok",
     "timestamp": 1632571253431,
     "user": {
      "displayName": "정진우",
      "photoUrl": "https://lh3.googleusercontent.com/a/default-user=s64",
      "userId": "05017758655145019300"
     },
     "user_tz": -540
    },
    "id": "WfKL4WALsipC"
   },
   "outputs": [],
   "source": [
    "embed_size = 200\n",
    "model = keras.models.Sequential([\n",
    "            keras.layers.Embedding(vocab_size + num_oov_buckets, embed_size,\n",
    "                                   input_shape=[None]),\n",
    "            keras.layers.Conv1D(128, 9, activation='relu'),\n",
    "            keras.layers.BatchNormalization(),\n",
    "            keras.layers.Conv1D(128, 9, activation='relu'),\n",
    "            keras.layers.BatchNormalization(),\n",
    "            keras.layers.Conv1D(256, 5, activation='relu'),\n",
    "            keras.layers.GlobalAveragePooling1D(),\n",
    "            keras.layers.Dense(5, activation='softmax')\n",
    "])\n",
    "\n",
    "model.compile(loss='categorical_crossentropy',\n",
    "              optimizer='adam',\n",
    "              metrics=['accuracy'])"
   ]
  },
  {
   "cell_type": "code",
   "execution_count": 16,
   "metadata": {
    "colab": {
     "base_uri": "https://localhost:8080/"
    },
    "executionInfo": {
     "elapsed": 593553,
     "status": "ok",
     "timestamp": 1632571881941,
     "user": {
      "displayName": "정진우",
      "photoUrl": "https://lh3.googleusercontent.com/a/default-user=s64",
      "userId": "05017758655145019300"
     },
     "user_tz": -540
    },
    "id": "69nJE5W7sisr",
    "outputId": "6ff28550-c0d3-45ed-f223-9e1fa1bd4a8d"
   },
   "outputs": [
    {
     "name": "stdout",
     "output_type": "stream",
     "text": [
      "Epoch 1/10\n",
      "108/108 [==============================] - 119s 1s/step - loss: 1.0925 - accuracy: 0.5576\n",
      "Epoch 2/10\n",
      "108/108 [==============================] - 41s 366ms/step - loss: 0.5901 - accuracy: 0.7853\n",
      "Epoch 3/10\n",
      "108/108 [==============================] - 41s 366ms/step - loss: 0.4082 - accuracy: 0.8546\n",
      "Epoch 4/10\n",
      "108/108 [==============================] - 41s 369ms/step - loss: 0.3049 - accuracy: 0.8917\n",
      "Epoch 5/10\n",
      "108/108 [==============================] - 41s 368ms/step - loss: 0.2403 - accuracy: 0.9152\n",
      "Epoch 6/10\n",
      "108/108 [==============================] - 41s 366ms/step - loss: 0.1823 - accuracy: 0.9376\n",
      "Epoch 7/10\n",
      "108/108 [==============================] - 41s 368ms/step - loss: 0.1444 - accuracy: 0.9507\n",
      "Epoch 8/10\n",
      "108/108 [==============================] - 41s 364ms/step - loss: 0.1173 - accuracy: 0.9616\n",
      "Epoch 9/10\n",
      "108/108 [==============================] - 41s 366ms/step - loss: 0.0978 - accuracy: 0.9675\n",
      "Epoch 10/10\n",
      "108/108 [==============================] - 41s 364ms/step - loss: 0.1004 - accuracy: 0.9676\n"
     ]
    }
   ],
   "source": [
    "hist = model.fit(train_dataset, epochs=10)"
   ]
  },
  {
   "cell_type": "code",
   "execution_count": 33,
   "metadata": {
    "executionInfo": {
     "elapsed": 246,
     "status": "ok",
     "timestamp": 1632572318519,
     "user": {
      "displayName": "정진우",
      "photoUrl": "https://lh3.googleusercontent.com/a/default-user=s64",
      "userId": "05017758655145019300"
     },
     "user_tz": -540
    },
    "id": "NUuBbJmk1CT0"
   },
   "outputs": [],
   "source": [
    "# test 용\n",
    "def test_tf_preprocess(X):\n",
    "  X = tf.strings.regex_replace(X, b\"<br\\\\s*/?>\", b\" \")\n",
    "  X = tf.strings.regex_replace(X, b\"[^a-zA-Z']\", b\" \")\n",
    "  X = tf.strings.split(X)\n",
    "  return X.to_tensor(default_value=b\"<pad>\")\n",
    "\n",
    "def test_encode_word(X):\n",
    "  return table.lookup(X)"
   ]
  },
  {
   "cell_type": "code",
   "execution_count": 34,
   "metadata": {
    "executionInfo": {
     "elapsed": 391,
     "status": "ok",
     "timestamp": 1632572319878,
     "user": {
      "displayName": "정진우",
      "photoUrl": "https://lh3.googleusercontent.com/a/default-user=s64",
      "userId": "05017758655145019300"
     },
     "user_tz": -540
    },
    "id": "bjjxSaOV34gq"
   },
   "outputs": [],
   "source": [
    "test_dataset = tf.data.Dataset.from_tensor_slices(test['text'].tolist()).batch(512)\n",
    "test_dataset = test_dataset.map(test_tf_preprocess).map(test_encode_word)"
   ]
  },
  {
   "cell_type": "code",
   "execution_count": 36,
   "metadata": {
    "executionInfo": {
     "elapsed": 20945,
     "status": "ok",
     "timestamp": 1632572343408,
     "user": {
      "displayName": "정진우",
      "photoUrl": "https://lh3.googleusercontent.com/a/default-user=s64",
      "userId": "05017758655145019300"
     },
     "user_tz": -540
    },
    "id": "9jhiqbHP3-56"
   },
   "outputs": [],
   "source": [
    "pred = model.predict(test_dataset)\n",
    "sub.loc[:, :] = pred\n",
    "sub.to_csv('cnn.csv')"
   ]
  },
  {
   "cell_type": "code",
   "execution_count": null,
   "metadata": {
    "id": "fWd9S6YV5aJo"
   },
   "outputs": [],
   "source": []
  }
 ],
 "metadata": {
  "accelerator": "GPU",
  "colab": {
   "authorship_tag": "ABX9TyNQ7oPXWt5dA5DHK8HdE+Ph",
   "name": "simple cnn.ipynb",
   "provenance": []
  },
  "kernelspec": {
   "display_name": "Python 3 (ipykernel)",
   "language": "python",
   "name": "python3"
  },
  "language_info": {
   "codemirror_mode": {
    "name": "ipython",
    "version": 3
   },
   "file_extension": ".py",
   "mimetype": "text/x-python",
   "name": "python",
   "nbconvert_exporter": "python",
   "pygments_lexer": "ipython3",
   "version": "3.8.0"
  }
 },
 "nbformat": 4,
 "nbformat_minor": 1
}
