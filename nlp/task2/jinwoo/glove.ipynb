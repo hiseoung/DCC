{
 "cells": [
  {
   "cell_type": "code",
   "execution_count": 4,
   "metadata": {
    "colab": {
     "base_uri": "https://localhost:8080/"
    },
    "executionInfo": {
     "elapsed": 3135,
     "status": "ok",
     "timestamp": 1633254930887,
     "user": {
      "displayName": "정진우",
      "photoUrl": "https://lh3.googleusercontent.com/a/default-user=s64",
      "userId": "05017758655145019300"
     },
     "user_tz": -540
    },
    "id": "HAdHF4x2kMpX",
    "outputId": "135b064e-b589-4f12-a89d-17a38c46bc24"
   },
   "outputs": [
    {
     "name": "stdout",
     "output_type": "stream",
     "text": [
      "Collecting glove-python-binary\n",
      "  Downloading glove_python_binary-0.2.0-cp37-cp37m-manylinux1_x86_64.whl (948 kB)\n",
      "\u001b[?25l\r",
      "\u001b[K     |▍                               | 10 kB 22.2 MB/s eta 0:00:01\r",
      "\u001b[K     |▊                               | 20 kB 25.3 MB/s eta 0:00:01\r",
      "\u001b[K     |█                               | 30 kB 11.1 MB/s eta 0:00:01\r",
      "\u001b[K     |█▍                              | 40 kB 9.5 MB/s eta 0:00:01\r",
      "\u001b[K     |█▊                              | 51 kB 5.2 MB/s eta 0:00:01\r",
      "\u001b[K     |██                              | 61 kB 5.7 MB/s eta 0:00:01\r",
      "\u001b[K     |██▍                             | 71 kB 5.5 MB/s eta 0:00:01\r",
      "\u001b[K     |██▊                             | 81 kB 6.2 MB/s eta 0:00:01\r",
      "\u001b[K     |███                             | 92 kB 4.7 MB/s eta 0:00:01\r",
      "\u001b[K     |███▌                            | 102 kB 5.1 MB/s eta 0:00:01\r",
      "\u001b[K     |███▉                            | 112 kB 5.1 MB/s eta 0:00:01\r",
      "\u001b[K     |████▏                           | 122 kB 5.1 MB/s eta 0:00:01\r",
      "\u001b[K     |████▌                           | 133 kB 5.1 MB/s eta 0:00:01\r",
      "\u001b[K     |████▉                           | 143 kB 5.1 MB/s eta 0:00:01\r",
      "\u001b[K     |█████▏                          | 153 kB 5.1 MB/s eta 0:00:01\r",
      "\u001b[K     |█████▌                          | 163 kB 5.1 MB/s eta 0:00:01\r",
      "\u001b[K     |█████▉                          | 174 kB 5.1 MB/s eta 0:00:01\r",
      "\u001b[K     |██████▏                         | 184 kB 5.1 MB/s eta 0:00:01\r",
      "\u001b[K     |██████▋                         | 194 kB 5.1 MB/s eta 0:00:01\r",
      "\u001b[K     |███████                         | 204 kB 5.1 MB/s eta 0:00:01\r",
      "\u001b[K     |███████▎                        | 215 kB 5.1 MB/s eta 0:00:01\r",
      "\u001b[K     |███████▋                        | 225 kB 5.1 MB/s eta 0:00:01\r",
      "\u001b[K     |████████                        | 235 kB 5.1 MB/s eta 0:00:01\r",
      "\u001b[K     |████████▎                       | 245 kB 5.1 MB/s eta 0:00:01\r",
      "\u001b[K     |████████▋                       | 256 kB 5.1 MB/s eta 0:00:01\r",
      "\u001b[K     |█████████                       | 266 kB 5.1 MB/s eta 0:00:01\r",
      "\u001b[K     |█████████▎                      | 276 kB 5.1 MB/s eta 0:00:01\r",
      "\u001b[K     |█████████▊                      | 286 kB 5.1 MB/s eta 0:00:01\r",
      "\u001b[K     |██████████                      | 296 kB 5.1 MB/s eta 0:00:01\r",
      "\u001b[K     |██████████▍                     | 307 kB 5.1 MB/s eta 0:00:01\r",
      "\u001b[K     |██████████▊                     | 317 kB 5.1 MB/s eta 0:00:01\r",
      "\u001b[K     |███████████                     | 327 kB 5.1 MB/s eta 0:00:01\r",
      "\u001b[K     |███████████▍                    | 337 kB 5.1 MB/s eta 0:00:01\r",
      "\u001b[K     |███████████▊                    | 348 kB 5.1 MB/s eta 0:00:01\r",
      "\u001b[K     |████████████                    | 358 kB 5.1 MB/s eta 0:00:01\r",
      "\u001b[K     |████████████▍                   | 368 kB 5.1 MB/s eta 0:00:01\r",
      "\u001b[K     |████████████▊                   | 378 kB 5.1 MB/s eta 0:00:01\r",
      "\u001b[K     |█████████████▏                  | 389 kB 5.1 MB/s eta 0:00:01\r",
      "\u001b[K     |█████████████▌                  | 399 kB 5.1 MB/s eta 0:00:01\r",
      "\u001b[K     |█████████████▉                  | 409 kB 5.1 MB/s eta 0:00:01\r",
      "\u001b[K     |██████████████▏                 | 419 kB 5.1 MB/s eta 0:00:01\r",
      "\u001b[K     |██████████████▌                 | 430 kB 5.1 MB/s eta 0:00:01\r",
      "\u001b[K     |██████████████▉                 | 440 kB 5.1 MB/s eta 0:00:01\r",
      "\u001b[K     |███████████████▏                | 450 kB 5.1 MB/s eta 0:00:01\r",
      "\u001b[K     |███████████████▌                | 460 kB 5.1 MB/s eta 0:00:01\r",
      "\u001b[K     |███████████████▉                | 471 kB 5.1 MB/s eta 0:00:01\r",
      "\u001b[K     |████████████████▎               | 481 kB 5.1 MB/s eta 0:00:01\r",
      "\u001b[K     |████████████████▋               | 491 kB 5.1 MB/s eta 0:00:01\r",
      "\u001b[K     |█████████████████               | 501 kB 5.1 MB/s eta 0:00:01\r",
      "\u001b[K     |█████████████████▎              | 512 kB 5.1 MB/s eta 0:00:01\r",
      "\u001b[K     |█████████████████▋              | 522 kB 5.1 MB/s eta 0:00:01\r",
      "\u001b[K     |██████████████████              | 532 kB 5.1 MB/s eta 0:00:01\r",
      "\u001b[K     |██████████████████▎             | 542 kB 5.1 MB/s eta 0:00:01\r",
      "\u001b[K     |██████████████████▋             | 552 kB 5.1 MB/s eta 0:00:01\r",
      "\u001b[K     |███████████████████             | 563 kB 5.1 MB/s eta 0:00:01\r",
      "\u001b[K     |███████████████████▍            | 573 kB 5.1 MB/s eta 0:00:01\r",
      "\u001b[K     |███████████████████▊            | 583 kB 5.1 MB/s eta 0:00:01\r",
      "\u001b[K     |████████████████████            | 593 kB 5.1 MB/s eta 0:00:01\r",
      "\u001b[K     |████████████████████▍           | 604 kB 5.1 MB/s eta 0:00:01\r",
      "\u001b[K     |████████████████████▊           | 614 kB 5.1 MB/s eta 0:00:01\r",
      "\u001b[K     |█████████████████████           | 624 kB 5.1 MB/s eta 0:00:01\r",
      "\u001b[K     |█████████████████████▍          | 634 kB 5.1 MB/s eta 0:00:01\r",
      "\u001b[K     |█████████████████████▊          | 645 kB 5.1 MB/s eta 0:00:01\r",
      "\u001b[K     |██████████████████████          | 655 kB 5.1 MB/s eta 0:00:01\r",
      "\u001b[K     |██████████████████████▌         | 665 kB 5.1 MB/s eta 0:00:01\r",
      "\u001b[K     |██████████████████████▉         | 675 kB 5.1 MB/s eta 0:00:01\r",
      "\u001b[K     |███████████████████████▏        | 686 kB 5.1 MB/s eta 0:00:01\r",
      "\u001b[K     |███████████████████████▌        | 696 kB 5.1 MB/s eta 0:00:01\r",
      "\u001b[K     |███████████████████████▉        | 706 kB 5.1 MB/s eta 0:00:01\r",
      "\u001b[K     |████████████████████████▏       | 716 kB 5.1 MB/s eta 0:00:01\r",
      "\u001b[K     |████████████████████████▌       | 727 kB 5.1 MB/s eta 0:00:01\r",
      "\u001b[K     |████████████████████████▉       | 737 kB 5.1 MB/s eta 0:00:01\r",
      "\u001b[K     |█████████████████████████▏      | 747 kB 5.1 MB/s eta 0:00:01\r",
      "\u001b[K     |█████████████████████████▌      | 757 kB 5.1 MB/s eta 0:00:01\r",
      "\u001b[K     |██████████████████████████      | 768 kB 5.1 MB/s eta 0:00:01\r",
      "\u001b[K     |██████████████████████████▎     | 778 kB 5.1 MB/s eta 0:00:01\r",
      "\u001b[K     |██████████████████████████▋     | 788 kB 5.1 MB/s eta 0:00:01\r",
      "\u001b[K     |███████████████████████████     | 798 kB 5.1 MB/s eta 0:00:01\r",
      "\u001b[K     |███████████████████████████▎    | 808 kB 5.1 MB/s eta 0:00:01\r",
      "\u001b[K     |███████████████████████████▋    | 819 kB 5.1 MB/s eta 0:00:01\r",
      "\u001b[K     |████████████████████████████    | 829 kB 5.1 MB/s eta 0:00:01\r",
      "\u001b[K     |████████████████████████████▎   | 839 kB 5.1 MB/s eta 0:00:01\r",
      "\u001b[K     |████████████████████████████▋   | 849 kB 5.1 MB/s eta 0:00:01\r",
      "\u001b[K     |█████████████████████████████   | 860 kB 5.1 MB/s eta 0:00:01\r",
      "\u001b[K     |█████████████████████████████▍  | 870 kB 5.1 MB/s eta 0:00:01\r",
      "\u001b[K     |█████████████████████████████▊  | 880 kB 5.1 MB/s eta 0:00:01\r",
      "\u001b[K     |██████████████████████████████  | 890 kB 5.1 MB/s eta 0:00:01\r",
      "\u001b[K     |██████████████████████████████▍ | 901 kB 5.1 MB/s eta 0:00:01\r",
      "\u001b[K     |██████████████████████████████▊ | 911 kB 5.1 MB/s eta 0:00:01\r",
      "\u001b[K     |███████████████████████████████ | 921 kB 5.1 MB/s eta 0:00:01\r",
      "\u001b[K     |███████████████████████████████▍| 931 kB 5.1 MB/s eta 0:00:01\r",
      "\u001b[K     |███████████████████████████████▊| 942 kB 5.1 MB/s eta 0:00:01\r",
      "\u001b[K     |████████████████████████████████| 948 kB 5.1 MB/s \n",
      "\u001b[?25hRequirement already satisfied: scipy in /usr/local/lib/python3.7/dist-packages (from glove-python-binary) (1.4.1)\n",
      "Requirement already satisfied: numpy in /usr/local/lib/python3.7/dist-packages (from glove-python-binary) (1.19.5)\n",
      "Installing collected packages: glove-python-binary\n",
      "Successfully installed glove-python-binary-0.2.0\n"
     ]
    }
   ],
   "source": [
    "pip install glove-python-binary"
   ]
  },
  {
   "cell_type": "code",
   "execution_count": 6,
   "metadata": {
    "executionInfo": {
     "elapsed": 619,
     "status": "ok",
     "timestamp": 1633255012460,
     "user": {
      "displayName": "정진우",
      "photoUrl": "https://lh3.googleusercontent.com/a/default-user=s64",
      "userId": "05017758655145019300"
     },
     "user_tz": -540
    },
    "id": "_PK_Ci6skOln"
   },
   "outputs": [],
   "source": [
    "from glove import Corpus, Glove\n",
    "import pandas as pd\n",
    "import pandas as pd\n",
    "import numpy as np\n",
    "import os\n",
    "import matplotlib.pyplot as plt\n",
    "import seaborn as sns\n",
    "import platform"
   ]
  },
  {
   "cell_type": "code",
   "execution_count": 7,
   "metadata": {
    "colab": {
     "base_uri": "https://localhost:8080/"
    },
    "executionInfo": {
     "elapsed": 16896,
     "status": "ok",
     "timestamp": 1633255053183,
     "user": {
      "displayName": "정진우",
      "photoUrl": "https://lh3.googleusercontent.com/a/default-user=s64",
      "userId": "05017758655145019300"
     },
     "user_tz": -540
    },
    "id": "tYAJ9sZ1lANB",
    "outputId": "5e210c2b-d8d2-4bc9-9fd4-b3f551d709e1"
   },
   "outputs": [
    {
     "name": "stdout",
     "output_type": "stream",
     "text": [
      "Mounted at /content/drive\n"
     ]
    }
   ],
   "source": [
    "from google.colab import drive\n",
    "drive.mount('/content/drive')"
   ]
  },
  {
   "cell_type": "code",
   "execution_count": 8,
   "metadata": {
    "executionInfo": {
     "elapsed": 247,
     "status": "ok",
     "timestamp": 1633255057448,
     "user": {
      "displayName": "정진우",
      "photoUrl": "https://lh3.googleusercontent.com/a/default-user=s64",
      "userId": "05017758655145019300"
     },
     "user_tz": -540
    },
    "id": "gDZSSq7UlhQK"
   },
   "outputs": [],
   "source": [
    "path = '/content/drive/MyDrive/데이터크리에이터캠프/nlp/task2/data'"
   ]
  },
  {
   "cell_type": "code",
   "execution_count": 10,
   "metadata": {
    "executionInfo": {
     "elapsed": 1979,
     "status": "ok",
     "timestamp": 1633255117527,
     "user": {
      "displayName": "정진우",
      "photoUrl": "https://lh3.googleusercontent.com/a/default-user=s64",
      "userId": "05017758655145019300"
     },
     "user_tz": -540
    },
    "id": "hwkt5EHqlmW3"
   },
   "outputs": [],
   "source": [
    "train_token_path = os.path.join(path, 'token.csv')\n",
    "train_token = pd.read_csv(train_token_path)"
   ]
  },
  {
   "cell_type": "code",
   "execution_count": 12,
   "metadata": {
    "executionInfo": {
     "elapsed": 264,
     "status": "ok",
     "timestamp": 1633255314778,
     "user": {
      "displayName": "정진우",
      "photoUrl": "https://lh3.googleusercontent.com/a/default-user=s64",
      "userId": "05017758655145019300"
     },
     "user_tz": -540
    },
    "id": "MpLtt6kKmYDd"
   },
   "outputs": [],
   "source": [
    "# 리스트로 변환\n",
    "result = []\n",
    "for title in train_token['title'].tolist():\n",
    "  result.append(title.split(' '))"
   ]
  },
  {
   "cell_type": "code",
   "execution_count": 13,
   "metadata": {
    "executionInfo": {
     "elapsed": 792,
     "status": "ok",
     "timestamp": 1633255322560,
     "user": {
      "displayName": "정진우",
      "photoUrl": "https://lh3.googleusercontent.com/a/default-user=s64",
      "userId": "05017758655145019300"
     },
     "user_tz": -540
    },
    "id": "t5kX669jlygw"
   },
   "outputs": [],
   "source": [
    "# 동시 등장행렬 생성\n",
    "corpus = Corpus() \n",
    "corpus.fit(result, window=5)"
   ]
  },
  {
   "cell_type": "code",
   "execution_count": 14,
   "metadata": {
    "colab": {
     "base_uri": "https://localhost:8080/"
    },
    "executionInfo": {
     "elapsed": 30164,
     "status": "ok",
     "timestamp": 1633255365632,
     "user": {
      "displayName": "정진우",
      "photoUrl": "https://lh3.googleusercontent.com/a/default-user=s64",
      "userId": "05017758655145019300"
     },
     "user_tz": -540
    },
    "id": "aOh8rzCFmOgH",
    "outputId": "878079b8-b615-48b5-c866-eba0447e02bd"
   },
   "outputs": [
    {
     "name": "stdout",
     "output_type": "stream",
     "text": [
      "Performing 20 training epochs with 4 threads\n",
      "Epoch 0\n",
      "Epoch 1\n",
      "Epoch 2\n",
      "Epoch 3\n",
      "Epoch 4\n",
      "Epoch 5\n",
      "Epoch 6\n",
      "Epoch 7\n",
      "Epoch 8\n",
      "Epoch 9\n",
      "Epoch 10\n",
      "Epoch 11\n",
      "Epoch 12\n",
      "Epoch 13\n",
      "Epoch 14\n",
      "Epoch 15\n",
      "Epoch 16\n",
      "Epoch 17\n",
      "Epoch 18\n",
      "Epoch 19\n"
     ]
    }
   ],
   "source": [
    "# glove fit\n",
    "glove = Glove(no_components=100, learning_rate=0.05)\n",
    "glove.fit(corpus.matrix, epochs=20, no_threads=4, verbose=True)\n",
    "glove.add_dictionary(corpus.dictionary)"
   ]
  },
  {
   "cell_type": "code",
   "execution_count": 16,
   "metadata": {
    "colab": {
     "base_uri": "https://localhost:8080/"
    },
    "executionInfo": {
     "elapsed": 244,
     "status": "ok",
     "timestamp": 1633255441010,
     "user": {
      "displayName": "정진우",
      "photoUrl": "https://lh3.googleusercontent.com/a/default-user=s64",
      "userId": "05017758655145019300"
     },
     "user_tz": -540
    },
    "id": "Wm1zroEemqMv",
    "outputId": "9db0e949-38d8-4f49-cae3-820e633ac231"
   },
   "outputs": [
    {
     "data": {
      "text/plain": [
       "[('갤럽', 0.8631556418532801),\n",
       " ('국가', 0.8302983065236597),\n",
       " ('한반도', 0.8157477474041622),\n",
       " ('vs', 0.8143689351527523)]"
      ]
     },
     "execution_count": 16,
     "metadata": {},
     "output_type": "execute_result"
    }
   ],
   "source": [
    "glove.most_similar(\"경제\")"
   ]
  },
  {
   "cell_type": "code",
   "execution_count": 17,
   "metadata": {
    "colab": {
     "base_uri": "https://localhost:8080/"
    },
    "executionInfo": {
     "elapsed": 242,
     "status": "ok",
     "timestamp": 1633255462383,
     "user": {
      "displayName": "정진우",
      "photoUrl": "https://lh3.googleusercontent.com/a/default-user=s64",
      "userId": "05017758655145019300"
     },
     "user_tz": -540
    },
    "id": "fysHZ_hmnCjW",
    "outputId": "999aa503-8803-48b5-d559-c62d13ab5fc3"
   },
   "outputs": [
    {
     "data": {
      "text/plain": [
       "[('류현진', 0.863890116244378),\n",
       " ('다저스', 0.8514730831722269),\n",
       " ('신태용', 0.8305878665735039),\n",
       " ('앞둔', 0.8127397239443865)]"
      ]
     },
     "execution_count": 17,
     "metadata": {},
     "output_type": "execute_result"
    }
   ],
   "source": [
    "glove.most_similar(\"손흥민\")"
   ]
  },
  {
   "cell_type": "code",
   "execution_count": 18,
   "metadata": {
    "colab": {
     "base_uri": "https://localhost:8080/"
    },
    "executionInfo": {
     "elapsed": 238,
     "status": "ok",
     "timestamp": 1633255472689,
     "user": {
      "displayName": "정진우",
      "photoUrl": "https://lh3.googleusercontent.com/a/default-user=s64",
      "userId": "05017758655145019300"
     },
     "user_tz": -540
    },
    "id": "NN2f7IWrnJN7",
    "outputId": "3e2ae78d-56d0-44b0-bab9-355248e3cc32"
   },
   "outputs": [
    {
     "data": {
      "text/plain": [
       "[('∼', 0.8527744718243793),\n",
       " ('개사', 0.8460770218563616),\n",
       " ('월간', 0.843900622530052),\n",
       " ('부양', 0.8388671524789458)]"
      ]
     },
     "execution_count": 18,
     "metadata": {},
     "output_type": "execute_result"
    }
   ],
   "source": [
    "glove.most_similar(\"인천\")"
   ]
  },
  {
   "cell_type": "code",
   "execution_count": 19,
   "metadata": {
    "colab": {
     "base_uri": "https://localhost:8080/"
    },
    "executionInfo": {
     "elapsed": 263,
     "status": "ok",
     "timestamp": 1633255596094,
     "user": {
      "displayName": "정진우",
      "photoUrl": "https://lh3.googleusercontent.com/a/default-user=s64",
      "userId": "05017758655145019300"
     },
     "user_tz": -540
    },
    "id": "6O38O48BnLvI",
    "outputId": "4ad90525-86ac-41a5-9cea-e52bec9009c7"
   },
   "outputs": [
    {
     "data": {
      "text/plain": [
       "[('지주', 0.9517090629252453),\n",
       " ('하나', 0.8272136323151703),\n",
       " ('금투', 0.7819687887845292),\n",
       " ('당국', 0.7807410733044073)]"
      ]
     },
     "execution_count": 19,
     "metadata": {},
     "output_type": "execute_result"
    }
   ],
   "source": [
    "glove.most_similar(\"금융\")"
   ]
  },
  {
   "cell_type": "code",
   "execution_count": 20,
   "metadata": {
    "colab": {
     "base_uri": "https://localhost:8080/"
    },
    "executionInfo": {
     "elapsed": 249,
     "status": "ok",
     "timestamp": 1633256004114,
     "user": {
      "displayName": "정진우",
      "photoUrl": "https://lh3.googleusercontent.com/a/default-user=s64",
      "userId": "05017758655145019300"
     },
     "user_tz": -540
    },
    "id": "oz7nRfM8np25",
    "outputId": "9c2866c7-ab0a-4231-8aa4-8b638f11872e"
   },
   "outputs": [
    {
     "data": {
      "text/plain": [
       "[('중국', 0.9134340574151175),\n",
       " ('인민일보', 0.8898669462360247),\n",
       " ('텍사스', 0.8747447990541868),\n",
       " ('中', 0.860141871142194)]"
      ]
     },
     "execution_count": 20,
     "metadata": {},
     "output_type": "execute_result"
    }
   ],
   "source": [
    "glove.most_similar(\"미국\")"
   ]
  },
  {
   "cell_type": "code",
   "execution_count": null,
   "metadata": {
    "id": "vqS4d4iUpNeQ"
   },
   "outputs": [],
   "source": []
  }
 ],
 "metadata": {
  "colab": {
   "authorship_tag": "ABX9TyNwsxRm5Xpqn4bCnHNdUUuA",
   "collapsed_sections": [],
   "name": "glove.ipynb",
   "provenance": []
  },
  "kernelspec": {
   "display_name": "Python 3 (ipykernel)",
   "language": "python",
   "name": "python3"
  },
  "language_info": {
   "codemirror_mode": {
    "name": "ipython",
    "version": 3
   },
   "file_extension": ".py",
   "mimetype": "text/x-python",
   "name": "python",
   "nbconvert_exporter": "python",
   "pygments_lexer": "ipython3",
   "version": "3.7.0"
  }
 },
 "nbformat": 4,
 "nbformat_minor": 1
}
