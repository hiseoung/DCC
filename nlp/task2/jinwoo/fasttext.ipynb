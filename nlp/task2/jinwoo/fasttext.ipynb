{
 "cells": [
  {
   "cell_type": "code",
   "execution_count": 20,
   "id": "740ecb6d",
   "metadata": {},
   "outputs": [],
   "source": [
    "import pandas as pd\n",
    "import numpy as np\n",
    "from gensim.models import FastText\n",
    "import re\n",
    "import os\n",
    "import matplotlib.pyplot as plt\n",
    "import seaborn as sns\n",
    "import platform\n",
    "from tensorflow.keras.preprocessing.text import Tokenizer\n",
    "from tensorflow.keras.preprocessing.sequence import pad_sequences"
   ]
  },
  {
   "cell_type": "code",
   "execution_count": 2,
   "id": "e5a069fa",
   "metadata": {},
   "outputs": [],
   "source": [
    "if platform.system() == 'Darwin': #맥\n",
    "        plt.rc('font', family='AppleGothic')\n",
    "elif platform.system() == 'Windows': #윈도우\n",
    "        plt.rc('font', family='Malgun Gothic')\n",
    "elif platform.system() == 'Linux': #리눅스 (구글 콜랩)\n",
    "        #!wget \"https://www.wfonts.com/download/data/2016/06/13/malgun-gothic/malgun.ttf\"\n",
    "        #!mv malgun.ttf /usr/share/fonts/truetype/\n",
    "        #import matplotlib.font_manager as fm\n",
    "        #fm._rebuild()\n",
    "        plt.rc('font', family='Malgun Gothic')\n",
    "plt.rcParams['axes.unicode_minus'] = False #한글 폰트 사용시 마이너스 폰트 깨짐 해결\n",
    "#matplotlib 패키지 한글 깨짐 처리 끝"
   ]
  },
  {
   "cell_type": "code",
   "execution_count": 3,
   "id": "61040da9",
   "metadata": {},
   "outputs": [],
   "source": [
    "data_path = '../../../data/뉴스'\n",
    "\n",
    "train_token_path = os.path.join(data_path, 'token.csv')\n",
    "test_token_path = os.path.join(data_path, 'test_token.csv')\n",
    "\n",
    "train_token = pd.read_csv(train_token_path)\n",
    "test_token = pd.read_csv(test_token_path)"
   ]
  },
  {
   "cell_type": "code",
   "execution_count": 4,
   "id": "93249a31",
   "metadata": {},
   "outputs": [],
   "source": [
    "# 리스트로 변환\n",
    "tokenize_data = []\n",
    "for sentence in train_token['title'].tolist():\n",
    "    tokenize_data.append(sentence.split(' '))"
   ]
  },
  {
   "cell_type": "code",
   "execution_count": 32,
   "id": "9094d9ee",
   "metadata": {},
   "outputs": [],
   "source": [
    "def preprocessing(x, reg=r'[^\\d가-힣a-zA-Z ]'):\n",
    "    x = re.sub(reg, '', x)\n",
    "\n",
    "    return x"
   ]
  },
  {
   "cell_type": "code",
   "execution_count": 33,
   "id": "7350890f",
   "metadata": {},
   "outputs": [
    {
     "data": {
      "text/plain": [
       "'인천  핀란드 항공기 결항 휴가 철 여행객 분통'"
      ]
     },
     "execution_count": 33,
     "metadata": {},
     "output_type": "execute_result"
    }
   ],
   "source": [
    "preprocessing(train_token['title'].tolist()[0])"
   ]
  },
  {
   "cell_type": "code",
   "execution_count": 30,
   "id": "756ff9d9",
   "metadata": {},
   "outputs": [
    {
     "data": {
      "text/plain": [
       "'인천 → 핀란드 항공기 결항 휴가 철 여행객 분통'"
      ]
     },
     "execution_count": 30,
     "metadata": {},
     "output_type": "execute_result"
    }
   ],
   "source": [
    "train_token['title'].tolist()[0]"
   ]
  },
  {
   "cell_type": "code",
   "execution_count": 31,
   "id": "c5e6fa8b",
   "metadata": {},
   "outputs": [
    {
     "data": {
      "text/plain": [
       "0                   인천  핀란드 항공기 결항 휴가 철 여행객 분통\n",
       "1              실리콘밸리 넘어서겠다 구글 15조원 들여  전역 거점 화\n",
       "2              이란 외무 긴장 완화 해결 책 미국 경제 전쟁 멈추는 것\n",
       "3         NYT 클린턴 측근  기업 특수 관계 조명 공과 사 맞 물려 종합\n",
       "4                    시진핑 트럼프 중미 무역 협상 조속 타결 희망\n",
       "                         ...                  \n",
       "45649             KB 금융 미국 IB 스티펠 제휴 선진국 시장 공략\n",
       "45650        1 보 서울시 교육청 신종 코로나 확산 개학 연기 휴업 검토\n",
       "45651          게시판 키움 증권 2020 키움 영웅 전 실전 투자 대회\n",
       "45652                   답변 하는 배 기동 국립 중앙 박물관 장\n",
       "45653    2020 한국 인터넷 기자 상 시상식 내달 1일 개최 특별상 김성후\n",
       "Name: title, Length: 45654, dtype: object"
      ]
     },
     "execution_count": 31,
     "metadata": {},
     "output_type": "execute_result"
    }
   ],
   "source": [
    "train_token['title'].apply(preprocessing)"
   ]
  },
  {
   "cell_type": "code",
   "execution_count": 5,
   "id": "69689d95",
   "metadata": {},
   "outputs": [],
   "source": [
    "# fasttext fit\n",
    "model = FastText(tokenize_data, window=5, min_count=5, workers=4, sg=1)"
   ]
  },
  {
   "cell_type": "code",
   "execution_count": 6,
   "id": "a2ba36ba",
   "metadata": {},
   "outputs": [],
   "source": [
    "def make_token_and_tokenizer(text, max_len=100, oov=None, num_words=None, pad_option='post'):\n",
    "    tokenizer = Tokenizer(num_words=num_words, oov_token=oov)\n",
    "    tokenizer.fit_on_texts(text)\n",
    "    token_index = tokenizer.texts_to_sequences(text)\n",
    "    vocab_size = len(tokenizer.word_index) + 1\n",
    "    token_index = pad_sequences(token_index, maxlen=max_len, padding=pad_option, truncating=pad_option)\n",
    "\n",
    "    return token_index, vocab_size, tokenizer\n",
    "\n",
    "\n",
    "def make_embedding_matrix(word_dict, model, vocab_size, embedding_size=100):\n",
    "    embedding_matrix = np.zeros((vocab_size, embedding_size))\n",
    "\n",
    "    for word, index in word_dict.items():\n",
    "        embedding_matrix[index] = model.wv[word]\n",
    "\n",
    "    return np.array(embedding_matrix)"
   ]
  },
  {
   "cell_type": "code",
   "execution_count": 7,
   "id": "daaabe84",
   "metadata": {},
   "outputs": [],
   "source": [
    "token_index, vocab_size, tokenizer = make_token_and_tokenizer(train_token['title'].tolist(), num_words=5)"
   ]
  },
  {
   "cell_type": "code",
   "execution_count": 11,
   "id": "5706266d",
   "metadata": {},
   "outputs": [
    {
     "data": {
      "text/plain": [
       "array([-2.34000653e-01, -1.48438901e-01, -8.46140385e-02,  4.08726722e-01,\n",
       "       -2.35203832e-01,  2.06076339e-01, -1.69520497e-01,  4.17405605e-01,\n",
       "       -1.22278109e-01, -1.82890862e-01, -8.99545178e-02, -3.32807004e-01,\n",
       "        1.58818513e-01, -1.71533033e-01, -1.73078328e-01, -3.60920876e-02,\n",
       "        1.46059722e-01, -2.64962375e-01,  2.76981056e-01, -2.12057084e-01,\n",
       "        1.23996824e-01, -2.02850312e-01,  1.10532055e-02, -2.19364762e-01,\n",
       "       -2.56515414e-01,  8.59668851e-01, -3.13659430e-01,  7.36804903e-02,\n",
       "       -2.25314453e-01, -2.31257945e-01, -8.58191401e-02,  6.03953702e-03,\n",
       "        4.70048070e-01, -1.91677377e-01, -2.42605045e-01, -6.42967671e-02,\n",
       "        3.41128469e-01, -4.24498171e-01, -1.80519283e-01, -1.19330727e-01,\n",
       "       -2.24605724e-01, -5.08240834e-02, -1.41700879e-01,  1.39267474e-01,\n",
       "       -3.44296172e-02,  2.10596412e-01,  1.89147994e-01, -2.41610587e-01,\n",
       "        4.20441806e-01, -8.15321654e-02, -1.22011870e-01, -1.79017380e-01,\n",
       "       -5.33852696e-01,  3.95513654e-01,  8.54281932e-02, -2.43734587e-02,\n",
       "        5.19517779e-01, -2.97918916e-01, -1.64622068e-02,  8.06037486e-01,\n",
       "        1.69724211e-01, -1.77467033e-01,  2.94390380e-01, -5.53308725e-02,\n",
       "        3.25587928e-01,  2.13579625e-01,  5.09533167e-01,  7.56173395e-04,\n",
       "        2.23789155e-01,  3.12643737e-01, -8.36953521e-04,  1.81593776e-01,\n",
       "        3.05419385e-01,  9.75784063e-02, -1.48647949e-01, -3.60411704e-01,\n",
       "       -5.60661033e-02, -9.48498249e-02, -3.31539512e-01, -1.94411635e-01,\n",
       "       -1.24753654e-01,  2.81669706e-01, -8.29455554e-02, -4.34483290e-02,\n",
       "       -9.90129709e-02, -7.90250003e-02, -1.26617670e-01, -2.37036608e-02,\n",
       "        3.99198204e-01, -3.26313943e-01,  7.82215446e-02,  1.79769322e-02,\n",
       "        4.29575592e-02, -1.64946660e-01,  3.04792732e-01,  2.28204466e-02,\n",
       "       -2.03477174e-01, -2.62106270e-01,  1.39140800e-01,  4.75105077e-01])"
      ]
     },
     "execution_count": 11,
     "metadata": {},
     "output_type": "execute_result"
    }
   ],
   "source": [
    "embedding_matrix = make_embedding_matrix(tokenizer.word_index, model, vocab_size)\n",
    "embedding_matrix[1]"
   ]
  },
  {
   "cell_type": "code",
   "execution_count": 15,
   "id": "1c34685e",
   "metadata": {},
   "outputs": [
    {
     "data": {
      "text/plain": [
       "array([-0.46987399,  0.11404312, -0.12749296, -0.07105628, -0.38162771,\n",
       "       -0.37322485, -0.066191  ,  0.33457598, -0.24870729, -0.03607721,\n",
       "        0.0576367 , -0.17725083,  0.12323913,  0.14855817,  0.0374545 ,\n",
       "       -0.25264937,  0.21855438, -0.24384964,  0.02618166,  0.0173444 ,\n",
       "        0.1427622 , -0.13877352, -0.00180056, -0.13860919, -0.26955086,\n",
       "        0.20427953, -0.35139984, -0.08637713,  0.05299949, -0.10124034,\n",
       "        0.16792449, -0.26216951,  0.33024561, -0.05227954, -0.22807267,\n",
       "        0.37810633,  0.27609929, -0.06432895,  0.29060668,  0.25452116,\n",
       "       -0.00603123, -0.45129418, -0.07700988,  0.17995019, -0.1181601 ,\n",
       "        0.24631879,  0.17428289,  0.29237244, -0.09337172,  0.20880966,\n",
       "        0.17561908, -0.13826071, -0.03798177, -0.1293499 , -0.28957424,\n",
       "        0.02757886,  0.27273509,  0.00143139, -0.27437136,  0.26441479,\n",
       "        0.05669692, -0.22543986,  0.00256754,  0.02733808, -0.03141342,\n",
       "        0.02034145,  0.28932109,  0.01002217,  0.11553812,  0.35168669,\n",
       "       -0.12732469,  0.12192532,  0.28734735,  0.14761709,  0.05615305,\n",
       "        0.16070102, -0.1760129 , -0.13942409, -0.20955174, -0.04231741,\n",
       "       -0.25771773,  0.16660079, -0.15130924, -0.05568656, -0.27168053,\n",
       "       -0.27290672, -0.17343903, -0.27174145,  0.2006074 ,  0.02715269,\n",
       "        0.27887306,  0.1520137 ,  0.07287041, -0.05236959, -0.05777543,\n",
       "        0.25933734, -0.12775673, -0.0916697 , -0.20362765,  0.24492356])"
      ]
     },
     "execution_count": 15,
     "metadata": {},
     "output_type": "execute_result"
    }
   ],
   "source": [
    "embedding_matrix[2]"
   ]
  },
  {
   "cell_type": "code",
   "execution_count": 14,
   "id": "2aac5423",
   "metadata": {},
   "outputs": [
    {
     "data": {
      "text/plain": [
       "array([-2.34000653e-01, -1.48438901e-01, -8.46140385e-02,  4.08726722e-01,\n",
       "       -2.35203832e-01,  2.06076339e-01, -1.69520497e-01,  4.17405605e-01,\n",
       "       -1.22278109e-01, -1.82890862e-01, -8.99545178e-02, -3.32807004e-01,\n",
       "        1.58818513e-01, -1.71533033e-01, -1.73078328e-01, -3.60920876e-02,\n",
       "        1.46059722e-01, -2.64962375e-01,  2.76981056e-01, -2.12057084e-01,\n",
       "        1.23996824e-01, -2.02850312e-01,  1.10532055e-02, -2.19364762e-01,\n",
       "       -2.56515414e-01,  8.59668851e-01, -3.13659430e-01,  7.36804903e-02,\n",
       "       -2.25314453e-01, -2.31257945e-01, -8.58191401e-02,  6.03953702e-03,\n",
       "        4.70048070e-01, -1.91677377e-01, -2.42605045e-01, -6.42967671e-02,\n",
       "        3.41128469e-01, -4.24498171e-01, -1.80519283e-01, -1.19330727e-01,\n",
       "       -2.24605724e-01, -5.08240834e-02, -1.41700879e-01,  1.39267474e-01,\n",
       "       -3.44296172e-02,  2.10596412e-01,  1.89147994e-01, -2.41610587e-01,\n",
       "        4.20441806e-01, -8.15321654e-02, -1.22011870e-01, -1.79017380e-01,\n",
       "       -5.33852696e-01,  3.95513654e-01,  8.54281932e-02, -2.43734587e-02,\n",
       "        5.19517779e-01, -2.97918916e-01, -1.64622068e-02,  8.06037486e-01,\n",
       "        1.69724211e-01, -1.77467033e-01,  2.94390380e-01, -5.53308725e-02,\n",
       "        3.25587928e-01,  2.13579625e-01,  5.09533167e-01,  7.56173395e-04,\n",
       "        2.23789155e-01,  3.12643737e-01, -8.36953521e-04,  1.81593776e-01,\n",
       "        3.05419385e-01,  9.75784063e-02, -1.48647949e-01, -3.60411704e-01,\n",
       "       -5.60661033e-02, -9.48498249e-02, -3.31539512e-01, -1.94411635e-01,\n",
       "       -1.24753654e-01,  2.81669706e-01, -8.29455554e-02, -4.34483290e-02,\n",
       "       -9.90129709e-02, -7.90250003e-02, -1.26617670e-01, -2.37036608e-02,\n",
       "        3.99198204e-01, -3.26313943e-01,  7.82215446e-02,  1.79769322e-02,\n",
       "        4.29575592e-02, -1.64946660e-01,  3.04792732e-01,  2.28204466e-02,\n",
       "       -2.03477174e-01, -2.62106270e-01,  1.39140800e-01,  4.75105077e-01],\n",
       "      dtype=float32)"
      ]
     },
     "execution_count": 14,
     "metadata": {},
     "output_type": "execute_result"
    }
   ],
   "source": [
    "model.wv['종합']"
   ]
  },
  {
   "cell_type": "code",
   "execution_count": 7,
   "id": "259b2b6f",
   "metadata": {},
   "outputs": [
    {
     "data": {
      "text/plain": [
       "[('경제위기', 0.8050490021705627),\n",
       " ('대외', 0.8042980432510376),\n",
       " ('경제정책', 0.7995499968528748),\n",
       " ('경제학', 0.7953577637672424),\n",
       " ('관계', 0.783466100692749),\n",
       " ('성과', 0.7813449501991272),\n",
       " ('우호', 0.7750430703163147),\n",
       " ('자유무역', 0.7726960182189941),\n",
       " ('강조', 0.7656141519546509),\n",
       " ('시장경제', 0.7585611343383789)]"
      ]
     },
     "execution_count": 7,
     "metadata": {},
     "output_type": "execute_result"
    }
   ],
   "source": [
    "model.wv.most_similar(\"경제\")"
   ]
  },
  {
   "cell_type": "code",
   "execution_count": 8,
   "id": "29a4c4f2",
   "metadata": {},
   "outputs": [
    {
     "data": {
      "text/plain": [
       "[('기성용', 0.9182633757591248),\n",
       " ('토트넘', 0.9130188822746277),\n",
       " ('차범근', 0.9050355553627014),\n",
       " ('황희', 0.9038408994674683),\n",
       " ('이승우', 0.9028437733650208),\n",
       " ('EPL', 0.8941956758499146),\n",
       " ('태극전사', 0.8891777396202087),\n",
       " ('첼시', 0.8862379193305969),\n",
       " ('맨시티', 0.8860947489738464),\n",
       " ('유니폼', 0.8833632469177246)]"
      ]
     },
     "execution_count": 8,
     "metadata": {},
     "output_type": "execute_result"
    }
   ],
   "source": [
    "model.wv.most_similar(\"손흥민\")"
   ]
  },
  {
   "cell_type": "code",
   "execution_count": 9,
   "id": "f592eee5",
   "metadata": {},
   "outputs": [
    {
     "data": {
      "text/plain": [
       "[('울산', 0.8596231341362),\n",
       " ('남양주', 0.8474705815315247),\n",
       " ('대구', 0.8407805562019348),\n",
       " ('공원', 0.8297332525253296),\n",
       " ('전남', 0.8254337310791016),\n",
       " ('안산', 0.8251743316650391),\n",
       " ('청주', 0.8097084760665894),\n",
       " ('충남', 0.8093366026878357),\n",
       " ('경남', 0.8083070516586304),\n",
       " ('호우경보', 0.803193211555481)]"
      ]
     },
     "execution_count": 9,
     "metadata": {},
     "output_type": "execute_result"
    }
   ],
   "source": [
    "model.wv.most_similar(\"인천\")"
   ]
  },
  {
   "cell_type": "code",
   "execution_count": 10,
   "id": "fe18e934",
   "metadata": {},
   "outputs": [
    {
     "data": {
      "text/plain": [
       "[('금융위', 0.8594071865081787),\n",
       " ('금융업', 0.833926796913147),\n",
       " ('금감원', 0.7757264971733093),\n",
       " ('금융투자', 0.7727395296096802),\n",
       " ('은행', 0.7718164324760437),\n",
       " ('DLF', 0.7582404017448425),\n",
       " ('硏', 0.7555417418479919),\n",
       " ('금융기관', 0.7493996024131775),\n",
       " ('운용', 0.7489657998085022),\n",
       " ('BNK', 0.7481409311294556)]"
      ]
     },
     "execution_count": 10,
     "metadata": {},
     "output_type": "execute_result"
    }
   ],
   "source": [
    "model.wv.most_similar(\"금융\")"
   ]
  },
  {
   "cell_type": "code",
   "execution_count": 11,
   "id": "a223dd81",
   "metadata": {},
   "outputs": [
    {
     "data": {
      "text/plain": [
       "[('이어', 0.7200479507446289),\n",
       " ('화웨이', 0.718909740447998),\n",
       " ('중동', 0.7131580710411072),\n",
       " ('중미', 0.7122350931167603),\n",
       " ('뿔', 0.7111219763755798),\n",
       " ('주일', 0.7075144648551941),\n",
       " ('對', 0.7072343230247498),\n",
       " ('전쟁', 0.7063120603561401),\n",
       " ('美', 0.7060495615005493),\n",
       " ('푸틴', 0.7006589770317078)]"
      ]
     },
     "execution_count": 11,
     "metadata": {},
     "output_type": "execute_result"
    }
   ],
   "source": [
    "model.wv.most_similar(\"미국\")"
   ]
  },
  {
   "cell_type": "code",
   "execution_count": null,
   "id": "b8dec12b",
   "metadata": {},
   "outputs": [],
   "source": []
  }
 ],
 "metadata": {
  "kernelspec": {
   "display_name": "DCC",
   "language": "python",
   "name": "dcc"
  },
  "language_info": {
   "codemirror_mode": {
    "name": "ipython",
    "version": 3
   },
   "file_extension": ".py",
   "mimetype": "text/x-python",
   "name": "python",
   "nbconvert_exporter": "python",
   "pygments_lexer": "ipython3",
   "version": "3.7.0"
  }
 },
 "nbformat": 4,
 "nbformat_minor": 5
}
