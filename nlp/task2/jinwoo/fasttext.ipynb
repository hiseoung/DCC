{
 "cells": [
  {
   "cell_type": "code",
   "execution_count": 1,
   "id": "740ecb6d",
   "metadata": {},
   "outputs": [],
   "source": [
    "import pandas as pd\n",
    "import numpy as np\n",
    "from gensim.models import FastText\n",
    "import os\n",
    "import matplotlib.pyplot as plt\n",
    "import seaborn as sns\n",
    "import platform"
   ]
  },
  {
   "cell_type": "code",
   "execution_count": 2,
   "id": "e5a069fa",
   "metadata": {},
   "outputs": [],
   "source": [
    "if platform.system() == 'Darwin': #맥\n",
    "        plt.rc('font', family='AppleGothic')\n",
    "elif platform.system() == 'Windows': #윈도우\n",
    "        plt.rc('font', family='Malgun Gothic')\n",
    "elif platform.system() == 'Linux': #리눅스 (구글 콜랩)\n",
    "        #!wget \"https://www.wfonts.com/download/data/2016/06/13/malgun-gothic/malgun.ttf\"\n",
    "        #!mv malgun.ttf /usr/share/fonts/truetype/\n",
    "        #import matplotlib.font_manager as fm\n",
    "        #fm._rebuild()\n",
    "        plt.rc('font', family='Malgun Gothic')\n",
    "plt.rcParams['axes.unicode_minus'] = False #한글 폰트 사용시 마이너스 폰트 깨짐 해결\n",
    "#matplotlib 패키지 한글 깨짐 처리 끝"
   ]
  },
  {
   "cell_type": "code",
   "execution_count": 3,
   "id": "61040da9",
   "metadata": {},
   "outputs": [],
   "source": [
    "data_path = '../../../data/뉴스'\n",
    "\n",
    "train_token_path = os.path.join(data_path, 'token.csv')\n",
    "test_token_path = os.path.join(data_path, 'test_token.csv')\n",
    "\n",
    "train_token = pd.read_csv(train_token_path)\n",
    "test_token = pd.read_csv(test_token_path)"
   ]
  },
  {
   "cell_type": "code",
   "execution_count": 4,
   "id": "93249a31",
   "metadata": {},
   "outputs": [],
   "source": [
    "# 리스트로 변환\n",
    "tokenize_data = []\n",
    "for sentence in train_token['title'].tolist():\n",
    "    tokenize_data.append(sentence.split(' '))"
   ]
  },
  {
   "cell_type": "code",
   "execution_count": 6,
   "id": "69689d95",
   "metadata": {},
   "outputs": [],
   "source": [
    "# fasttext fit\n",
    "model = FastText(tokenize_data, window=5, min_count=5, workers=4, sg=1)"
   ]
  },
  {
   "cell_type": "code",
   "execution_count": 7,
   "id": "259b2b6f",
   "metadata": {},
   "outputs": [
    {
     "data": {
      "text/plain": [
       "[('경제위기', 0.8050490021705627),\n",
       " ('대외', 0.8042980432510376),\n",
       " ('경제정책', 0.7995499968528748),\n",
       " ('경제학', 0.7953577637672424),\n",
       " ('관계', 0.783466100692749),\n",
       " ('성과', 0.7813449501991272),\n",
       " ('우호', 0.7750430703163147),\n",
       " ('자유무역', 0.7726960182189941),\n",
       " ('강조', 0.7656141519546509),\n",
       " ('시장경제', 0.7585611343383789)]"
      ]
     },
     "execution_count": 7,
     "metadata": {},
     "output_type": "execute_result"
    }
   ],
   "source": [
    "model.wv.most_similar(\"경제\")"
   ]
  },
  {
   "cell_type": "code",
   "execution_count": 8,
   "id": "29a4c4f2",
   "metadata": {},
   "outputs": [
    {
     "data": {
      "text/plain": [
       "[('기성용', 0.9182633757591248),\n",
       " ('토트넘', 0.9130188822746277),\n",
       " ('차범근', 0.9050355553627014),\n",
       " ('황희', 0.9038408994674683),\n",
       " ('이승우', 0.9028437733650208),\n",
       " ('EPL', 0.8941956758499146),\n",
       " ('태극전사', 0.8891777396202087),\n",
       " ('첼시', 0.8862379193305969),\n",
       " ('맨시티', 0.8860947489738464),\n",
       " ('유니폼', 0.8833632469177246)]"
      ]
     },
     "execution_count": 8,
     "metadata": {},
     "output_type": "execute_result"
    }
   ],
   "source": [
    "model.wv.most_similar(\"손흥민\")"
   ]
  },
  {
   "cell_type": "code",
   "execution_count": 9,
   "id": "f592eee5",
   "metadata": {},
   "outputs": [
    {
     "data": {
      "text/plain": [
       "[('울산', 0.8596231341362),\n",
       " ('남양주', 0.8474705815315247),\n",
       " ('대구', 0.8407805562019348),\n",
       " ('공원', 0.8297332525253296),\n",
       " ('전남', 0.8254337310791016),\n",
       " ('안산', 0.8251743316650391),\n",
       " ('청주', 0.8097084760665894),\n",
       " ('충남', 0.8093366026878357),\n",
       " ('경남', 0.8083070516586304),\n",
       " ('호우경보', 0.803193211555481)]"
      ]
     },
     "execution_count": 9,
     "metadata": {},
     "output_type": "execute_result"
    }
   ],
   "source": [
    "model.wv.most_similar(\"인천\")"
   ]
  },
  {
   "cell_type": "code",
   "execution_count": 10,
   "id": "fe18e934",
   "metadata": {},
   "outputs": [
    {
     "data": {
      "text/plain": [
       "[('금융위', 0.8594071865081787),\n",
       " ('금융업', 0.833926796913147),\n",
       " ('금감원', 0.7757264971733093),\n",
       " ('금융투자', 0.7727395296096802),\n",
       " ('은행', 0.7718164324760437),\n",
       " ('DLF', 0.7582404017448425),\n",
       " ('硏', 0.7555417418479919),\n",
       " ('금융기관', 0.7493996024131775),\n",
       " ('운용', 0.7489657998085022),\n",
       " ('BNK', 0.7481409311294556)]"
      ]
     },
     "execution_count": 10,
     "metadata": {},
     "output_type": "execute_result"
    }
   ],
   "source": [
    "model.wv.most_similar(\"금융\")"
   ]
  },
  {
   "cell_type": "code",
   "execution_count": 11,
   "id": "a223dd81",
   "metadata": {},
   "outputs": [
    {
     "data": {
      "text/plain": [
       "[('이어', 0.7200479507446289),\n",
       " ('화웨이', 0.718909740447998),\n",
       " ('중동', 0.7131580710411072),\n",
       " ('중미', 0.7122350931167603),\n",
       " ('뿔', 0.7111219763755798),\n",
       " ('주일', 0.7075144648551941),\n",
       " ('對', 0.7072343230247498),\n",
       " ('전쟁', 0.7063120603561401),\n",
       " ('美', 0.7060495615005493),\n",
       " ('푸틴', 0.7006589770317078)]"
      ]
     },
     "execution_count": 11,
     "metadata": {},
     "output_type": "execute_result"
    }
   ],
   "source": [
    "model.wv.most_similar(\"미국\")"
   ]
  },
  {
   "cell_type": "code",
   "execution_count": null,
   "id": "b8dec12b",
   "metadata": {},
   "outputs": [],
   "source": []
  }
 ],
 "metadata": {
  "kernelspec": {
   "display_name": "DCC",
   "language": "python",
   "name": "dcc"
  },
  "language_info": {
   "codemirror_mode": {
    "name": "ipython",
    "version": 3
   },
   "file_extension": ".py",
   "mimetype": "text/x-python",
   "name": "python",
   "nbconvert_exporter": "python",
   "pygments_lexer": "ipython3",
   "version": "3.7.0"
  }
 },
 "nbformat": 4,
 "nbformat_minor": 5
}
