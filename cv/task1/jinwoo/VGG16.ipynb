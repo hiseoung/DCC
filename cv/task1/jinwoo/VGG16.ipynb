{
 "cells": [
  {
   "cell_type": "code",
   "execution_count": 1,
   "metadata": {
    "colab": {
     "base_uri": "https://localhost:8080/"
    },
    "executionInfo": {
     "elapsed": 18062,
     "status": "ok",
     "timestamp": 1630037716001,
     "user": {
      "displayName": "정진우",
      "photoUrl": "",
      "userId": "05017758655145019300"
     },
     "user_tz": -540
    },
    "id": "1bdz3pL4tBBl",
    "outputId": "c0d11a73-f775-4736-84b8-424625cd0762"
   },
   "outputs": [
    {
     "name": "stdout",
     "output_type": "stream",
     "text": [
      "Mounted at /content/drive\n"
     ]
    }
   ],
   "source": [
    "from google.colab import drive\n",
    "drive.mount('/content/drive')"
   ]
  },
  {
   "cell_type": "code",
   "execution_count": 2,
   "metadata": {
    "executionInfo": {
     "elapsed": 218,
     "status": "ok",
     "timestamp": 1630037728136,
     "user": {
      "displayName": "정진우",
      "photoUrl": "",
      "userId": "05017758655145019300"
     },
     "user_tz": -540
    },
    "id": "tgbFlD3Je5nX"
   },
   "outputs": [],
   "source": [
    "# google drive 경로\n",
    "prefix = '/content/drive/MyDrive/데이터크리에이터캠프/CV/task1/jinwoo'"
   ]
  },
  {
   "cell_type": "code",
   "execution_count": 3,
   "metadata": {
    "executionInfo": {
     "elapsed": 3712,
     "status": "ok",
     "timestamp": 1630037732526,
     "user": {
      "displayName": "정진우",
      "photoUrl": "",
      "userId": "05017758655145019300"
     },
     "user_tz": -540
    },
    "id": "ADDETGqne7J_"
   },
   "outputs": [],
   "source": [
    "import tensorflow as tf\n",
    "from tensorflow import keras\n",
    "import numpy as np\n",
    "from sklearn.model_selection import train_test_split\n",
    "import os\n",
    "import matplotlib.pyplot as plt"
   ]
  },
  {
   "cell_type": "code",
   "execution_count": 7,
   "metadata": {
    "colab": {
     "base_uri": "https://localhost:8080/"
    },
    "executionInfo": {
     "elapsed": 8632,
     "status": "ok",
     "timestamp": 1630037913082,
     "user": {
      "displayName": "정진우",
      "photoUrl": "",
      "userId": "05017758655145019300"
     },
     "user_tz": -540
    },
    "id": "BsYdnQGDe9a8",
    "outputId": "c96265f9-a669-46bb-cbbe-f322bcebe454"
   },
   "outputs": [
    {
     "name": "stdout",
     "output_type": "stream",
     "text": [
      "Running on TPU  grpc://10.76.92.42:8470\n",
      "INFO:tensorflow:Clearing out eager caches\n"
     ]
    },
    {
     "name": "stderr",
     "output_type": "stream",
     "text": [
      "INFO:tensorflow:Clearing out eager caches\n"
     ]
    },
    {
     "name": "stdout",
     "output_type": "stream",
     "text": [
      "INFO:tensorflow:Initializing the TPU system: grpc://10.76.92.42:8470\n"
     ]
    },
    {
     "name": "stderr",
     "output_type": "stream",
     "text": [
      "INFO:tensorflow:Initializing the TPU system: grpc://10.76.92.42:8470\n"
     ]
    },
    {
     "name": "stdout",
     "output_type": "stream",
     "text": [
      "INFO:tensorflow:Finished initializing TPU system.\n"
     ]
    },
    {
     "name": "stderr",
     "output_type": "stream",
     "text": [
      "INFO:tensorflow:Finished initializing TPU system.\n",
      "WARNING:absl:`tf.distribute.experimental.TPUStrategy` is deprecated, please use  the non experimental symbol `tf.distribute.TPUStrategy` instead.\n"
     ]
    },
    {
     "name": "stdout",
     "output_type": "stream",
     "text": [
      "INFO:tensorflow:Found TPU system:\n"
     ]
    },
    {
     "name": "stderr",
     "output_type": "stream",
     "text": [
      "INFO:tensorflow:Found TPU system:\n"
     ]
    },
    {
     "name": "stdout",
     "output_type": "stream",
     "text": [
      "INFO:tensorflow:*** Num TPU Cores: 8\n"
     ]
    },
    {
     "name": "stderr",
     "output_type": "stream",
     "text": [
      "INFO:tensorflow:*** Num TPU Cores: 8\n"
     ]
    },
    {
     "name": "stdout",
     "output_type": "stream",
     "text": [
      "INFO:tensorflow:*** Num TPU Workers: 1\n"
     ]
    },
    {
     "name": "stderr",
     "output_type": "stream",
     "text": [
      "INFO:tensorflow:*** Num TPU Workers: 1\n"
     ]
    },
    {
     "name": "stdout",
     "output_type": "stream",
     "text": [
      "INFO:tensorflow:*** Num TPU Cores Per Worker: 8\n"
     ]
    },
    {
     "name": "stderr",
     "output_type": "stream",
     "text": [
      "INFO:tensorflow:*** Num TPU Cores Per Worker: 8\n"
     ]
    },
    {
     "name": "stdout",
     "output_type": "stream",
     "text": [
      "INFO:tensorflow:*** Available Device: _DeviceAttributes(/job:localhost/replica:0/task:0/device:CPU:0, CPU, 0, 0)\n"
     ]
    },
    {
     "name": "stderr",
     "output_type": "stream",
     "text": [
      "INFO:tensorflow:*** Available Device: _DeviceAttributes(/job:localhost/replica:0/task:0/device:CPU:0, CPU, 0, 0)\n"
     ]
    },
    {
     "name": "stdout",
     "output_type": "stream",
     "text": [
      "INFO:tensorflow:*** Available Device: _DeviceAttributes(/job:worker/replica:0/task:0/device:CPU:0, CPU, 0, 0)\n"
     ]
    },
    {
     "name": "stderr",
     "output_type": "stream",
     "text": [
      "INFO:tensorflow:*** Available Device: _DeviceAttributes(/job:worker/replica:0/task:0/device:CPU:0, CPU, 0, 0)\n"
     ]
    },
    {
     "name": "stdout",
     "output_type": "stream",
     "text": [
      "INFO:tensorflow:*** Available Device: _DeviceAttributes(/job:worker/replica:0/task:0/device:TPU:0, TPU, 0, 0)\n"
     ]
    },
    {
     "name": "stderr",
     "output_type": "stream",
     "text": [
      "INFO:tensorflow:*** Available Device: _DeviceAttributes(/job:worker/replica:0/task:0/device:TPU:0, TPU, 0, 0)\n"
     ]
    },
    {
     "name": "stdout",
     "output_type": "stream",
     "text": [
      "INFO:tensorflow:*** Available Device: _DeviceAttributes(/job:worker/replica:0/task:0/device:TPU:1, TPU, 0, 0)\n"
     ]
    },
    {
     "name": "stderr",
     "output_type": "stream",
     "text": [
      "INFO:tensorflow:*** Available Device: _DeviceAttributes(/job:worker/replica:0/task:0/device:TPU:1, TPU, 0, 0)\n"
     ]
    },
    {
     "name": "stdout",
     "output_type": "stream",
     "text": [
      "INFO:tensorflow:*** Available Device: _DeviceAttributes(/job:worker/replica:0/task:0/device:TPU:2, TPU, 0, 0)\n"
     ]
    },
    {
     "name": "stderr",
     "output_type": "stream",
     "text": [
      "INFO:tensorflow:*** Available Device: _DeviceAttributes(/job:worker/replica:0/task:0/device:TPU:2, TPU, 0, 0)\n"
     ]
    },
    {
     "name": "stdout",
     "output_type": "stream",
     "text": [
      "INFO:tensorflow:*** Available Device: _DeviceAttributes(/job:worker/replica:0/task:0/device:TPU:3, TPU, 0, 0)\n"
     ]
    },
    {
     "name": "stderr",
     "output_type": "stream",
     "text": [
      "INFO:tensorflow:*** Available Device: _DeviceAttributes(/job:worker/replica:0/task:0/device:TPU:3, TPU, 0, 0)\n"
     ]
    },
    {
     "name": "stdout",
     "output_type": "stream",
     "text": [
      "INFO:tensorflow:*** Available Device: _DeviceAttributes(/job:worker/replica:0/task:0/device:TPU:4, TPU, 0, 0)\n"
     ]
    },
    {
     "name": "stderr",
     "output_type": "stream",
     "text": [
      "INFO:tensorflow:*** Available Device: _DeviceAttributes(/job:worker/replica:0/task:0/device:TPU:4, TPU, 0, 0)\n"
     ]
    },
    {
     "name": "stdout",
     "output_type": "stream",
     "text": [
      "INFO:tensorflow:*** Available Device: _DeviceAttributes(/job:worker/replica:0/task:0/device:TPU:5, TPU, 0, 0)\n"
     ]
    },
    {
     "name": "stderr",
     "output_type": "stream",
     "text": [
      "INFO:tensorflow:*** Available Device: _DeviceAttributes(/job:worker/replica:0/task:0/device:TPU:5, TPU, 0, 0)\n"
     ]
    },
    {
     "name": "stdout",
     "output_type": "stream",
     "text": [
      "INFO:tensorflow:*** Available Device: _DeviceAttributes(/job:worker/replica:0/task:0/device:TPU:6, TPU, 0, 0)\n"
     ]
    },
    {
     "name": "stderr",
     "output_type": "stream",
     "text": [
      "INFO:tensorflow:*** Available Device: _DeviceAttributes(/job:worker/replica:0/task:0/device:TPU:6, TPU, 0, 0)\n"
     ]
    },
    {
     "name": "stdout",
     "output_type": "stream",
     "text": [
      "INFO:tensorflow:*** Available Device: _DeviceAttributes(/job:worker/replica:0/task:0/device:TPU:7, TPU, 0, 0)\n"
     ]
    },
    {
     "name": "stderr",
     "output_type": "stream",
     "text": [
      "INFO:tensorflow:*** Available Device: _DeviceAttributes(/job:worker/replica:0/task:0/device:TPU:7, TPU, 0, 0)\n"
     ]
    },
    {
     "name": "stdout",
     "output_type": "stream",
     "text": [
      "INFO:tensorflow:*** Available Device: _DeviceAttributes(/job:worker/replica:0/task:0/device:TPU_SYSTEM:0, TPU_SYSTEM, 0, 0)\n"
     ]
    },
    {
     "name": "stderr",
     "output_type": "stream",
     "text": [
      "INFO:tensorflow:*** Available Device: _DeviceAttributes(/job:worker/replica:0/task:0/device:TPU_SYSTEM:0, TPU_SYSTEM, 0, 0)\n"
     ]
    },
    {
     "name": "stdout",
     "output_type": "stream",
     "text": [
      "INFO:tensorflow:*** Available Device: _DeviceAttributes(/job:worker/replica:0/task:0/device:XLA_CPU:0, XLA_CPU, 0, 0)\n"
     ]
    },
    {
     "name": "stderr",
     "output_type": "stream",
     "text": [
      "INFO:tensorflow:*** Available Device: _DeviceAttributes(/job:worker/replica:0/task:0/device:XLA_CPU:0, XLA_CPU, 0, 0)\n"
     ]
    },
    {
     "name": "stdout",
     "output_type": "stream",
     "text": [
      "REPLICAS:  8\n"
     ]
    }
   ],
   "source": [
    "# tup\n",
    "try:\n",
    "    tpu = tf.distribute.cluster_resolver.TPUClusterResolver()  \n",
    "    # TPU 출력\n",
    "    print('Running on TPU ', tpu.master())\n",
    "except ValueError:\n",
    "    tpu = None\n",
    "\n",
    "if tpu:\n",
    "    tf.config.experimental_connect_to_cluster(tpu)\n",
    "    tf.tpu.experimental.initialize_tpu_system(tpu)\n",
    "    strategy = tf.distribute.experimental.TPUStrategy(tpu)\n",
    "else:\n",
    "    strategy = tf.distribute.get_strategy() \n",
    "    # TPU 분산 전략 출력. 없으면 CPU\n",
    "print(\"REPLICAS: \", strategy.num_replicas_in_sync)"
   ]
  },
  {
   "cell_type": "code",
   "execution_count": 8,
   "metadata": {
    "colab": {
     "base_uri": "https://localhost:8080/"
    },
    "executionInfo": {
     "elapsed": 1177,
     "status": "ok",
     "timestamp": 1630037914245,
     "user": {
      "displayName": "정진우",
      "photoUrl": "",
      "userId": "05017758655145019300"
     },
     "user_tz": -540
    },
    "id": "e9_TPrp_e_fW",
    "outputId": "df467e3a-be4b-4fc9-9d85-5503d3403ee7"
   },
   "outputs": [
    {
     "name": "stdout",
     "output_type": "stream",
     "text": [
      "Downloading data from https://storage.googleapis.com/tensorflow/tf-keras-datasets/train-labels-idx1-ubyte.gz\n",
      "32768/29515 [=================================] - 0s 0us/step\n",
      "40960/29515 [=========================================] - 0s 0us/step\n",
      "Downloading data from https://storage.googleapis.com/tensorflow/tf-keras-datasets/train-images-idx3-ubyte.gz\n",
      "26427392/26421880 [==============================] - 0s 0us/step\n",
      "26435584/26421880 [==============================] - 0s 0us/step\n",
      "Downloading data from https://storage.googleapis.com/tensorflow/tf-keras-datasets/t10k-labels-idx1-ubyte.gz\n",
      "16384/5148 [===============================================================================================] - 0s 0us/step\n",
      "Downloading data from https://storage.googleapis.com/tensorflow/tf-keras-datasets/t10k-images-idx3-ubyte.gz\n",
      "4423680/4422102 [==============================] - 0s 0us/step\n",
      "4431872/4422102 [==============================] - 0s 0us/step\n"
     ]
    }
   ],
   "source": [
    "# mnist fasion 데이터 로드\n",
    "fashion_mnist = keras.datasets.fashion_mnist\n",
    "\n",
    "(train_images, train_labels), (test_images, test_labels) = fashion_mnist.load_data()"
   ]
  },
  {
   "cell_type": "code",
   "execution_count": 9,
   "metadata": {
    "executionInfo": {
     "elapsed": 398,
     "status": "ok",
     "timestamp": 1630037914637,
     "user": {
      "displayName": "정진우",
      "photoUrl": "",
      "userId": "05017758655145019300"
     },
     "user_tz": -540
    },
    "id": "RhnkgKDafBjJ"
   },
   "outputs": [],
   "source": [
    "# valid 데이터 셋 생성\n",
    "train_images, val_images, train_labels, val_labels = train_test_split(train_images, train_labels, stratify=train_labels)"
   ]
  },
  {
   "cell_type": "code",
   "execution_count": 10,
   "metadata": {
    "colab": {
     "base_uri": "https://localhost:8080/"
    },
    "executionInfo": {
     "elapsed": 23,
     "status": "ok",
     "timestamp": 1630037914638,
     "user": {
      "displayName": "정진우",
      "photoUrl": "",
      "userId": "05017758655145019300"
     },
     "user_tz": -540
    },
    "id": "DZzvWGmjfDzS",
    "outputId": "8fb54ee3-a068-442e-b705-66f55841710e"
   },
   "outputs": [
    {
     "data": {
      "text/plain": [
       "((45000, 28, 28), (15000, 28, 28), (10000, 28, 28))"
      ]
     },
     "execution_count": 10,
     "metadata": {},
     "output_type": "execute_result"
    }
   ],
   "source": [
    "# 데이터 셋 shape\n",
    "train_images.shape, val_images.shape, test_images.shape"
   ]
  },
  {
   "cell_type": "code",
   "execution_count": 11,
   "metadata": {
    "executionInfo": {
     "elapsed": 16,
     "status": "ok",
     "timestamp": 1630037914639,
     "user": {
      "displayName": "정진우",
      "photoUrl": "",
      "userId": "05017758655145019300"
     },
     "user_tz": -540
    },
    "id": "FolbaWXFfFS2"
   },
   "outputs": [],
   "source": [
    "# class 의 수\n",
    "num_class = len(np.unique(test_labels))"
   ]
  },
  {
   "cell_type": "code",
   "execution_count": 12,
   "metadata": {
    "executionInfo": {
     "elapsed": 15,
     "status": "ok",
     "timestamp": 1630037914640,
     "user": {
      "displayName": "정진우",
      "photoUrl": "",
      "userId": "05017758655145019300"
     },
     "user_tz": -540
    },
    "id": "NWFxWQsZfG1c"
   },
   "outputs": [],
   "source": [
    "# y를 one-hot 인코딩\n",
    "train_labels = keras.utils.to_categorical(train_labels)\n",
    "val_labels = keras.utils.to_categorical(val_labels)\n",
    "test_labels = keras.utils.to_categorical(test_labels)"
   ]
  },
  {
   "cell_type": "code",
   "execution_count": 13,
   "metadata": {
    "executionInfo": {
     "elapsed": 14,
     "status": "ok",
     "timestamp": 1630037914641,
     "user": {
      "displayName": "정진우",
      "photoUrl": "",
      "userId": "05017758655145019300"
     },
     "user_tz": -540
    },
    "id": "Cyj5iec5fIXR"
   },
   "outputs": [],
   "source": [
    "# 전처리 함수\n",
    "# X 를 정규화\n",
    "def preprocess(x, y):\n",
    "  x = tf.cast(x, dtype=tf.float32)\n",
    "  x = x/255.0\n",
    "  x = tf.expand_dims(x, 3)\n",
    "  return x, y\n",
    "\n",
    "# resize X\n",
    "# Input size 는 최소 32x32이어야 한다.\n",
    "def resizing(x, y):\n",
    "  x = tf.image.resize(x, (32, 32))\n",
    "  return x, y"
   ]
  },
  {
   "cell_type": "code",
   "execution_count": 14,
   "metadata": {
    "executionInfo": {
     "elapsed": 631,
     "status": "ok",
     "timestamp": 1630037915260,
     "user": {
      "displayName": "정진우",
      "photoUrl": "",
      "userId": "05017758655145019300"
     },
     "user_tz": -540
    },
    "id": "cPvTtR8Rgrq-"
   },
   "outputs": [],
   "source": [
    "# train, valid, test 데이터 셋 생성\n",
    "# valid, test는 셔플 x\n",
    "batch_size = 64\n",
    "train_dataset = tf.data.Dataset.from_tensor_slices((train_images, train_labels))\n",
    "train_dataset = train_dataset.batch(batch_size)\n",
    "train_dataset = train_dataset.map(preprocess).map(resizing).shuffle(1000, seed=42)    # shuffle\n",
    "\n",
    "val_dataset  = tf.data.Dataset.from_tensor_slices((val_images, val_labels))\n",
    "val_dataset = val_dataset.batch(batch_size)\n",
    "val_dataset = val_dataset.map(preprocess).map(resizing)\n",
    "\n",
    "test_dataset  = tf.data.Dataset.from_tensor_slices((test_images, test_labels))\n",
    "test_dataset = test_dataset.batch(batch_size)\n",
    "test_dataset = test_dataset.map(preprocess).map(resizing)"
   ]
  },
  {
   "cell_type": "code",
   "execution_count": 15,
   "metadata": {
    "colab": {
     "base_uri": "https://localhost:8080/"
    },
    "executionInfo": {
     "elapsed": 15,
     "status": "ok",
     "timestamp": 1630037915260,
     "user": {
      "displayName": "정진우",
      "photoUrl": "",
      "userId": "05017758655145019300"
     },
     "user_tz": -540
    },
    "id": "W2PWzzqWjbjL",
    "outputId": "660aa502-52ff-4587-d132-89b0b4894339"
   },
   "outputs": [
    {
     "data": {
      "text/plain": [
       "TensorShape([64, 32, 32, 1])"
      ]
     },
     "execution_count": 15,
     "metadata": {},
     "output_type": "execute_result"
    }
   ],
   "source": [
    "next(iter(train_dataset))[0].shape"
   ]
  },
  {
   "cell_type": "code",
   "execution_count": 21,
   "metadata": {
    "executionInfo": {
     "elapsed": 1469,
     "status": "ok",
     "timestamp": 1630038005550,
     "user": {
      "displayName": "정진우",
      "photoUrl": "",
      "userId": "05017758655145019300"
     },
     "user_tz": -540
    },
    "id": "aICcmQS4fxoo"
   },
   "outputs": [],
   "source": [
    "with strategy.scope():\n",
    "    # VGG16 로드. 무작위 weight 초기화, top layer 제거\n",
    "    base = keras.applications.VGG16(input_shape=(32, 32, 1), weights=None, include_top=False)\n",
    "\n",
    "    # top layer 생성\n",
    "    model = keras.models.Sequential()\n",
    "    model.add(base)\n",
    "    model.add(keras.layers.Flatten())\n",
    "    model.add(keras.layers.Dense(num_class, activation='softmax'))\n",
    "\n",
    "    model.compile(\n",
    "      optimizer='adam',\n",
    "      loss='categorical_crossentropy',\n",
    "      metrics='accuracy'\n",
    "    )"
   ]
  },
  {
   "cell_type": "code",
   "execution_count": 22,
   "metadata": {
    "colab": {
     "base_uri": "https://localhost:8080/"
    },
    "executionInfo": {
     "elapsed": 10,
     "status": "ok",
     "timestamp": 1630038007229,
     "user": {
      "displayName": "정진우",
      "photoUrl": "",
      "userId": "05017758655145019300"
     },
     "user_tz": -540
    },
    "id": "SgGElY12hEK0",
    "outputId": "c22dbbab-2d43-49c6-b28e-62ac9a46bd77"
   },
   "outputs": [
    {
     "name": "stdout",
     "output_type": "stream",
     "text": [
      "Model: \"sequential_2\"\n",
      "_________________________________________________________________\n",
      "Layer (type)                 Output Shape              Param #   \n",
      "=================================================================\n",
      "vgg16 (Functional)           (None, 1, 1, 512)         14713536  \n",
      "_________________________________________________________________\n",
      "flatten_2 (Flatten)          (None, 512)               0         \n",
      "_________________________________________________________________\n",
      "dense_6 (Dense)              (None, 10)                5130      \n",
      "=================================================================\n",
      "Total params: 14,718,666\n",
      "Trainable params: 14,718,666\n",
      "Non-trainable params: 0\n",
      "_________________________________________________________________\n"
     ]
    }
   ],
   "source": [
    "model.summary()"
   ]
  },
  {
   "cell_type": "code",
   "execution_count": 23,
   "metadata": {
    "executionInfo": {
     "elapsed": 7,
     "status": "ok",
     "timestamp": 1630038008779,
     "user": {
      "displayName": "정진우",
      "photoUrl": "",
      "userId": "05017758655145019300"
     },
     "user_tz": -540
    },
    "id": "ZrR-z7Oth5xi"
   },
   "outputs": [],
   "source": [
    "# callback 함수\n",
    "\n",
    "# checkpoint 경로\n",
    "ckpt_name = 'VGG16_ckpt.hdf5'\n",
    "checkpoint_dir_path = os.path.join(prefix, 'checkpoint')\n",
    "checkpoint_path = os.path.join(prefix, 'checkpoint', ckpt_name)\n",
    "\n",
    "# checkpoint 경로 확인\n",
    "# 경로가 존재하지 않으면 생성\n",
    "if not(os.path.exists(checkpoint_dir_path)):\n",
    "  os.mkdir(checkpoint_dir_path)\n",
    "\n",
    "callbacks_list = [\n",
    "    # 매 epoch마다 val_loss 기준 가장 작은 상태의 weight 저장\n",
    "    tf.keras.callbacks.ModelCheckpoint(\n",
    "        filepath = checkpoint_path,\n",
    "        monitor='val_loss',\n",
    "        mode='min',\n",
    "        save_weights_only=True,\n",
    "        save_best_only=True\n",
    "    ),\n",
    "    # val_loss 가 5번 동안 향상되지 않으면 훈련 종료\n",
    "    tf.keras.callbacks.EarlyStopping(\n",
    "        monitor='val_loss',\n",
    "        mode='min',\n",
    "        verbose=1, \n",
    "        patience=5\n",
    "    )\n",
    "]"
   ]
  },
  {
   "cell_type": "code",
   "execution_count": 24,
   "metadata": {
    "colab": {
     "base_uri": "https://localhost:8080/"
    },
    "executionInfo": {
     "elapsed": 320013,
     "status": "ok",
     "timestamp": 1630038330150,
     "user": {
      "displayName": "정진우",
      "photoUrl": "",
      "userId": "05017758655145019300"
     },
     "user_tz": -540
    },
    "id": "O59AkH_biAE1",
    "outputId": "06580331-a403-4bb2-986d-3e7033f6e776"
   },
   "outputs": [
    {
     "name": "stdout",
     "output_type": "stream",
     "text": [
      "Epoch 1/20\n",
      "704/704 [==============================] - 43s 40ms/step - loss: 0.7661 - accuracy: 0.7087 - val_loss: 0.4150 - val_accuracy: 0.8527\n",
      "Epoch 2/20\n",
      "704/704 [==============================] - 16s 23ms/step - loss: 0.3869 - accuracy: 0.8561 - val_loss: 0.3460 - val_accuracy: 0.8680\n",
      "Epoch 3/20\n",
      "704/704 [==============================] - 16s 23ms/step - loss: 0.3178 - accuracy: 0.8837 - val_loss: 0.3147 - val_accuracy: 0.8870\n",
      "Epoch 4/20\n",
      "704/704 [==============================] - 16s 23ms/step - loss: 0.2927 - accuracy: 0.8935 - val_loss: 0.2829 - val_accuracy: 0.8959\n",
      "Epoch 5/20\n",
      "704/704 [==============================] - 16s 23ms/step - loss: 0.2608 - accuracy: 0.9048 - val_loss: 0.2774 - val_accuracy: 0.9012\n",
      "Epoch 6/20\n",
      "704/704 [==============================] - 16s 23ms/step - loss: 0.2440 - accuracy: 0.9113 - val_loss: 0.2824 - val_accuracy: 0.8993\n",
      "Epoch 7/20\n",
      "704/704 [==============================] - 16s 22ms/step - loss: 0.2299 - accuracy: 0.9163 - val_loss: 0.2362 - val_accuracy: 0.9168\n",
      "Epoch 8/20\n",
      "704/704 [==============================] - 16s 23ms/step - loss: 0.2163 - accuracy: 0.9221 - val_loss: 0.2366 - val_accuracy: 0.9175\n",
      "Epoch 9/20\n",
      "704/704 [==============================] - 16s 22ms/step - loss: 0.1979 - accuracy: 0.9285 - val_loss: 0.2662 - val_accuracy: 0.9096\n",
      "Epoch 10/20\n",
      "704/704 [==============================] - 16s 22ms/step - loss: 0.1895 - accuracy: 0.9323 - val_loss: 0.2300 - val_accuracy: 0.9209\n",
      "Epoch 11/20\n",
      "704/704 [==============================] - 16s 23ms/step - loss: 0.1762 - accuracy: 0.9358 - val_loss: 0.3151 - val_accuracy: 0.9069\n",
      "Epoch 12/20\n",
      "704/704 [==============================] - 16s 23ms/step - loss: 0.1729 - accuracy: 0.9377 - val_loss: 0.2294 - val_accuracy: 0.9217\n",
      "Epoch 13/20\n",
      "704/704 [==============================] - 16s 23ms/step - loss: 0.1579 - accuracy: 0.9430 - val_loss: 0.2475 - val_accuracy: 0.9187\n",
      "Epoch 14/20\n",
      "704/704 [==============================] - 16s 23ms/step - loss: 0.1416 - accuracy: 0.9492 - val_loss: 0.2515 - val_accuracy: 0.9215\n",
      "Epoch 15/20\n",
      "704/704 [==============================] - 16s 22ms/step - loss: 0.1350 - accuracy: 0.9511 - val_loss: 0.2720 - val_accuracy: 0.9253\n",
      "Epoch 16/20\n",
      "704/704 [==============================] - 16s 22ms/step - loss: 0.1394 - accuracy: 0.9513 - val_loss: 0.2840 - val_accuracy: 0.9167\n",
      "Epoch 17/20\n",
      "704/704 [==============================] - 16s 22ms/step - loss: 0.1193 - accuracy: 0.9579 - val_loss: 0.2572 - val_accuracy: 0.9263\n",
      "Epoch 00017: early stopping\n"
     ]
    }
   ],
   "source": [
    "hist = model.fit(train_dataset, validation_data=val_dataset, callbacks=callbacks_list, epochs=20)"
   ]
  },
  {
   "cell_type": "code",
   "execution_count": 25,
   "metadata": {
    "colab": {
     "base_uri": "https://localhost:8080/",
     "height": 911
    },
    "executionInfo": {
     "elapsed": 723,
     "status": "ok",
     "timestamp": 1630038520078,
     "user": {
      "displayName": "정진우",
      "photoUrl": "",
      "userId": "05017758655145019300"
     },
     "user_tz": -540
    },
    "id": "-l9e1hM2iFp4",
    "outputId": "3637c92e-9bcf-4233-e45e-a77ec88d538a"
   },
   "outputs": [
    {
     "data": {
      "text/plain": [
       "<matplotlib.legend.Legend at 0x7f94e40d9710>"
      ]
     },
     "execution_count": 25,
     "metadata": {},
     "output_type": "execute_result"
    },
    {
     "data": {
      "image/png": "[encoded data removed]",
      "text/plain": [
       "<Figure size 1080x1080 with 1 Axes>"
      ]
     },
     "metadata": {
      "needs_background": "light"
     },
     "output_type": "display_data"
    }
   ],
   "source": [
    "# learning curve\n",
    "plt.figure(figsize=(15, 15))\n",
    "plt.plot(hist.history['loss'], label='train_loss')\n",
    "plt.plot(hist.history['val_loss'], label='val_loss')\n",
    "plt.title('Learing Curve')\n",
    "plt.xlabel('Epochs')\n",
    "plt.ylabel('Loss')\n",
    "plt.legend()"
   ]
  },
  {
   "cell_type": "code",
   "execution_count": 26,
   "metadata": {
    "executionInfo": {
     "elapsed": 2515,
     "status": "ok",
     "timestamp": 1630038537136,
     "user": {
      "displayName": "정진우",
      "photoUrl": "",
      "userId": "05017758655145019300"
     },
     "user_tz": -540
    },
    "id": "KVxHlu9siGQK"
   },
   "outputs": [],
   "source": [
    "# 마지막 checkpoint weight 로드\n",
    "model.load_weights(checkpoint_path)"
   ]
  },
  {
   "cell_type": "code",
   "execution_count": 27,
   "metadata": {
    "colab": {
     "base_uri": "https://localhost:8080/"
    },
    "executionInfo": {
     "elapsed": 8955,
     "status": "ok",
     "timestamp": 1630038546087,
     "user": {
      "displayName": "정진우",
      "photoUrl": "",
      "userId": "05017758655145019300"
     },
     "user_tz": -540
    },
    "id": "Ucua4LabiIM-",
    "outputId": "082f2e70-6fa1-4fe3-a4b2-afb0772c4587"
   },
   "outputs": [
    {
     "name": "stdout",
     "output_type": "stream",
     "text": [
      "157/157 [==============================] - 4s 20ms/step - loss: 0.2629 - accuracy: 0.9149\n"
     ]
    },
    {
     "data": {
      "text/plain": [
       "[0.262851744890213, 0.914900004863739]"
      ]
     },
     "execution_count": 27,
     "metadata": {},
     "output_type": "execute_result"
    }
   ],
   "source": [
    "# test 셋 평가\n",
    "model.evaluate(test_dataset)"
   ]
  },
  {
   "cell_type": "code",
   "execution_count": null,
   "metadata": {
    "id": "hSnH_sHS3iep"
   },
   "outputs": [],
   "source": []
  }
 ],
 "metadata": {
  "accelerator": "TPU",
  "colab": {
   "authorship_tag": "ABX9TyPfbJ2sxO/xGNoEpe7nvRRe",
   "collapsed_sections": [],
   "name": "VGG16.ipynb",
   "provenance": []
  },
  "kernelspec": {
   "display_name": "Python 3",
   "language": "python",
   "name": "python3"
  },
  "language_info": {
   "codemirror_mode": {
    "name": "ipython",
    "version": 3
   },
   "file_extension": ".py",
   "mimetype": "text/x-python",
   "name": "python",
   "nbconvert_exporter": "python",
   "pygments_lexer": "ipython3",
   "version": "3.8.5"
  }
 },
 "nbformat": 4,
 "nbformat_minor": 1
}
