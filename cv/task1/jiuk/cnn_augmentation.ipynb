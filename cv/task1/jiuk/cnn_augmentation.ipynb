{
  "nbformat": 4,
  "nbformat_minor": 0,
  "metadata": {
    "accelerator": "GPU",
    "colab": {
      "name": "cnn_augmentation.ipynb",
      "provenance": [],
      "collapsed_sections": []
    },
    "kernelspec": {
      "display_name": "Python 3",
      "name": "python3"
    },
    "language_info": {
      "name": "python"
    }
  },
  "cells": [
    {
      "cell_type": "code",
      "metadata": {
        "id": "NH2ZFpjOaoSP"
      },
      "source": [
        "import tensorflow as tf\n",
        "from tensorflow import keras\n",
        "import numpy as np\n",
        "from tensorflow.keras.preprocessing.image import ImageDataGenerator"
      ],
      "execution_count": 3,
      "outputs": []
    },
    {
      "cell_type": "code",
      "metadata": {
        "id": "SKwL7X8qsHrc"
      },
      "source": [
        "batch_size =32\n",
        "num_classes =10\n",
        "epochs= 10\n",
        "\n",
        "img_rows, img_cols =28,28"
      ],
      "execution_count": 4,
      "outputs": []
    },
    {
      "cell_type": "code",
      "metadata": {
        "id": "7OIUai5wsQ1H"
      },
      "source": [
        "fashion_mnist = keras.datasets.fashion_mnist\n",
        "\n",
        "(x_train, y_train),(x_test, y_test) = fashion_mnist.load_data()"
      ],
      "execution_count": 5,
      "outputs": []
    },
    {
      "cell_type": "code",
      "metadata": {
        "id": "rAy6yzePskeb"
      },
      "source": [
        "x_train = x_train.reshape(x_train.shape[0],img_rows, img_cols,1)\n",
        "x_test = x_test.reshape(x_test.shape[0],img_rows, img_cols,1)\n",
        "input_shape = (img_rows, img_cols,1)"
      ],
      "execution_count": 6,
      "outputs": []
    },
    {
      "cell_type": "code",
      "metadata": {
        "id": "vyobx3L3tGuV"
      },
      "source": [
        "x_train = x_train.astype(\"float32\")\n",
        "x_test = x_test.astype(\"float32\")\n",
        "x_train /= 255\n",
        "x_test /= 255"
      ],
      "execution_count": 7,
      "outputs": []
    },
    {
      "cell_type": "code",
      "metadata": {
        "id": "mt4LJlMytSUO"
      },
      "source": [
        "y_train = keras.utils.to_categorical(y_train, num_classes)\n",
        "y_test = keras.utils.to_categorical(y_test, num_classes)"
      ],
      "execution_count": 8,
      "outputs": []
    },
    {
      "cell_type": "code",
      "metadata": {
        "id": "wPrZDGvoa2OU"
      },
      "source": [
        "# preprocess function\n",
        "# normalize x\n",
        "def preprocess(x, y):\n",
        "  x = x/255\n",
        "  x = tf.expand_dims(x, 3)\n",
        "  return x, y"
      ],
      "execution_count": 9,
      "outputs": []
    },
    {
      "cell_type": "code",
      "metadata": {
        "id": "S3b2k7E3a2RV"
      },
      "source": [
        "# make trainset\n",
        "train_dataset = tf.data.Dataset.from_tensor_slices((x_train, y_train))\n",
        "train_dataset = train_dataset.batch(batch_size)\n",
        "train_dataset = train_dataset.map(preprocess)\n",
        "\n",
        "test_dataset  = tf.data.Dataset.from_tensor_slices((x_test, y_test))\n",
        "test_dataset = test_dataset.batch(batch_size)\n",
        "test_dataset = test_dataset.map(preprocess)"
      ],
      "execution_count": 10,
      "outputs": []
    },
    {
      "cell_type": "code",
      "metadata": {
        "id": "ZhJWG0E9tkMP"
      },
      "source": [
        "num_class =10\n",
        "\n",
        "with tf.device('/device:GPU:0'):\n",
        "  # model layer\n",
        "  model = keras.models.Sequential([\n",
        "              keras.layers.Conv2D(32, (3,3), activation='relu', input_shape=(28, 28, 1)), ## 입력배열 28,28,1\n",
        "              keras.layers.MaxPool2D(pool_size=(2, 2)),\n",
        "              keras.layers.Dropout(0.25),\n",
        "              keras.layers.Flatten(),\n",
        "              keras.layers.Dense(128, activation='relu'),\n",
        "              keras.layers.Dropout(0.5),\n",
        "              keras.layers.Dense(num_class, activation='softmax') ## 출력 class = num_class\n",
        "  ])\n",
        "\n",
        "  # optimizer, loss, 성능평가 척도 설정\n",
        "  model.compile(\n",
        "      optimizer='adam',\n",
        "      loss='categorical_crossentropy',\n",
        "      metrics='accuracy'\n",
        "  )"
      ],
      "execution_count": 11,
      "outputs": []
    },
    {
      "cell_type": "code",
      "metadata": {
        "id": "oik90e0fujDt"
      },
      "source": [
        "## Data augmentation (회전, 이동, 비틀기, 확대)\n",
        "\n",
        "datagen = ImageDataGenerator(\n",
        "    rotation_range=40,\n",
        "    width_shift_range=0.2,\n",
        "    height_shift_range=0.2,\n",
        "    shear_range=0.2,\n",
        "    zoom_range=0.2,\n",
        "    fill_mode='nearest')"
      ],
      "execution_count": 12,
      "outputs": []
    },
    {
      "cell_type": "code",
      "metadata": {
        "id": "G4h440ztzp69"
      },
      "source": [
        "train_data_flow = datagen.flow(x_train, y_train, batch_size=10) #x_train, y_train"
      ],
      "execution_count": 13,
      "outputs": []
    },
    {
      "cell_type": "code",
      "metadata": {
        "colab": {
          "base_uri": "https://localhost:8080/"
        },
        "id": "tKWtKIxicKbW",
        "outputId": "c0789d1a-a71b-4dd5-ea16-192e45d529d2"
      },
      "source": [
        "len(train_data_flow)"
      ],
      "execution_count": 14,
      "outputs": [
        {
          "output_type": "execute_result",
          "data": {
            "text/plain": [
              "6000"
            ]
          },
          "metadata": {},
          "execution_count": 14
        }
      ]
    },
    {
      "cell_type": "code",
      "metadata": {
        "colab": {
          "base_uri": "https://localhost:8080/"
        },
        "id": "gsqWj0emuiYn",
        "outputId": "04dd41bc-5f77-400e-c041-82dc27c44c42"
      },
      "source": [
        "with tf.device('/device:GPU:0'):\n",
        "  hist = model.fit_generator(datagen.flow(x_train, y_train, batch_size=32), validation_data=(x_test, y_test),epochs=10)"
      ],
      "execution_count": 15,
      "outputs": [
        {
          "output_type": "stream",
          "text": [
            "/usr/local/lib/python3.7/dist-packages/keras/engine/training.py:1972: UserWarning: `Model.fit_generator` is deprecated and will be removed in a future version. Please use `Model.fit`, which supports generators.\n",
            "  warnings.warn('`Model.fit_generator` is deprecated and '\n"
          ],
          "name": "stderr"
        },
        {
          "output_type": "stream",
          "text": [
            "Epoch 1/10\n",
            "1875/1875 [==============================] - 58s 31ms/step - loss: 1.2365 - accuracy: 0.5444 - val_loss: 0.7417 - val_accuracy: 0.7152\n",
            "Epoch 2/10\n",
            "1875/1875 [==============================] - 57s 30ms/step - loss: 1.0007 - accuracy: 0.6261 - val_loss: 0.7243 - val_accuracy: 0.7196\n",
            "Epoch 3/10\n",
            "1875/1875 [==============================] - 57s 30ms/step - loss: 0.9389 - accuracy: 0.6464 - val_loss: 0.6613 - val_accuracy: 0.7331\n",
            "Epoch 4/10\n",
            "1875/1875 [==============================] - 57s 30ms/step - loss: 0.9048 - accuracy: 0.6602 - val_loss: 0.6549 - val_accuracy: 0.7341\n",
            "Epoch 5/10\n",
            "1875/1875 [==============================] - 57s 30ms/step - loss: 0.8738 - accuracy: 0.6710 - val_loss: 0.6278 - val_accuracy: 0.7446\n",
            "Epoch 6/10\n",
            "1875/1875 [==============================] - 57s 30ms/step - loss: 0.8562 - accuracy: 0.6755 - val_loss: 0.6550 - val_accuracy: 0.7431\n",
            "Epoch 7/10\n",
            "1875/1875 [==============================] - 56s 30ms/step - loss: 0.8509 - accuracy: 0.6813 - val_loss: 0.6934 - val_accuracy: 0.7094\n",
            "Epoch 8/10\n",
            "1875/1875 [==============================] - 57s 30ms/step - loss: 0.8317 - accuracy: 0.6858 - val_loss: 0.6483 - val_accuracy: 0.7429\n",
            "Epoch 9/10\n",
            "1875/1875 [==============================] - 57s 30ms/step - loss: 0.8180 - accuracy: 0.6907 - val_loss: 0.6604 - val_accuracy: 0.7414\n",
            "Epoch 10/10\n",
            "1875/1875 [==============================] - 56s 30ms/step - loss: 0.8049 - accuracy: 0.6964 - val_loss: 0.6907 - val_accuracy: 0.7315\n"
          ],
          "name": "stdout"
        }
      ]
    }
  ]
}