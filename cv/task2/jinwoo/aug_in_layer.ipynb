{
 "cells": [
  {
   "cell_type": "code",
   "execution_count": 1,
   "metadata": {
    "colab": {
     "base_uri": "https://localhost:8080/"
    },
    "executionInfo": {
     "elapsed": 16439,
     "status": "ok",
     "timestamp": 1630758613730,
     "user": {
      "displayName": "정진우",
      "photoUrl": "",
      "userId": "05017758655145019300"
     },
     "user_tz": -540
    },
    "id": "uDVjKvsqzsts",
    "outputId": "0e53546c-b655-4d18-89ad-6dd1019e7bd5"
   },
   "outputs": [
    {
     "name": "stdout",
     "output_type": "stream",
     "text": [
      "Mounted at /content/drive\n"
     ]
    }
   ],
   "source": [
    "from google.colab import drive\n",
    "drive.mount('/content/drive')"
   ]
  },
  {
   "cell_type": "code",
   "execution_count": 2,
   "metadata": {
    "executionInfo": {
     "elapsed": 228,
     "status": "ok",
     "timestamp": 1630758615026,
     "user": {
      "displayName": "정진우",
      "photoUrl": "",
      "userId": "05017758655145019300"
     },
     "user_tz": -540
    },
    "id": "oTFnlAj7zztO"
   },
   "outputs": [],
   "source": [
    "# prefix path\n",
    "prefix = '/content/drive/MyDrive/데이터크리에이터캠프/CV/task2/jinwoo'"
   ]
  },
  {
   "cell_type": "code",
   "execution_count": 3,
   "metadata": {
    "executionInfo": {
     "elapsed": 2810,
     "status": "ok",
     "timestamp": 1630758618609,
     "user": {
      "displayName": "정진우",
      "photoUrl": "",
      "userId": "05017758655145019300"
     },
     "user_tz": -540
    },
    "id": "4OwvRkyrzz8D"
   },
   "outputs": [],
   "source": [
    "import tensorflow as tf\n",
    "from tensorflow import keras\n",
    "import numpy as np\n",
    "from keras.datasets import cifar10\n",
    "from sklearn.model_selection import train_test_split\n",
    "import matplotlib.pyplot as plt\n",
    "import os"
   ]
  },
  {
   "cell_type": "code",
   "execution_count": 4,
   "metadata": {
    "executionInfo": {
     "elapsed": 3,
     "status": "ok",
     "timestamp": 1630758618609,
     "user": {
      "displayName": "정진우",
      "photoUrl": "",
      "userId": "05017758655145019300"
     },
     "user_tz": -540
    },
    "id": "iJquiC2nz0CG"
   },
   "outputs": [],
   "source": [
    "# augmentation 함수\n",
    "# 이후 lambda layer로 사용\n",
    "def aug_fun(data):\n",
    "  out = tf.image.random_brightness(data, 0.5)\n",
    "  out = tf.image.random_saturation(out, 3, 10)\n",
    "\n",
    "  return out"
   ]
  },
  {
   "cell_type": "code",
   "execution_count": 5,
   "metadata": {
    "colab": {
     "base_uri": "https://localhost:8080/"
    },
    "executionInfo": {
     "elapsed": 4463,
     "status": "ok",
     "timestamp": 1630758623069,
     "user": {
      "displayName": "정진우",
      "photoUrl": "",
      "userId": "05017758655145019300"
     },
     "user_tz": -540
    },
    "id": "Fl6WWqEnz0FJ",
    "outputId": "4a51d584-38ac-43e6-b4fd-8ca0ff1f5cc8"
   },
   "outputs": [
    {
     "name": "stdout",
     "output_type": "stream",
     "text": [
      "Downloading data from https://www.cs.toronto.edu/~kriz/cifar-10-python.tar.gz\n",
      "170500096/170498071 [==============================] - 2s 0us/step\n",
      "170508288/170498071 [==============================] - 2s 0us/step\n"
     ]
    }
   ],
   "source": [
    "# dataset 로드\n",
    "(x_train, y_train), (x_test, y_test) = cifar10.load_data()"
   ]
  },
  {
   "cell_type": "code",
   "execution_count": 6,
   "metadata": {
    "executionInfo": {
     "elapsed": 2,
     "status": "ok",
     "timestamp": 1630758623069,
     "user": {
      "displayName": "정진우",
      "photoUrl": "",
      "userId": "05017758655145019300"
     },
     "user_tz": -540
    },
    "id": "zT5dt-P7z0IB"
   },
   "outputs": [],
   "source": [
    "# class 수\n",
    "num_class = len(np.unique(y_train))"
   ]
  },
  {
   "cell_type": "code",
   "execution_count": 7,
   "metadata": {
    "executionInfo": {
     "elapsed": 361,
     "status": "ok",
     "timestamp": 1630758623428,
     "user": {
      "displayName": "정진우",
      "photoUrl": "",
      "userId": "05017758655145019300"
     },
     "user_tz": -540
    },
    "id": "bWuu8_pyz0K2"
   },
   "outputs": [],
   "source": [
    "# valid dataset 생성\n",
    "x_train, x_val, y_train, y_val = train_test_split(x_train, y_train, stratify=y_train, random_state=42)"
   ]
  },
  {
   "cell_type": "code",
   "execution_count": 8,
   "metadata": {
    "executionInfo": {
     "elapsed": 394,
     "status": "ok",
     "timestamp": 1630758623815,
     "user": {
      "displayName": "정진우",
      "photoUrl": "",
      "userId": "05017758655145019300"
     },
     "user_tz": -540
    },
    "id": "gYwoS8Q3z0Ny"
   },
   "outputs": [],
   "source": [
    "# one-hot encoding\n",
    "y_train = keras.utils.to_categorical(y_train)\n",
    "y_val = keras.utils.to_categorical(y_val)\n",
    "y_test = keras.utils.to_categorical(y_test)"
   ]
  },
  {
   "cell_type": "code",
   "execution_count": 9,
   "metadata": {
    "colab": {
     "base_uri": "https://localhost:8080/"
    },
    "executionInfo": {
     "elapsed": 3,
     "status": "ok",
     "timestamp": 1630758623815,
     "user": {
      "displayName": "정진우",
      "photoUrl": "",
      "userId": "05017758655145019300"
     },
     "user_tz": -540
    },
    "id": "0RxBR_aBz0Q6",
    "outputId": "dcf364d2-2b9d-4b35-c8b5-a9b96f45ae38"
   },
   "outputs": [
    {
     "data": {
      "text/plain": [
       "((37500, 32, 32, 3), (12500, 32, 32, 3), (10000, 32, 32, 3))"
      ]
     },
     "execution_count": 9,
     "metadata": {},
     "output_type": "execute_result"
    }
   ],
   "source": [
    "# data shape\n",
    "x_train.shape, x_val.shape, x_test.shape"
   ]
  },
  {
   "cell_type": "code",
   "execution_count": 10,
   "metadata": {
    "executionInfo": {
     "elapsed": 2,
     "status": "ok",
     "timestamp": 1630758623816,
     "user": {
      "displayName": "정진우",
      "photoUrl": "",
      "userId": "05017758655145019300"
     },
     "user_tz": -540
    },
    "id": "0Pvixo5xz0Wz"
   },
   "outputs": [],
   "source": [
    "# 전처리 함수\n",
    "# normalizing\n",
    "def normalizing(x_batch, y_batch):\n",
    "  x_batch = tf.cast(x_batch, tf.float32)\n",
    "  x_batch /= 255.0\n",
    "\n",
    "  return x_batch, y_batch\n",
    "\n",
    "\n",
    "def resizing(x_batch, y_batch):\n",
    "  x_batch = tf.image.resize(x_batch, (71, 71))\n",
    "\n",
    "  return x_batch, y_batch"
   ]
  },
  {
   "cell_type": "code",
   "execution_count": 11,
   "metadata": {
    "executionInfo": {
     "elapsed": 870,
     "status": "ok",
     "timestamp": 1630758633259,
     "user": {
      "displayName": "정진우",
      "photoUrl": "",
      "userId": "05017758655145019300"
     },
     "user_tz": -540
    },
    "id": "A694MxjKz0Zw"
   },
   "outputs": [],
   "source": [
    "# 데이터 셋 생성\n",
    "batch_size = 512\n",
    "\n",
    "train_dataset = tf.data.Dataset.from_tensor_slices((x_train, y_train))\n",
    "train_dataset = train_dataset.batch(batch_size)\n",
    "train_dataset = train_dataset.map(normalizing).shuffle(1000, seed=42)\n",
    "train_dataset = train_dataset.prefetch(buffer_size=tf.data.experimental.AUTOTUNE)\n",
    "\n",
    "valid_dataset = tf.data.Dataset.from_tensor_slices((x_val, y_val))\n",
    "valid_dataset = valid_dataset.batch(batch_size).map(normalizing)\n",
    "valid_dataset = valid_dataset.prefetch(buffer_size=tf.data.experimental.AUTOTUNE)\n",
    "\n",
    "test_dataset = tf.data.Dataset.from_tensor_slices((x_test, y_test))\n",
    "test_dataset = test_dataset.batch(batch_size).map(normalizing)\n",
    "test_dataset = test_dataset.prefetch(buffer_size=tf.data.experimental.AUTOTUNE)"
   ]
  },
  {
   "cell_type": "code",
   "execution_count": 12,
   "metadata": {
    "executionInfo": {
     "elapsed": 629,
     "status": "ok",
     "timestamp": 1630758633881,
     "user": {
      "displayName": "정진우",
      "photoUrl": "",
      "userId": "05017758655145019300"
     },
     "user_tz": -540
    },
    "id": "XNvwzsYyz0c4"
   },
   "outputs": [],
   "source": [
    "# augmentation 모델\n",
    "# 명도, 채도 변경\n",
    "# 회전, 반전\n",
    "# 이미지 대비 변경\n",
    "data_augmentation = keras.Sequential([\n",
    "      keras.layers.Lambda(lambda x: aug_fun(x)),\n",
    "      keras.layers.RandomRotation(0.2),\n",
    "      keras.layers.RandomFlip(),\n",
    "      keras.layers.RandomContrast(0.3)\n",
    "])\n",
    "# model\n",
    "# data_augmentation 모델을 레이어처럼 추가\n",
    "# input을 지정해 주어야 한다.\n",
    "model = keras.models.Sequential([\n",
    "            keras.layers.Input(shape=(32, 32, 3)),\n",
    "            data_augmentation,\n",
    "            keras.layers.Conv2D(16, 5, activation='relu'),\n",
    "            keras.layers.BatchNormalization(),\n",
    "            keras.layers.MaxPool2D(pool_size=(3, 3)),\n",
    "            keras.layers.Conv2D(32, 3, activation='relu'),\n",
    "            keras.layers.BatchNormalization(),\n",
    "            keras.layers.MaxPool2D(pool_size=(2, 2)),\n",
    "            keras.layers.Flatten(),\n",
    "            keras.layers.Dense(120, activation='relu'),\n",
    "            keras.layers.BatchNormalization(),\n",
    "            keras.layers.Dense(62, activation='relu'),\n",
    "            keras.layers.BatchNormalization(),\n",
    "            keras.layers.Dense(20, activation='relu'),\n",
    "            keras.layers.Dense(num_class, activation='softmax')\n",
    "])\n",
    "\n",
    "model.compile(\n",
    "    optimizer='adam',\n",
    "    loss='categorical_crossentropy',\n",
    "    metrics='accuracy'\n",
    ")"
   ]
  },
  {
   "cell_type": "code",
   "execution_count": 24,
   "metadata": {
    "colab": {
     "base_uri": "https://localhost:8080/"
    },
    "executionInfo": {
     "elapsed": 333,
     "status": "ok",
     "timestamp": 1630758185282,
     "user": {
      "displayName": "정진우",
      "photoUrl": "",
      "userId": "05017758655145019300"
     },
     "user_tz": -540
    },
    "id": "ckTCtyt2z0f0",
    "outputId": "e4e0df5b-f6a1-43cb-d711-2fa44afbb819"
   },
   "outputs": [
    {
     "name": "stdout",
     "output_type": "stream",
     "text": [
      "Model: \"sequential_7\"\n",
      "_________________________________________________________________\n",
      "Layer (type)                 Output Shape              Param #   \n",
      "=================================================================\n",
      "sequential_6 (Sequential)    (None, 32, 32, 3)         0         \n",
      "_________________________________________________________________\n",
      "conv2d_4 (Conv2D)            (None, 28, 28, 16)        1216      \n",
      "_________________________________________________________________\n",
      "batch_normalization_8 (Batch (None, 28, 28, 16)        64        \n",
      "_________________________________________________________________\n",
      "max_pooling2d_4 (MaxPooling2 (None, 9, 9, 16)          0         \n",
      "_________________________________________________________________\n",
      "conv2d_5 (Conv2D)            (None, 7, 7, 32)          4640      \n",
      "_________________________________________________________________\n",
      "batch_normalization_9 (Batch (None, 7, 7, 32)          128       \n",
      "_________________________________________________________________\n",
      "max_pooling2d_5 (MaxPooling2 (None, 3, 3, 32)          0         \n",
      "_________________________________________________________________\n",
      "flatten_2 (Flatten)          (None, 288)               0         \n",
      "_________________________________________________________________\n",
      "dense_8 (Dense)              (None, 120)               34680     \n",
      "_________________________________________________________________\n",
      "batch_normalization_10 (Batc (None, 120)               480       \n",
      "_________________________________________________________________\n",
      "dense_9 (Dense)              (None, 62)                7502      \n",
      "_________________________________________________________________\n",
      "batch_normalization_11 (Batc (None, 62)                248       \n",
      "_________________________________________________________________\n",
      "dense_10 (Dense)             (None, 20)                1260      \n",
      "_________________________________________________________________\n",
      "dense_11 (Dense)             (None, 10)                210       \n",
      "=================================================================\n",
      "Total params: 50,428\n",
      "Trainable params: 49,968\n",
      "Non-trainable params: 460\n",
      "_________________________________________________________________\n"
     ]
    }
   ],
   "source": [
    "model.summary()"
   ]
  },
  {
   "cell_type": "code",
   "execution_count": 25,
   "metadata": {
    "executionInfo": {
     "elapsed": 2,
     "status": "ok",
     "timestamp": 1630758186543,
     "user": {
      "displayName": "정진우",
      "photoUrl": "",
      "userId": "05017758655145019300"
     },
     "user_tz": -540
    },
    "id": "0Zql2MLaz0i7"
   },
   "outputs": [],
   "source": [
    "# callback method\n",
    "\n",
    "# checkpoint path\n",
    "ckpt_name = 'aug_in_CNN_ckpt.hdf5'\n",
    "checkpoint_dir_path = os.path.join(prefix, 'checkpoint')\n",
    "checkpoint_path = os.path.join(prefix, 'checkpoint', ckpt_name)\n",
    "\n",
    "# check checkpoint paht\n",
    "# 디렉토리가 존재하지 않으면 생성\n",
    "if not(os.path.exists(checkpoint_dir_path)):\n",
    "  os.mkdir(checkpoint_dir_path)\n",
    "\n",
    "callbacks_list = [\n",
    "    # accuracy 기준 가장 높은 모델의 weight 저장\n",
    "    tf.keras.callbacks.ModelCheckpoint(\n",
    "        filepath = checkpoint_path,\n",
    "        monitor='val_accuracy',\n",
    "        mode='max',\n",
    "        save_weights_only=True,\n",
    "        save_best_only=True\n",
    "    ),\n",
    "    # EarlyStopping\n",
    "    tf.keras.callbacks.EarlyStopping(\n",
    "        monitor='val_accuracy',\n",
    "        mode='max',\n",
    "        verbose=1, \n",
    "        patience=10\n",
    "    )\n",
    "]"
   ]
  },
  {
   "cell_type": "code",
   "execution_count": 26,
   "metadata": {
    "colab": {
     "base_uri": "https://localhost:8080/"
    },
    "executionInfo": {
     "elapsed": 254119,
     "status": "ok",
     "timestamp": 1630758441622,
     "user": {
      "displayName": "정진우",
      "photoUrl": "",
      "userId": "05017758655145019300"
     },
     "user_tz": -540
    },
    "id": "oihQq60Hz0lr",
    "outputId": "d13855d4-a323-429d-93dd-c3b95d5e873d"
   },
   "outputs": [
    {
     "name": "stdout",
     "output_type": "stream",
     "text": [
      "Epoch 1/100\n",
      "74/74 [==============================] - 6s 57ms/step - loss: 2.1304 - accuracy: 0.2327 - val_loss: 2.2259 - val_accuracy: 0.1594\n",
      "Epoch 2/100\n",
      "74/74 [==============================] - 4s 54ms/step - loss: 1.8927 - accuracy: 0.3118 - val_loss: 2.2180 - val_accuracy: 0.1831\n",
      "Epoch 3/100\n",
      "74/74 [==============================] - 4s 54ms/step - loss: 1.7998 - accuracy: 0.3457 - val_loss: 2.2830 - val_accuracy: 0.2004\n",
      "Epoch 4/100\n",
      "74/74 [==============================] - 4s 54ms/step - loss: 1.7565 - accuracy: 0.3661 - val_loss: 2.2517 - val_accuracy: 0.2390\n",
      "Epoch 5/100\n",
      "74/74 [==============================] - 4s 55ms/step - loss: 1.7166 - accuracy: 0.3805 - val_loss: 2.2608 - val_accuracy: 0.2530\n",
      "Epoch 6/100\n",
      "74/74 [==============================] - 4s 54ms/step - loss: 1.6782 - accuracy: 0.3979 - val_loss: 2.0270 - val_accuracy: 0.2942\n",
      "Epoch 7/100\n",
      "74/74 [==============================] - 4s 54ms/step - loss: 1.6450 - accuracy: 0.4097 - val_loss: 1.9023 - val_accuracy: 0.3281\n",
      "Epoch 8/100\n",
      "74/74 [==============================] - 4s 54ms/step - loss: 1.6392 - accuracy: 0.4106 - val_loss: 1.8586 - val_accuracy: 0.3297\n",
      "Epoch 9/100\n",
      "74/74 [==============================] - 4s 55ms/step - loss: 1.6202 - accuracy: 0.4185 - val_loss: 1.8696 - val_accuracy: 0.3394\n",
      "Epoch 10/100\n",
      "74/74 [==============================] - 4s 53ms/step - loss: 1.5941 - accuracy: 0.4285 - val_loss: 1.7905 - val_accuracy: 0.3695\n",
      "Epoch 11/100\n",
      "74/74 [==============================] - 4s 53ms/step - loss: 1.5802 - accuracy: 0.4370 - val_loss: 1.7445 - val_accuracy: 0.3806\n",
      "Epoch 12/100\n",
      "74/74 [==============================] - 4s 53ms/step - loss: 1.5561 - accuracy: 0.4439 - val_loss: 1.7779 - val_accuracy: 0.3670\n",
      "Epoch 13/100\n",
      "74/74 [==============================] - 4s 55ms/step - loss: 1.5349 - accuracy: 0.4514 - val_loss: 1.7390 - val_accuracy: 0.3822\n",
      "Epoch 14/100\n",
      "74/74 [==============================] - 4s 55ms/step - loss: 1.5401 - accuracy: 0.4512 - val_loss: 1.7070 - val_accuracy: 0.3914\n",
      "Epoch 15/100\n",
      "74/74 [==============================] - 4s 54ms/step - loss: 1.5160 - accuracy: 0.4593 - val_loss: 1.8055 - val_accuracy: 0.3698\n",
      "Epoch 16/100\n",
      "74/74 [==============================] - 4s 53ms/step - loss: 1.5055 - accuracy: 0.4640 - val_loss: 1.7687 - val_accuracy: 0.3860\n",
      "Epoch 17/100\n",
      "74/74 [==============================] - 4s 54ms/step - loss: 1.4943 - accuracy: 0.4673 - val_loss: 1.7268 - val_accuracy: 0.3913\n",
      "Epoch 18/100\n",
      "74/74 [==============================] - 4s 55ms/step - loss: 1.4786 - accuracy: 0.4695 - val_loss: 1.6982 - val_accuracy: 0.4031\n",
      "Epoch 19/100\n",
      "74/74 [==============================] - 4s 53ms/step - loss: 1.4614 - accuracy: 0.4781 - val_loss: 1.7044 - val_accuracy: 0.4092\n",
      "Epoch 20/100\n",
      "74/74 [==============================] - 4s 55ms/step - loss: 1.4509 - accuracy: 0.4847 - val_loss: 1.7602 - val_accuracy: 0.3844\n",
      "Epoch 21/100\n",
      "74/74 [==============================] - 4s 54ms/step - loss: 1.4457 - accuracy: 0.4844 - val_loss: 1.8722 - val_accuracy: 0.3794\n",
      "Epoch 22/100\n",
      "74/74 [==============================] - 4s 54ms/step - loss: 1.4425 - accuracy: 0.4890 - val_loss: 1.7798 - val_accuracy: 0.3822\n",
      "Epoch 23/100\n",
      "74/74 [==============================] - 4s 55ms/step - loss: 1.4356 - accuracy: 0.4881 - val_loss: 1.7735 - val_accuracy: 0.3894\n",
      "Epoch 24/100\n",
      "74/74 [==============================] - 4s 54ms/step - loss: 1.4338 - accuracy: 0.4889 - val_loss: 1.9548 - val_accuracy: 0.3659\n",
      "Epoch 25/100\n",
      "74/74 [==============================] - 4s 54ms/step - loss: 1.4303 - accuracy: 0.4905 - val_loss: 1.6421 - val_accuracy: 0.4288\n",
      "Epoch 26/100\n",
      "74/74 [==============================] - 4s 55ms/step - loss: 1.4171 - accuracy: 0.4967 - val_loss: 1.8504 - val_accuracy: 0.3774\n",
      "Epoch 27/100\n",
      "74/74 [==============================] - 4s 55ms/step - loss: 1.4033 - accuracy: 0.5031 - val_loss: 1.7245 - val_accuracy: 0.4101\n",
      "Epoch 28/100\n",
      "74/74 [==============================] - 4s 55ms/step - loss: 1.4005 - accuracy: 0.5016 - val_loss: 1.8112 - val_accuracy: 0.3846\n",
      "Epoch 29/100\n",
      "74/74 [==============================] - 4s 54ms/step - loss: 1.3930 - accuracy: 0.5062 - val_loss: 1.7367 - val_accuracy: 0.3971\n",
      "Epoch 30/100\n",
      "74/74 [==============================] - 4s 54ms/step - loss: 1.3883 - accuracy: 0.5082 - val_loss: 1.8136 - val_accuracy: 0.3804\n",
      "Epoch 31/100\n",
      "74/74 [==============================] - 4s 54ms/step - loss: 1.3865 - accuracy: 0.5058 - val_loss: 1.6454 - val_accuracy: 0.4294\n",
      "Epoch 32/100\n",
      "74/74 [==============================] - 4s 54ms/step - loss: 1.3782 - accuracy: 0.5093 - val_loss: 1.6407 - val_accuracy: 0.4366\n",
      "Epoch 33/100\n",
      "74/74 [==============================] - 4s 54ms/step - loss: 1.3714 - accuracy: 0.5113 - val_loss: 1.5425 - val_accuracy: 0.4562\n",
      "Epoch 34/100\n",
      "74/74 [==============================] - 4s 55ms/step - loss: 1.3606 - accuracy: 0.5147 - val_loss: 1.5762 - val_accuracy: 0.4474\n",
      "Epoch 35/100\n",
      "74/74 [==============================] - 4s 55ms/step - loss: 1.3511 - accuracy: 0.5204 - val_loss: 1.6259 - val_accuracy: 0.4346\n",
      "Epoch 36/100\n",
      "74/74 [==============================] - 4s 55ms/step - loss: 1.3555 - accuracy: 0.5213 - val_loss: 1.6586 - val_accuracy: 0.4224\n",
      "Epoch 37/100\n",
      "74/74 [==============================] - 4s 54ms/step - loss: 1.3512 - accuracy: 0.5206 - val_loss: 1.6119 - val_accuracy: 0.4357\n",
      "Epoch 38/100\n",
      "74/74 [==============================] - 4s 55ms/step - loss: 1.3655 - accuracy: 0.5181 - val_loss: 1.6579 - val_accuracy: 0.4255\n",
      "Epoch 39/100\n",
      "74/74 [==============================] - 4s 54ms/step - loss: 1.3493 - accuracy: 0.5222 - val_loss: 1.5872 - val_accuracy: 0.4450\n",
      "Epoch 40/100\n",
      "74/74 [==============================] - 4s 54ms/step - loss: 1.3355 - accuracy: 0.5300 - val_loss: 1.5480 - val_accuracy: 0.4491\n",
      "Epoch 41/100\n",
      "74/74 [==============================] - 4s 54ms/step - loss: 1.3402 - accuracy: 0.5227 - val_loss: 1.5527 - val_accuracy: 0.4573\n",
      "Epoch 42/100\n",
      "74/74 [==============================] - 4s 54ms/step - loss: 1.3318 - accuracy: 0.5274 - val_loss: 1.8019 - val_accuracy: 0.3980\n",
      "Epoch 43/100\n",
      "74/74 [==============================] - 4s 55ms/step - loss: 1.3360 - accuracy: 0.5287 - val_loss: 1.5476 - val_accuracy: 0.4564\n",
      "Epoch 44/100\n",
      "74/74 [==============================] - 4s 55ms/step - loss: 1.3246 - accuracy: 0.5323 - val_loss: 1.6079 - val_accuracy: 0.4476\n",
      "Epoch 45/100\n",
      "74/74 [==============================] - 4s 54ms/step - loss: 1.3239 - accuracy: 0.5301 - val_loss: 1.6638 - val_accuracy: 0.4229\n",
      "Epoch 46/100\n",
      "74/74 [==============================] - 4s 56ms/step - loss: 1.3055 - accuracy: 0.5383 - val_loss: 1.6757 - val_accuracy: 0.4255\n",
      "Epoch 47/100\n",
      "74/74 [==============================] - 4s 55ms/step - loss: 1.3122 - accuracy: 0.5357 - val_loss: 1.6252 - val_accuracy: 0.4507\n",
      "Epoch 48/100\n",
      "74/74 [==============================] - 4s 56ms/step - loss: 1.3137 - accuracy: 0.5327 - val_loss: 1.6173 - val_accuracy: 0.4390\n",
      "Epoch 49/100\n",
      "74/74 [==============================] - 4s 54ms/step - loss: 1.3053 - accuracy: 0.5412 - val_loss: 1.5479 - val_accuracy: 0.4585\n",
      "Epoch 50/100\n",
      "74/74 [==============================] - 4s 55ms/step - loss: 1.3002 - accuracy: 0.5371 - val_loss: 1.5131 - val_accuracy: 0.4687\n",
      "Epoch 51/100\n",
      "74/74 [==============================] - 4s 54ms/step - loss: 1.2966 - accuracy: 0.5421 - val_loss: 1.6626 - val_accuracy: 0.4335\n",
      "Epoch 52/100\n",
      "74/74 [==============================] - 4s 54ms/step - loss: 1.3040 - accuracy: 0.5379 - val_loss: 1.5540 - val_accuracy: 0.4620\n",
      "Epoch 53/100\n",
      "74/74 [==============================] - 4s 54ms/step - loss: 1.2925 - accuracy: 0.5432 - val_loss: 1.5301 - val_accuracy: 0.4642\n",
      "Epoch 54/100\n",
      "74/74 [==============================] - 4s 54ms/step - loss: 1.2839 - accuracy: 0.5462 - val_loss: 1.6262 - val_accuracy: 0.4416\n",
      "Epoch 55/100\n",
      "74/74 [==============================] - 4s 54ms/step - loss: 1.2970 - accuracy: 0.5401 - val_loss: 1.5839 - val_accuracy: 0.4471\n",
      "Epoch 56/100\n",
      "74/74 [==============================] - 4s 54ms/step - loss: 1.2719 - accuracy: 0.5479 - val_loss: 1.6089 - val_accuracy: 0.4445\n",
      "Epoch 57/100\n",
      "74/74 [==============================] - 4s 55ms/step - loss: 1.2801 - accuracy: 0.5497 - val_loss: 1.6405 - val_accuracy: 0.4456\n",
      "Epoch 58/100\n",
      "74/74 [==============================] - 4s 54ms/step - loss: 1.2807 - accuracy: 0.5458 - val_loss: 1.5957 - val_accuracy: 0.4506\n",
      "Epoch 59/100\n",
      "74/74 [==============================] - 4s 54ms/step - loss: 1.2807 - accuracy: 0.5470 - val_loss: 1.6025 - val_accuracy: 0.4535\n",
      "Epoch 60/100\n",
      "74/74 [==============================] - 4s 55ms/step - loss: 1.2640 - accuracy: 0.5531 - val_loss: 1.5257 - val_accuracy: 0.4681\n",
      "Epoch 00060: early stopping\n"
     ]
    }
   ],
   "source": [
    "hist = model.fit(train_dataset, validation_data=valid_dataset, callbacks=callbacks_list, epochs=100)"
   ]
  },
  {
   "cell_type": "code",
   "execution_count": 27,
   "metadata": {
    "colab": {
     "base_uri": "https://localhost:8080/",
     "height": 911
    },
    "executionInfo": {
     "elapsed": 954,
     "status": "ok",
     "timestamp": 1630758446740,
     "user": {
      "displayName": "정진우",
      "photoUrl": "",
      "userId": "05017758655145019300"
     },
     "user_tz": -540
    },
    "id": "V-h5qARez0ri",
    "outputId": "dbb8125b-43ed-47ef-8550-ab3883b29075"
   },
   "outputs": [
    {
     "data": {
      "text/plain": [
       "<matplotlib.legend.Legend at 0x7f048bb755d0>"
      ]
     },
     "execution_count": 27,
     "metadata": {},
     "output_type": "execute_result"
    },
    {
     "data": {
      "image/png": "[encoded data removed]",
      "text/plain": [
       "<Figure size 1080x1080 with 1 Axes>"
      ]
     },
     "metadata": {
      "needs_background": "light"
     },
     "output_type": "display_data"
    }
   ],
   "source": [
    "# learning curve\n",
    "plt.figure(figsize=(15, 15))\n",
    "plt.plot(hist.history['accuracy'], label='train_accuracy')\n",
    "plt.plot(hist.history['val_accuracy'], label='val_accuracy')\n",
    "plt.title('Learing Curve')\n",
    "plt.xlabel('Epochs')\n",
    "plt.ylabel('accuracy')\n",
    "plt.legend()"
   ]
  },
  {
   "cell_type": "code",
   "execution_count": 28,
   "metadata": {
    "executionInfo": {
     "elapsed": 219,
     "status": "ok",
     "timestamp": 1630758458623,
     "user": {
      "displayName": "정진우",
      "photoUrl": "",
      "userId": "05017758655145019300"
     },
     "user_tz": -540
    },
    "id": "YuERCuH1z0uT"
   },
   "outputs": [],
   "source": [
    "# load last ckpt weight\n",
    "model.load_weights(checkpoint_path)"
   ]
  },
  {
   "cell_type": "code",
   "execution_count": 29,
   "metadata": {
    "colab": {
     "base_uri": "https://localhost:8080/"
    },
    "executionInfo": {
     "elapsed": 561,
     "status": "ok",
     "timestamp": 1630758465597,
     "user": {
      "displayName": "정진우",
      "photoUrl": "",
      "userId": "05017758655145019300"
     },
     "user_tz": -540
    },
    "id": "VcBN_eVUx1Im",
    "outputId": "8d26e370-78bd-4505-e51a-03acfef49118"
   },
   "outputs": [
    {
     "name": "stdout",
     "output_type": "stream",
     "text": [
      "20/20 [==============================] - 0s 14ms/step - loss: 1.5106 - accuracy: 0.4698\n"
     ]
    },
    {
     "data": {
      "text/plain": [
       "[1.510609745979309, 0.4697999954223633]"
      ]
     },
     "execution_count": 29,
     "metadata": {},
     "output_type": "execute_result"
    }
   ],
   "source": [
    "# evaluate test set\n",
    "model.evaluate(test_dataset)"
   ]
  },
  {
   "cell_type": "code",
   "execution_count": 23,
   "metadata": {
    "executionInfo": {
     "elapsed": 3050,
     "status": "ok",
     "timestamp": 1630758846631,
     "user": {
      "displayName": "정진우",
      "photoUrl": "",
      "userId": "05017758655145019300"
     },
     "user_tz": -540
    },
    "id": "p64Q3j61x2yt"
   },
   "outputs": [],
   "source": [
    "# Xception\n",
    "with tf.device('gpu'):\n",
    "  base = keras.applications.EfficientNetB0(input_shape=(32, 32, 3), weights=None, include_top=False)\n",
    "\n",
    "  # make top\n",
    "  effi = keras.models.Sequential()\n",
    "  effi.add(keras.layers.Input(shape=(32, 32, 3)))\n",
    "  effi.add(data_augmentation)\n",
    "  effi.add(base)\n",
    "  effi.add(keras.layers.GlobalAveragePooling2D())\n",
    "  effi.add(keras.layers.BatchNormalization())\n",
    "  effi.add(keras.layers.Dense(num_class, activation='softmax'))\n",
    "\n",
    "  xception.compile(\n",
    "      optimizer='adam',\n",
    "      loss='categorical_crossentropy',\n",
    "      metrics='accuracy'\n",
    "  )"
   ]
  },
  {
   "cell_type": "code",
   "execution_count": 25,
   "metadata": {
    "colab": {
     "base_uri": "https://localhost:8080/"
    },
    "executionInfo": {
     "elapsed": 219,
     "status": "ok",
     "timestamp": 1630758865315,
     "user": {
      "displayName": "정진우",
      "photoUrl": "",
      "userId": "05017758655145019300"
     },
     "user_tz": -540
    },
    "id": "FzylV74YyJoi",
    "outputId": "436f4bd7-2a6b-4858-e286-887318a396f2"
   },
   "outputs": [
    {
     "name": "stdout",
     "output_type": "stream",
     "text": [
      "Model: \"sequential_4\"\n",
      "_________________________________________________________________\n",
      "Layer (type)                 Output Shape              Param #   \n",
      "=================================================================\n",
      "sequential (Sequential)      (None, None, None, 3)     0         \n",
      "_________________________________________________________________\n",
      "efficientnetb0 (Functional)  (None, 1, 1, 1280)        4049571   \n",
      "_________________________________________________________________\n",
      "global_average_pooling2d_2 ( (None, 1280)              0         \n",
      "_________________________________________________________________\n",
      "batch_normalization_12 (Batc (None, 1280)              5120      \n",
      "_________________________________________________________________\n",
      "dense_6 (Dense)              (None, 10)                12810     \n",
      "=================================================================\n",
      "Total params: 4,067,501\n",
      "Trainable params: 4,022,918\n",
      "Non-trainable params: 44,583\n",
      "_________________________________________________________________\n"
     ]
    }
   ],
   "source": [
    "effi.summary()"
   ]
  },
  {
   "cell_type": "code",
   "execution_count": 26,
   "metadata": {
    "executionInfo": {
     "elapsed": 216,
     "status": "ok",
     "timestamp": 1630758873649,
     "user": {
      "displayName": "정진우",
      "photoUrl": "",
      "userId": "05017758655145019300"
     },
     "user_tz": -540
    },
    "id": "RbW24P-HyK7X"
   },
   "outputs": [],
   "source": [
    "# callback method\n",
    "\n",
    "# checkpoint path\n",
    "ckpt_name = 'aug_in_effi_ckpt.hdf5'\n",
    "checkpoint_dir_path = os.path.join(prefix, 'checkpoint')\n",
    "checkpoint_path = os.path.join(prefix, 'checkpoint', ckpt_name)\n",
    "\n",
    "# check checkpoint paht\n",
    "# 디렉토리가 존재하지 않으면 생성\n",
    "if not(os.path.exists(checkpoint_dir_path)):\n",
    "  os.mkdir(checkpoint_dir_path)\n",
    "\n",
    "callbacks_list = [\n",
    "    # accuracy 기준 가장 높은 모델의 weight 저장\n",
    "    tf.keras.callbacks.ModelCheckpoint(\n",
    "        filepath = checkpoint_path,\n",
    "        monitor='val_accuracy',\n",
    "        mode='max',\n",
    "        save_weights_only=True,\n",
    "        save_best_only=True\n",
    "    ),\n",
    "    # EarlyStopping\n",
    "    tf.keras.callbacks.EarlyStopping(\n",
    "        monitor='val_accuracy',\n",
    "        mode='max',\n",
    "        verbose=1, \n",
    "        patience=10\n",
    "    )\n",
    "]"
   ]
  },
  {
   "cell_type": "code",
   "execution_count": 27,
   "metadata": {
    "colab": {
     "base_uri": "https://localhost:8080/"
    },
    "executionInfo": {
     "elapsed": 787904,
     "status": "ok",
     "timestamp": 1630759663666,
     "user": {
      "displayName": "정진우",
      "photoUrl": "",
      "userId": "05017758655145019300"
     },
     "user_tz": -540
    },
    "id": "xdnyV_WxyOE3",
    "outputId": "826945bd-73df-43cd-d9b3-dfaa997025f5"
   },
   "outputs": [
    {
     "name": "stdout",
     "output_type": "stream",
     "text": [
      "Epoch 1/100\n",
      "74/74 [==============================] - 36s 302ms/step - loss: 2.5170 - accuracy: 0.1627 - val_loss: 2.3087 - val_accuracy: 0.1000\n",
      "Epoch 2/100\n",
      "74/74 [==============================] - 19s 254ms/step - loss: 2.2627 - accuracy: 0.2021 - val_loss: 2.3156 - val_accuracy: 0.1000\n",
      "Epoch 3/100\n",
      "74/74 [==============================] - 19s 254ms/step - loss: 2.1184 - accuracy: 0.2238 - val_loss: 2.3240 - val_accuracy: 0.1000\n",
      "Epoch 4/100\n",
      "74/74 [==============================] - 19s 253ms/step - loss: 2.0803 - accuracy: 0.2414 - val_loss: 2.3213 - val_accuracy: 0.1000\n",
      "Epoch 5/100\n",
      "74/74 [==============================] - 19s 252ms/step - loss: 2.0300 - accuracy: 0.2574 - val_loss: 2.3171 - val_accuracy: 0.1000\n",
      "Epoch 6/100\n",
      "74/74 [==============================] - 19s 252ms/step - loss: 2.0064 - accuracy: 0.2683 - val_loss: 2.3503 - val_accuracy: 0.1000\n",
      "Epoch 7/100\n",
      "74/74 [==============================] - 19s 253ms/step - loss: 1.9756 - accuracy: 0.2795 - val_loss: 2.3054 - val_accuracy: 0.1011\n",
      "Epoch 8/100\n",
      "74/74 [==============================] - 19s 252ms/step - loss: 1.9450 - accuracy: 0.2926 - val_loss: 2.4218 - val_accuracy: 0.1333\n",
      "Epoch 9/100\n",
      "74/74 [==============================] - 19s 253ms/step - loss: 1.9336 - accuracy: 0.2956 - val_loss: 2.2831 - val_accuracy: 0.1886\n",
      "Epoch 10/100\n",
      "74/74 [==============================] - 19s 253ms/step - loss: 1.9060 - accuracy: 0.3123 - val_loss: 2.1008 - val_accuracy: 0.2489\n",
      "Epoch 11/100\n",
      "74/74 [==============================] - 19s 252ms/step - loss: 1.8860 - accuracy: 0.3185 - val_loss: 2.2433 - val_accuracy: 0.2650\n",
      "Epoch 12/100\n",
      "74/74 [==============================] - 19s 253ms/step - loss: 1.8771 - accuracy: 0.3264 - val_loss: 2.1578 - val_accuracy: 0.2470\n",
      "Epoch 13/100\n",
      "74/74 [==============================] - 19s 252ms/step - loss: 1.8709 - accuracy: 0.3273 - val_loss: 2.1264 - val_accuracy: 0.2562\n",
      "Epoch 14/100\n",
      "74/74 [==============================] - 19s 252ms/step - loss: 1.8450 - accuracy: 0.3372 - val_loss: 3.3448 - val_accuracy: 0.2452\n",
      "Epoch 15/100\n",
      "74/74 [==============================] - 19s 253ms/step - loss: 1.8307 - accuracy: 0.3460 - val_loss: 4.1311 - val_accuracy: 0.2809\n",
      "Epoch 16/100\n",
      "74/74 [==============================] - 19s 252ms/step - loss: 1.8128 - accuracy: 0.3486 - val_loss: 2.2528 - val_accuracy: 0.2878\n",
      "Epoch 17/100\n",
      "74/74 [==============================] - 21s 286ms/step - loss: 1.7790 - accuracy: 0.3630 - val_loss: 2.2085 - val_accuracy: 0.3035\n",
      "Epoch 18/100\n",
      "74/74 [==============================] - 19s 253ms/step - loss: 1.7847 - accuracy: 0.3625 - val_loss: 2.0908 - val_accuracy: 0.2927\n",
      "Epoch 19/100\n",
      "74/74 [==============================] - 21s 285ms/step - loss: 1.7984 - accuracy: 0.3573 - val_loss: 2.5764 - val_accuracy: 0.2771\n",
      "Epoch 20/100\n",
      "74/74 [==============================] - 21s 289ms/step - loss: 1.7934 - accuracy: 0.3646 - val_loss: 5.6530 - val_accuracy: 0.3158\n",
      "Epoch 21/100\n",
      "74/74 [==============================] - 19s 254ms/step - loss: 1.7733 - accuracy: 0.3729 - val_loss: 2.1478 - val_accuracy: 0.3018\n",
      "Epoch 22/100\n",
      "74/74 [==============================] - 19s 253ms/step - loss: 1.7622 - accuracy: 0.3753 - val_loss: 2.0186 - val_accuracy: 0.2891\n",
      "Epoch 23/100\n",
      "74/74 [==============================] - 19s 252ms/step - loss: 1.7374 - accuracy: 0.3820 - val_loss: 3.4432 - val_accuracy: 0.2762\n",
      "Epoch 24/100\n",
      "74/74 [==============================] - 19s 253ms/step - loss: 1.7177 - accuracy: 0.3875 - val_loss: 2.1141 - val_accuracy: 0.3422\n",
      "Epoch 25/100\n",
      "74/74 [==============================] - 19s 252ms/step - loss: 1.7059 - accuracy: 0.3936 - val_loss: 1.9793 - val_accuracy: 0.3074\n",
      "Epoch 26/100\n",
      "74/74 [==============================] - 19s 252ms/step - loss: 1.7287 - accuracy: 0.3855 - val_loss: 1.9453 - val_accuracy: 0.3186\n",
      "Epoch 27/100\n",
      "74/74 [==============================] - 19s 252ms/step - loss: 1.6917 - accuracy: 0.3991 - val_loss: 1.9129 - val_accuracy: 0.3152\n",
      "Epoch 28/100\n",
      "74/74 [==============================] - 19s 252ms/step - loss: 1.6796 - accuracy: 0.4032 - val_loss: 1.9970 - val_accuracy: 0.2788\n",
      "Epoch 29/100\n",
      "74/74 [==============================] - 19s 252ms/step - loss: 1.6543 - accuracy: 0.4127 - val_loss: 1.8991 - val_accuracy: 0.3346\n",
      "Epoch 30/100\n",
      "74/74 [==============================] - 21s 286ms/step - loss: 1.6675 - accuracy: 0.4091 - val_loss: 1.8967 - val_accuracy: 0.3148\n",
      "Epoch 31/100\n",
      "74/74 [==============================] - 19s 253ms/step - loss: 1.6534 - accuracy: 0.4114 - val_loss: 2.3389 - val_accuracy: 0.3366\n",
      "Epoch 32/100\n",
      "74/74 [==============================] - 19s 253ms/step - loss: 1.6472 - accuracy: 0.4170 - val_loss: 1.8980 - val_accuracy: 0.3346\n",
      "Epoch 33/100\n",
      "74/74 [==============================] - 19s 251ms/step - loss: 1.6742 - accuracy: 0.4081 - val_loss: 21.1404 - val_accuracy: 0.2467\n",
      "Epoch 34/100\n",
      "74/74 [==============================] - 19s 252ms/step - loss: 1.7111 - accuracy: 0.4036 - val_loss: 1.9771 - val_accuracy: 0.3049\n",
      "Epoch 00034: early stopping\n"
     ]
    }
   ],
   "source": [
    "hist = effi.fit(train_dataset, validation_data=valid_dataset, callbacks=callbacks_list, epochs=100)"
   ]
  },
  {
   "cell_type": "code",
   "execution_count": 28,
   "metadata": {
    "colab": {
     "base_uri": "https://localhost:8080/",
     "height": 911
    },
    "executionInfo": {
     "elapsed": 875,
     "status": "ok",
     "timestamp": 1630759691352,
     "user": {
      "displayName": "정진우",
      "photoUrl": "",
      "userId": "05017758655145019300"
     },
     "user_tz": -540
    },
    "id": "KYa8qKpQyPcm",
    "outputId": "ee4ac746-d4a5-4542-f0dc-d232cea4ce0c"
   },
   "outputs": [
    {
     "data": {
      "text/plain": [
       "<matplotlib.legend.Legend at 0x7f06195f9690>"
      ]
     },
     "execution_count": 28,
     "metadata": {},
     "output_type": "execute_result"
    },
    {
     "data": {
      "image/png": "[encoded data removed]",
      "text/plain": [
       "<Figure size 1080x1080 with 1 Axes>"
      ]
     },
     "metadata": {
      "needs_background": "light"
     },
     "output_type": "display_data"
    }
   ],
   "source": [
    "# learning curve\n",
    "plt.figure(figsize=(15, 15))\n",
    "plt.plot(hist.history['accuracy'], label='accuracy')\n",
    "plt.plot(hist.history['val_accuracy'], label='val_accuracy')\n",
    "plt.title('Learing Curve')\n",
    "plt.xlabel('Epochs')\n",
    "plt.ylabel('accuracy')\n",
    "plt.legend()"
   ]
  },
  {
   "cell_type": "code",
   "execution_count": 29,
   "metadata": {
    "executionInfo": {
     "elapsed": 2674,
     "status": "ok",
     "timestamp": 1630759705992,
     "user": {
      "displayName": "정진우",
      "photoUrl": "",
      "userId": "05017758655145019300"
     },
     "user_tz": -540
    },
    "id": "WAGv0uop2h-G"
   },
   "outputs": [],
   "source": [
    "# load last ckpt weight\n",
    "effi.load_weights(checkpoint_path)"
   ]
  },
  {
   "cell_type": "code",
   "execution_count": 30,
   "metadata": {
    "colab": {
     "base_uri": "https://localhost:8080/"
    },
    "executionInfo": {
     "elapsed": 3429,
     "status": "ok",
     "timestamp": 1630759714930,
     "user": {
      "displayName": "정진우",
      "photoUrl": "",
      "userId": "05017758655145019300"
     },
     "user_tz": -540
    },
    "id": "ZBVDYtcP2lDv",
    "outputId": "988ccaec-13da-4818-e0bf-4c1d129e5d5b"
   },
   "outputs": [
    {
     "name": "stdout",
     "output_type": "stream",
     "text": [
      "20/20 [==============================] - 3s 157ms/step - loss: 2.1461 - accuracy: 0.2924\n"
     ]
    },
    {
     "data": {
      "text/plain": [
       "[2.146077871322632, 0.2924000024795532]"
      ]
     },
     "execution_count": 30,
     "metadata": {},
     "output_type": "execute_result"
    }
   ],
   "source": [
    "# evaluate test set\n",
    "effi.evaluate(test_dataset)"
   ]
  },
  {
   "cell_type": "code",
   "execution_count": null,
   "metadata": {
    "id": "hPIlexsJ2nG2"
   },
   "outputs": [],
   "source": []
  }
 ],
 "metadata": {
  "accelerator": "GPU",
  "colab": {
   "authorship_tag": "ABX9TyNh/cGPmWR/8E+eElO4A5Ow",
   "collapsed_sections": [],
   "name": "aug_in_layer.ipynb",
   "provenance": []
  },
  "kernelspec": {
   "display_name": "Python 3",
   "language": "python",
   "name": "python3"
  },
  "language_info": {
   "codemirror_mode": {
    "name": "ipython",
    "version": 3
   },
   "file_extension": ".py",
   "mimetype": "text/x-python",
   "name": "python",
   "nbconvert_exporter": "python",
   "pygments_lexer": "ipython3",
   "version": "3.8.5"
  }
 },
 "nbformat": 4,
 "nbformat_minor": 1
}
