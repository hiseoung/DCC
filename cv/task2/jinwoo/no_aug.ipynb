{
 "cells": [
  {
   "cell_type": "code",
   "execution_count": 1,
   "metadata": {
    "colab": {
     "base_uri": "https://localhost:8080/"
    },
    "executionInfo": {
     "elapsed": 15751,
     "status": "ok",
     "timestamp": 1630553232535,
     "user": {
      "displayName": "정진우",
      "photoUrl": "",
      "userId": "05017758655145019300"
     },
     "user_tz": -540
    },
    "id": "dpd5I6mSa867",
    "outputId": "13e34aca-aa1c-4176-83cb-7ab3b9f08d56"
   },
   "outputs": [
    {
     "name": "stdout",
     "output_type": "stream",
     "text": [
      "Mounted at /content/drive\n"
     ]
    }
   ],
   "source": [
    "from google.colab import drive\n",
    "drive.mount('/content/drive')"
   ]
  },
  {
   "cell_type": "code",
   "execution_count": 2,
   "metadata": {
    "executionInfo": {
     "elapsed": 244,
     "status": "ok",
     "timestamp": 1630553234535,
     "user": {
      "displayName": "정진우",
      "photoUrl": "",
      "userId": "05017758655145019300"
     },
     "user_tz": -540
    },
    "id": "sL_3sfkla8lq"
   },
   "outputs": [],
   "source": [
    "# prefix path\n",
    "prefix = '/content/drive/MyDrive/데이터크리에이터캠프/CV/task2/jinwoo'"
   ]
  },
  {
   "cell_type": "code",
   "execution_count": 3,
   "metadata": {
    "executionInfo": {
     "elapsed": 3432,
     "status": "ok",
     "timestamp": 1630553239119,
     "user": {
      "displayName": "정진우",
      "photoUrl": "",
      "userId": "05017758655145019300"
     },
     "user_tz": -540
    },
    "id": "U7JXnggmmnMz"
   },
   "outputs": [],
   "source": [
    "import tensorflow as tf\n",
    "from tensorflow import keras\n",
    "import numpy as np\n",
    "from keras.datasets import cifar10\n",
    "from sklearn.model_selection import train_test_split\n",
    "import matplotlib.pyplot as plt\n",
    "import os"
   ]
  },
  {
   "cell_type": "code",
   "execution_count": 4,
   "metadata": {
    "colab": {
     "base_uri": "https://localhost:8080/"
    },
    "executionInfo": {
     "elapsed": 8464,
     "status": "ok",
     "timestamp": 1630553248734,
     "user": {
      "displayName": "정진우",
      "photoUrl": "",
      "userId": "05017758655145019300"
     },
     "user_tz": -540
    },
    "id": "9-9xHk32bHSS",
    "outputId": "9d98806c-e2f0-45d2-8d3b-e4e6c3ee56f6"
   },
   "outputs": [
    {
     "name": "stdout",
     "output_type": "stream",
     "text": [
      "Running on TPU  grpc://10.95.2.234:8470\n",
      "INFO:tensorflow:Clearing out eager caches\n"
     ]
    },
    {
     "name": "stderr",
     "output_type": "stream",
     "text": [
      "INFO:tensorflow:Clearing out eager caches\n"
     ]
    },
    {
     "name": "stdout",
     "output_type": "stream",
     "text": [
      "INFO:tensorflow:Initializing the TPU system: grpc://10.95.2.234:8470\n"
     ]
    },
    {
     "name": "stderr",
     "output_type": "stream",
     "text": [
      "INFO:tensorflow:Initializing the TPU system: grpc://10.95.2.234:8470\n"
     ]
    },
    {
     "name": "stdout",
     "output_type": "stream",
     "text": [
      "INFO:tensorflow:Finished initializing TPU system.\n"
     ]
    },
    {
     "name": "stderr",
     "output_type": "stream",
     "text": [
      "INFO:tensorflow:Finished initializing TPU system.\n"
     ]
    },
    {
     "name": "stdout",
     "output_type": "stream",
     "text": [
      "INFO:tensorflow:Found TPU system:\n"
     ]
    },
    {
     "name": "stderr",
     "output_type": "stream",
     "text": [
      "INFO:tensorflow:Found TPU system:\n"
     ]
    },
    {
     "name": "stdout",
     "output_type": "stream",
     "text": [
      "INFO:tensorflow:*** Num TPU Cores: 8\n"
     ]
    },
    {
     "name": "stderr",
     "output_type": "stream",
     "text": [
      "INFO:tensorflow:*** Num TPU Cores: 8\n"
     ]
    },
    {
     "name": "stdout",
     "output_type": "stream",
     "text": [
      "INFO:tensorflow:*** Num TPU Workers: 1\n"
     ]
    },
    {
     "name": "stderr",
     "output_type": "stream",
     "text": [
      "INFO:tensorflow:*** Num TPU Workers: 1\n"
     ]
    },
    {
     "name": "stdout",
     "output_type": "stream",
     "text": [
      "INFO:tensorflow:*** Num TPU Cores Per Worker: 8\n"
     ]
    },
    {
     "name": "stderr",
     "output_type": "stream",
     "text": [
      "INFO:tensorflow:*** Num TPU Cores Per Worker: 8\n"
     ]
    },
    {
     "name": "stdout",
     "output_type": "stream",
     "text": [
      "INFO:tensorflow:*** Available Device: _DeviceAttributes(/job:localhost/replica:0/task:0/device:CPU:0, CPU, 0, 0)\n"
     ]
    },
    {
     "name": "stderr",
     "output_type": "stream",
     "text": [
      "INFO:tensorflow:*** Available Device: _DeviceAttributes(/job:localhost/replica:0/task:0/device:CPU:0, CPU, 0, 0)\n"
     ]
    },
    {
     "name": "stdout",
     "output_type": "stream",
     "text": [
      "INFO:tensorflow:*** Available Device: _DeviceAttributes(/job:worker/replica:0/task:0/device:CPU:0, CPU, 0, 0)\n"
     ]
    },
    {
     "name": "stderr",
     "output_type": "stream",
     "text": [
      "INFO:tensorflow:*** Available Device: _DeviceAttributes(/job:worker/replica:0/task:0/device:CPU:0, CPU, 0, 0)\n"
     ]
    },
    {
     "name": "stdout",
     "output_type": "stream",
     "text": [
      "INFO:tensorflow:*** Available Device: _DeviceAttributes(/job:worker/replica:0/task:0/device:TPU:0, TPU, 0, 0)\n"
     ]
    },
    {
     "name": "stderr",
     "output_type": "stream",
     "text": [
      "INFO:tensorflow:*** Available Device: _DeviceAttributes(/job:worker/replica:0/task:0/device:TPU:0, TPU, 0, 0)\n"
     ]
    },
    {
     "name": "stdout",
     "output_type": "stream",
     "text": [
      "INFO:tensorflow:*** Available Device: _DeviceAttributes(/job:worker/replica:0/task:0/device:TPU:1, TPU, 0, 0)\n"
     ]
    },
    {
     "name": "stderr",
     "output_type": "stream",
     "text": [
      "INFO:tensorflow:*** Available Device: _DeviceAttributes(/job:worker/replica:0/task:0/device:TPU:1, TPU, 0, 0)\n"
     ]
    },
    {
     "name": "stdout",
     "output_type": "stream",
     "text": [
      "INFO:tensorflow:*** Available Device: _DeviceAttributes(/job:worker/replica:0/task:0/device:TPU:2, TPU, 0, 0)\n"
     ]
    },
    {
     "name": "stderr",
     "output_type": "stream",
     "text": [
      "INFO:tensorflow:*** Available Device: _DeviceAttributes(/job:worker/replica:0/task:0/device:TPU:2, TPU, 0, 0)\n"
     ]
    },
    {
     "name": "stdout",
     "output_type": "stream",
     "text": [
      "INFO:tensorflow:*** Available Device: _DeviceAttributes(/job:worker/replica:0/task:0/device:TPU:3, TPU, 0, 0)\n"
     ]
    },
    {
     "name": "stderr",
     "output_type": "stream",
     "text": [
      "INFO:tensorflow:*** Available Device: _DeviceAttributes(/job:worker/replica:0/task:0/device:TPU:3, TPU, 0, 0)\n"
     ]
    },
    {
     "name": "stdout",
     "output_type": "stream",
     "text": [
      "INFO:tensorflow:*** Available Device: _DeviceAttributes(/job:worker/replica:0/task:0/device:TPU:4, TPU, 0, 0)\n"
     ]
    },
    {
     "name": "stderr",
     "output_type": "stream",
     "text": [
      "INFO:tensorflow:*** Available Device: _DeviceAttributes(/job:worker/replica:0/task:0/device:TPU:4, TPU, 0, 0)\n"
     ]
    },
    {
     "name": "stdout",
     "output_type": "stream",
     "text": [
      "INFO:tensorflow:*** Available Device: _DeviceAttributes(/job:worker/replica:0/task:0/device:TPU:5, TPU, 0, 0)\n"
     ]
    },
    {
     "name": "stderr",
     "output_type": "stream",
     "text": [
      "INFO:tensorflow:*** Available Device: _DeviceAttributes(/job:worker/replica:0/task:0/device:TPU:5, TPU, 0, 0)\n"
     ]
    },
    {
     "name": "stdout",
     "output_type": "stream",
     "text": [
      "INFO:tensorflow:*** Available Device: _DeviceAttributes(/job:worker/replica:0/task:0/device:TPU:6, TPU, 0, 0)\n"
     ]
    },
    {
     "name": "stderr",
     "output_type": "stream",
     "text": [
      "INFO:tensorflow:*** Available Device: _DeviceAttributes(/job:worker/replica:0/task:0/device:TPU:6, TPU, 0, 0)\n"
     ]
    },
    {
     "name": "stdout",
     "output_type": "stream",
     "text": [
      "INFO:tensorflow:*** Available Device: _DeviceAttributes(/job:worker/replica:0/task:0/device:TPU:7, TPU, 0, 0)\n"
     ]
    },
    {
     "name": "stderr",
     "output_type": "stream",
     "text": [
      "INFO:tensorflow:*** Available Device: _DeviceAttributes(/job:worker/replica:0/task:0/device:TPU:7, TPU, 0, 0)\n"
     ]
    },
    {
     "name": "stdout",
     "output_type": "stream",
     "text": [
      "INFO:tensorflow:*** Available Device: _DeviceAttributes(/job:worker/replica:0/task:0/device:TPU_SYSTEM:0, TPU_SYSTEM, 0, 0)\n"
     ]
    },
    {
     "name": "stderr",
     "output_type": "stream",
     "text": [
      "INFO:tensorflow:*** Available Device: _DeviceAttributes(/job:worker/replica:0/task:0/device:TPU_SYSTEM:0, TPU_SYSTEM, 0, 0)\n"
     ]
    },
    {
     "name": "stdout",
     "output_type": "stream",
     "text": [
      "INFO:tensorflow:*** Available Device: _DeviceAttributes(/job:worker/replica:0/task:0/device:XLA_CPU:0, XLA_CPU, 0, 0)\n"
     ]
    },
    {
     "name": "stderr",
     "output_type": "stream",
     "text": [
      "INFO:tensorflow:*** Available Device: _DeviceAttributes(/job:worker/replica:0/task:0/device:XLA_CPU:0, XLA_CPU, 0, 0)\n"
     ]
    },
    {
     "name": "stdout",
     "output_type": "stream",
     "text": [
      "REPLICAS:  8\n"
     ]
    }
   ],
   "source": [
    "# tup\n",
    "try:\n",
    "    tpu = tf.distribute.cluster_resolver.TPUClusterResolver()  \n",
    "    # TPU detection. No parameters necessary if TPU_NAME environment variable is set. On Kaggle this is always the case.\n",
    "    print('Running on TPU ', tpu.master())\n",
    "except ValueError:\n",
    "    tpu = None\n",
    "\n",
    "if tpu:\n",
    "    tf.config.experimental_connect_to_cluster(tpu)\n",
    "    tf.tpu.experimental.initialize_tpu_system(tpu)\n",
    "    strategy = tf.distribute.TPUStrategy(tpu)\n",
    "else:\n",
    "    strategy = tf.distribute.get_strategy() \n",
    "    # default distribution strategy in Tensorflow. Works on CPU and single GPU.\n",
    "print(\"REPLICAS: \", strategy.num_replicas_in_sync)"
   ]
  },
  {
   "cell_type": "code",
   "execution_count": 5,
   "metadata": {
    "colab": {
     "base_uri": "https://localhost:8080/"
    },
    "executionInfo": {
     "elapsed": 4583,
     "status": "ok",
     "timestamp": 1630553253303,
     "user": {
      "displayName": "정진우",
      "photoUrl": "",
      "userId": "05017758655145019300"
     },
     "user_tz": -540
    },
    "id": "5koosk8om4VL",
    "outputId": "d2d45232-6b99-4d14-bcfa-b886cc0ee5dd"
   },
   "outputs": [
    {
     "name": "stdout",
     "output_type": "stream",
     "text": [
      "Downloading data from https://www.cs.toronto.edu/~kriz/cifar-10-python.tar.gz\n",
      "170500096/170498071 [==============================] - 2s 0us/step\n",
      "170508288/170498071 [==============================] - 2s 0us/step\n"
     ]
    }
   ],
   "source": [
    "# dataset 로드\n",
    "(x_train, y_train), (x_test, y_test) = cifar10.load_data()"
   ]
  },
  {
   "cell_type": "code",
   "execution_count": 6,
   "metadata": {
    "executionInfo": {
     "elapsed": 18,
     "status": "ok",
     "timestamp": 1630553253304,
     "user": {
      "displayName": "정진우",
      "photoUrl": "",
      "userId": "05017758655145019300"
     },
     "user_tz": -540
    },
    "id": "DSd-VdqInGot"
   },
   "outputs": [],
   "source": [
    "# class 수\n",
    "num_class = len(np.unique(y_train))"
   ]
  },
  {
   "cell_type": "code",
   "execution_count": 7,
   "metadata": {
    "executionInfo": {
     "elapsed": 386,
     "status": "ok",
     "timestamp": 1630553253678,
     "user": {
      "displayName": "정진우",
      "photoUrl": "",
      "userId": "05017758655145019300"
     },
     "user_tz": -540
    },
    "id": "CjJzVOvEnVl1"
   },
   "outputs": [],
   "source": [
    "# valid dataset 생성\n",
    "x_train, x_val, y_train, y_val = train_test_split(x_train, y_train, stratify=y_train, random_state=42)"
   ]
  },
  {
   "cell_type": "code",
   "execution_count": 8,
   "metadata": {
    "executionInfo": {
     "elapsed": 17,
     "status": "ok",
     "timestamp": 1630553253679,
     "user": {
      "displayName": "정진우",
      "photoUrl": "",
      "userId": "05017758655145019300"
     },
     "user_tz": -540
    },
    "id": "F0bH9Ymxauc8"
   },
   "outputs": [],
   "source": [
    "# one-hot encoding\n",
    "y_train = keras.utils.to_categorical(y_train)\n",
    "y_val = keras.utils.to_categorical(y_val)\n",
    "y_test = keras.utils.to_categorical(y_test)"
   ]
  },
  {
   "cell_type": "code",
   "execution_count": 9,
   "metadata": {
    "colab": {
     "base_uri": "https://localhost:8080/"
    },
    "executionInfo": {
     "elapsed": 16,
     "status": "ok",
     "timestamp": 1630553253680,
     "user": {
      "displayName": "정진우",
      "photoUrl": "",
      "userId": "05017758655145019300"
     },
     "user_tz": -540
    },
    "id": "2mrF8hR0YgJT",
    "outputId": "4c28b736-d034-4124-f9bb-f70b3d335f14"
   },
   "outputs": [
    {
     "data": {
      "text/plain": [
       "((37500, 32, 32, 3), (12500, 32, 32, 3), (10000, 32, 32, 3))"
      ]
     },
     "execution_count": 9,
     "metadata": {},
     "output_type": "execute_result"
    }
   ],
   "source": [
    "# data shape\n",
    "x_train.shape, x_val.shape, x_test.shape"
   ]
  },
  {
   "cell_type": "code",
   "execution_count": 10,
   "metadata": {
    "executionInfo": {
     "elapsed": 12,
     "status": "ok",
     "timestamp": 1630553253681,
     "user": {
      "displayName": "정진우",
      "photoUrl": "",
      "userId": "05017758655145019300"
     },
     "user_tz": -540
    },
    "id": "lp4Uq9SeYloh"
   },
   "outputs": [],
   "source": [
    "# 전처리 함수\n",
    "# normalizing\n",
    "def normalizing(x_batch, y_batch):\n",
    "  x_batch = tf.cast(x_batch, tf.float32)\n",
    "  x_batch /= 255.0\n",
    "\n",
    "  return x_batch, y_batch\n",
    "\n",
    "\n",
    "def resizing(x_batch, y_batch):\n",
    "  x_batch = tf.image.resize(x_batch, (71, 71))\n",
    "\n",
    "  return x_batch, y_batch"
   ]
  },
  {
   "cell_type": "code",
   "execution_count": 11,
   "metadata": {
    "executionInfo": {
     "elapsed": 2521,
     "status": "ok",
     "timestamp": 1630553256192,
     "user": {
      "displayName": "정진우",
      "photoUrl": "",
      "userId": "05017758655145019300"
     },
     "user_tz": -540
    },
    "id": "n70gwYy2ZRo1"
   },
   "outputs": [],
   "source": [
    "# 데이터 셋 생성\n",
    "batch_size = 512\n",
    "\n",
    "train_dataset = tf.data.Dataset.from_tensor_slices((x_train, y_train))\n",
    "train_dataset = train_dataset.batch(batch_size)\n",
    "train_dataset = train_dataset.map(normalizing).shuffle(1000, seed=42)\n",
    "train_dataset = train_dataset.prefetch(buffer_size=tf.data.experimental.AUTOTUNE)\n",
    "\n",
    "valid_dataset = tf.data.Dataset.from_tensor_slices((x_val, y_val))\n",
    "valid_dataset = valid_dataset.batch(batch_size).map(normalizing)\n",
    "valid_dataset = valid_dataset.prefetch(buffer_size=tf.data.experimental.AUTOTUNE)\n",
    "\n",
    "test_dataset = tf.data.Dataset.from_tensor_slices((x_test, y_test))\n",
    "test_dataset = test_dataset.batch(batch_size).map(normalizing)\n",
    "test_dataset = test_dataset.prefetch(buffer_size=tf.data.experimental.AUTOTUNE)"
   ]
  },
  {
   "cell_type": "code",
   "execution_count": 12,
   "metadata": {
    "executionInfo": {
     "elapsed": 1849,
     "status": "ok",
     "timestamp": 1630553258255,
     "user": {
      "displayName": "정진우",
      "photoUrl": "",
      "userId": "05017758655145019300"
     },
     "user_tz": -540
    },
    "id": "1gzTsStxZSvb"
   },
   "outputs": [],
   "source": [
    "with strategy.scope():\n",
    "  # model\n",
    "  model = keras.models.Sequential([\n",
    "              keras.layers.Conv2D(16, 5, activation='relu', input_shape=(32, 32, 3)),\n",
    "              keras.layers.BatchNormalization(),\n",
    "              keras.layers.MaxPool2D(pool_size=(3, 3)),\n",
    "              keras.layers.Conv2D(32, 3, activation='relu'),\n",
    "              keras.layers.BatchNormalization(),\n",
    "              keras.layers.MaxPool2D(pool_size=(2, 2)),\n",
    "              keras.layers.Flatten(),\n",
    "              keras.layers.Dense(120, activation='relu'),\n",
    "              keras.layers.BatchNormalization(),\n",
    "              keras.layers.Dense(62, activation='relu'),\n",
    "              keras.layers.BatchNormalization(),\n",
    "              keras.layers.Dense(20, activation='relu'),\n",
    "              keras.layers.Dense(num_class, activation='softmax')\n",
    "  ])\n",
    "\n",
    "  model.compile(\n",
    "      optimizer='adam',\n",
    "      loss='categorical_crossentropy',\n",
    "      metrics='accuracy'\n",
    "  )"
   ]
  },
  {
   "cell_type": "code",
   "execution_count": 13,
   "metadata": {
    "colab": {
     "base_uri": "https://localhost:8080/"
    },
    "executionInfo": {
     "elapsed": 18,
     "status": "ok",
     "timestamp": 1630553258256,
     "user": {
      "displayName": "정진우",
      "photoUrl": "",
      "userId": "05017758655145019300"
     },
     "user_tz": -540
    },
    "id": "sq3Yo6afcGjT",
    "outputId": "de3c3ff4-1073-4951-aad1-6eb5de67f22a"
   },
   "outputs": [
    {
     "name": "stdout",
     "output_type": "stream",
     "text": [
      "Model: \"sequential\"\n",
      "_________________________________________________________________\n",
      "Layer (type)                 Output Shape              Param #   \n",
      "=================================================================\n",
      "conv2d (Conv2D)              (None, 28, 28, 16)        1216      \n",
      "_________________________________________________________________\n",
      "batch_normalization (BatchNo (None, 28, 28, 16)        64        \n",
      "_________________________________________________________________\n",
      "max_pooling2d (MaxPooling2D) (None, 9, 9, 16)          0         \n",
      "_________________________________________________________________\n",
      "conv2d_1 (Conv2D)            (None, 7, 7, 32)          4640      \n",
      "_________________________________________________________________\n",
      "batch_normalization_1 (Batch (None, 7, 7, 32)          128       \n",
      "_________________________________________________________________\n",
      "max_pooling2d_1 (MaxPooling2 (None, 3, 3, 32)          0         \n",
      "_________________________________________________________________\n",
      "flatten (Flatten)            (None, 288)               0         \n",
      "_________________________________________________________________\n",
      "dense (Dense)                (None, 120)               34680     \n",
      "_________________________________________________________________\n",
      "batch_normalization_2 (Batch (None, 120)               480       \n",
      "_________________________________________________________________\n",
      "dense_1 (Dense)              (None, 62)                7502      \n",
      "_________________________________________________________________\n",
      "batch_normalization_3 (Batch (None, 62)                248       \n",
      "_________________________________________________________________\n",
      "dense_2 (Dense)              (None, 20)                1260      \n",
      "_________________________________________________________________\n",
      "dense_3 (Dense)              (None, 10)                210       \n",
      "=================================================================\n",
      "Total params: 50,428\n",
      "Trainable params: 49,968\n",
      "Non-trainable params: 460\n",
      "_________________________________________________________________\n"
     ]
    }
   ],
   "source": [
    "model.summary()"
   ]
  },
  {
   "cell_type": "code",
   "execution_count": 19,
   "metadata": {
    "executionInfo": {
     "elapsed": 217,
     "status": "ok",
     "timestamp": 1630553435043,
     "user": {
      "displayName": "정진우",
      "photoUrl": "",
      "userId": "05017758655145019300"
     },
     "user_tz": -540
    },
    "id": "eFvHtndfcZW6"
   },
   "outputs": [],
   "source": [
    "# callback method\n",
    "\n",
    "# checkpoint path\n",
    "ckpt_name = 'CNN_ckpt.hdf5'\n",
    "checkpoint_dir_path = os.path.join(prefix, 'checkpoint')\n",
    "checkpoint_path = os.path.join(prefix, 'checkpoint', ckpt_name)\n",
    "\n",
    "# check checkpoint paht\n",
    "# 디렉토리가 존재하지 않으면 생성\n",
    "if not(os.path.exists(checkpoint_dir_path)):\n",
    "  os.mkdir(checkpoint_dir_path)\n",
    "\n",
    "callbacks_list = [\n",
    "    # accuracy 기준 가장 높은 모델의 weight 저장\n",
    "    tf.keras.callbacks.ModelCheckpoint(\n",
    "        filepath = checkpoint_path,\n",
    "        monitor='val_accuracy',\n",
    "        mode='max',\n",
    "        save_weights_only=True,\n",
    "        save_best_only=True\n",
    "    ),\n",
    "    # EarlyStopping\n",
    "    tf.keras.callbacks.EarlyStopping(\n",
    "        monitor='val_accuracy',\n",
    "        mode='max',\n",
    "        verbose=1, \n",
    "        patience=10\n",
    "    )\n",
    "]"
   ]
  },
  {
   "cell_type": "code",
   "execution_count": 20,
   "metadata": {
    "colab": {
     "base_uri": "https://localhost:8080/"
    },
    "executionInfo": {
     "elapsed": 70963,
     "status": "ok",
     "timestamp": 1630553506264,
     "user": {
      "displayName": "정진우",
      "photoUrl": "",
      "userId": "05017758655145019300"
     },
     "user_tz": -540
    },
    "id": "3FMdjsJrccar",
    "outputId": "b101c175-5b4b-469b-a3c6-87ae6349a9c4"
   },
   "outputs": [
    {
     "name": "stdout",
     "output_type": "stream",
     "text": [
      "Epoch 1/100\n",
      "74/74 [==============================] - 2s 32ms/step - loss: 1.3818 - accuracy: 0.5067 - val_loss: 2.4223 - val_accuracy: 0.1726\n",
      "Epoch 2/100\n",
      "74/74 [==============================] - 2s 31ms/step - loss: 1.2894 - accuracy: 0.5410 - val_loss: 2.1466 - val_accuracy: 0.2578\n",
      "Epoch 3/100\n",
      "74/74 [==============================] - 2s 30ms/step - loss: 1.2185 - accuracy: 0.5683 - val_loss: 1.7436 - val_accuracy: 0.3765\n",
      "Epoch 4/100\n",
      "74/74 [==============================] - 2s 31ms/step - loss: 1.1510 - accuracy: 0.5919 - val_loss: 1.7327 - val_accuracy: 0.3986\n",
      "Epoch 5/100\n",
      "74/74 [==============================] - 2s 31ms/step - loss: 1.0946 - accuracy: 0.6138 - val_loss: 1.4629 - val_accuracy: 0.5046\n",
      "Epoch 6/100\n",
      "74/74 [==============================] - 3s 35ms/step - loss: 1.0487 - accuracy: 0.6316 - val_loss: 1.2808 - val_accuracy: 0.5468\n",
      "Epoch 7/100\n",
      "74/74 [==============================] - 2s 31ms/step - loss: 0.9971 - accuracy: 0.6506 - val_loss: 1.2801 - val_accuracy: 0.5496\n",
      "Epoch 8/100\n",
      "74/74 [==============================] - 2s 32ms/step - loss: 0.9553 - accuracy: 0.6641 - val_loss: 1.4953 - val_accuracy: 0.5048\n",
      "Epoch 9/100\n",
      "74/74 [==============================] - 2s 31ms/step - loss: 0.9125 - accuracy: 0.6820 - val_loss: 1.4050 - val_accuracy: 0.5454\n",
      "Epoch 10/100\n",
      "74/74 [==============================] - 2s 32ms/step - loss: 0.8773 - accuracy: 0.6941 - val_loss: 1.3223 - val_accuracy: 0.5610\n",
      "Epoch 11/100\n",
      "74/74 [==============================] - 2s 32ms/step - loss: 0.8415 - accuracy: 0.7084 - val_loss: 1.2768 - val_accuracy: 0.5810\n",
      "Epoch 12/100\n",
      "74/74 [==============================] - 2s 30ms/step - loss: 0.8033 - accuracy: 0.7226 - val_loss: 1.1945 - val_accuracy: 0.6030\n",
      "Epoch 13/100\n",
      "74/74 [==============================] - 3s 37ms/step - loss: 0.7752 - accuracy: 0.7333 - val_loss: 1.2283 - val_accuracy: 0.5975\n",
      "Epoch 14/100\n",
      "74/74 [==============================] - 2s 31ms/step - loss: 0.7443 - accuracy: 0.7430 - val_loss: 1.2303 - val_accuracy: 0.5941\n",
      "Epoch 15/100\n",
      "74/74 [==============================] - 2s 31ms/step - loss: 0.7117 - accuracy: 0.7540 - val_loss: 1.6124 - val_accuracy: 0.5321\n",
      "Epoch 16/100\n",
      "74/74 [==============================] - 2s 31ms/step - loss: 0.6961 - accuracy: 0.7599 - val_loss: 1.2910 - val_accuracy: 0.5917\n",
      "Epoch 17/100\n",
      "74/74 [==============================] - 2s 31ms/step - loss: 0.6569 - accuracy: 0.7721 - val_loss: 1.4175 - val_accuracy: 0.5692\n",
      "Epoch 18/100\n",
      "74/74 [==============================] - 2s 30ms/step - loss: 0.6390 - accuracy: 0.7794 - val_loss: 1.3693 - val_accuracy: 0.5790\n",
      "Epoch 19/100\n",
      "74/74 [==============================] - 3s 38ms/step - loss: 0.6170 - accuracy: 0.7891 - val_loss: 1.4984 - val_accuracy: 0.5576\n",
      "Epoch 20/100\n",
      "74/74 [==============================] - 2s 31ms/step - loss: 0.5870 - accuracy: 0.7993 - val_loss: 1.3903 - val_accuracy: 0.5876\n",
      "Epoch 21/100\n",
      "74/74 [==============================] - 2s 31ms/step - loss: 0.5662 - accuracy: 0.8048 - val_loss: 1.4846 - val_accuracy: 0.5702\n",
      "Epoch 22/100\n",
      "74/74 [==============================] - 2s 30ms/step - loss: 0.5538 - accuracy: 0.8098 - val_loss: 1.4094 - val_accuracy: 0.5898\n",
      "Epoch 00022: early stopping\n"
     ]
    }
   ],
   "source": [
    "hist = model.fit(train_dataset, validation_data=valid_dataset, callbacks=callbacks_list, epochs=100)"
   ]
  },
  {
   "cell_type": "code",
   "execution_count": 26,
   "metadata": {
    "colab": {
     "base_uri": "https://localhost:8080/",
     "height": 911
    },
    "executionInfo": {
     "elapsed": 694,
     "status": "ok",
     "timestamp": 1630553542116,
     "user": {
      "displayName": "정진우",
      "photoUrl": "",
      "userId": "05017758655145019300"
     },
     "user_tz": -540
    },
    "id": "DCGyxAs7chN7",
    "outputId": "da47dd9e-2c5a-40d8-e80f-ce8d6d2ba73b"
   },
   "outputs": [
    {
     "data": {
      "text/plain": [
       "<matplotlib.legend.Legend at 0x7f365d8f2f50>"
      ]
     },
     "execution_count": 26,
     "metadata": {},
     "output_type": "execute_result"
    },
    {
     "data": {
      "image/png": "[encoded data removed]",
      "text/plain": [
       "<Figure size 1080x1080 with 1 Axes>"
      ]
     },
     "metadata": {
      "needs_background": "light"
     },
     "output_type": "display_data"
    }
   ],
   "source": [
    "# learning curve\n",
    "plt.figure(figsize=(15, 15))\n",
    "plt.plot(hist.history['accuracy'], label='train_accuracy')\n",
    "plt.plot(hist.history['val_accuracy'], label='val_accuracy')\n",
    "plt.title('Learing Curve')\n",
    "plt.xlabel('Epochs')\n",
    "plt.ylabel('accuracy')\n",
    "plt.legend()"
   ]
  },
  {
   "cell_type": "code",
   "execution_count": 22,
   "metadata": {
    "executionInfo": {
     "elapsed": 349,
     "status": "ok",
     "timestamp": 1630553507328,
     "user": {
      "displayName": "정진우",
      "photoUrl": "",
      "userId": "05017758655145019300"
     },
     "user_tz": -540
    },
    "id": "AJNkN-lyiMyG"
   },
   "outputs": [],
   "source": [
    "# load last ckpt weight\n",
    "model.load_weights(checkpoint_path)"
   ]
  },
  {
   "cell_type": "code",
   "execution_count": 23,
   "metadata": {
    "colab": {
     "base_uri": "https://localhost:8080/"
    },
    "executionInfo": {
     "elapsed": 1255,
     "status": "ok",
     "timestamp": 1630553508579,
     "user": {
      "displayName": "정진우",
      "photoUrl": "",
      "userId": "05017758655145019300"
     },
     "user_tz": -540
    },
    "id": "d0suSJg-iRme",
    "outputId": "b8d8c082-f335-41b5-d6b4-a1660688c545"
   },
   "outputs": [
    {
     "name": "stdout",
     "output_type": "stream",
     "text": [
      "20/20 [==============================] - 1s 12ms/step - loss: 1.1795 - accuracy: 0.6058\n"
     ]
    },
    {
     "data": {
      "text/plain": [
       "[1.179497480392456, 0.6057999730110168]"
      ]
     },
     "execution_count": 23,
     "metadata": {},
     "output_type": "execute_result"
    }
   ],
   "source": [
    "# evaluate test set\n",
    "model.evaluate(test_dataset)"
   ]
  },
  {
   "cell_type": "code",
   "execution_count": 27,
   "metadata": {
    "executionInfo": {
     "elapsed": 9243,
     "status": "ok",
     "timestamp": 1630553567023,
     "user": {
      "displayName": "정진우",
      "photoUrl": "",
      "userId": "05017758655145019300"
     },
     "user_tz": -540
    },
    "id": "wVuFua1riTV7"
   },
   "outputs": [],
   "source": [
    "with strategy.scope():\n",
    "  # Xception\n",
    "  base = keras.applications.Xception(input_shape=(71, 71, 3), weights=None, include_top=False)\n",
    "\n",
    "  # make top\n",
    "  xception = keras.models.Sequential()\n",
    "  xception.add(base)\n",
    "  xception.add(keras.layers.GlobalAveragePooling2D())\n",
    "  xception.add(keras.layers.Dense(num_class, activation='softmax'))\n",
    "\n",
    "  xception.compile(\n",
    "      optimizer='adam',\n",
    "      loss='categorical_crossentropy',\n",
    "      metrics='accuracy'\n",
    "  )"
   ]
  },
  {
   "cell_type": "code",
   "execution_count": 28,
   "metadata": {
    "executionInfo": {
     "elapsed": 2477,
     "status": "ok",
     "timestamp": 1630553569495,
     "user": {
      "displayName": "정진우",
      "photoUrl": "",
      "userId": "05017758655145019300"
     },
     "user_tz": -540
    },
    "id": "5MT_z7l3BoOv"
   },
   "outputs": [],
   "source": [
    "# 데이터 셋 생성\n",
    "batch_size = 512\n",
    "\n",
    "train_dataset = tf.data.Dataset.from_tensor_slices((x_train, y_train))\n",
    "train_dataset = train_dataset.batch(batch_size)\n",
    "train_dataset = train_dataset.map(normalizing).map(resizing).shuffle(1000, seed=42)\n",
    "train_dataset = train_dataset.prefetch(buffer_size=tf.data.experimental.AUTOTUNE)\n",
    "\n",
    "valid_dataset = tf.data.Dataset.from_tensor_slices((x_val, y_val))\n",
    "valid_dataset = valid_dataset.batch(batch_size).map(normalizing).map(resizing)\n",
    "valid_dataset = valid_dataset.prefetch(buffer_size=tf.data.experimental.AUTOTUNE)\n",
    "\n",
    "test_dataset = tf.data.Dataset.from_tensor_slices((x_test, y_test))\n",
    "test_dataset = test_dataset.batch(batch_size).map(normalizing).map(resizing)\n",
    "test_dataset = test_dataset.prefetch(buffer_size=tf.data.experimental.AUTOTUNE)"
   ]
  },
  {
   "cell_type": "code",
   "execution_count": 29,
   "metadata": {
    "colab": {
     "base_uri": "https://localhost:8080/"
    },
    "executionInfo": {
     "elapsed": 8,
     "status": "ok",
     "timestamp": 1630553569495,
     "user": {
      "displayName": "정진우",
      "photoUrl": "",
      "userId": "05017758655145019300"
     },
     "user_tz": -540
    },
    "id": "js2w93BFik8p",
    "outputId": "4a1b902c-1d2f-4690-c6af-76c51e6d9e5b"
   },
   "outputs": [
    {
     "name": "stdout",
     "output_type": "stream",
     "text": [
      "Model: \"sequential_1\"\n",
      "_________________________________________________________________\n",
      "Layer (type)                 Output Shape              Param #   \n",
      "=================================================================\n",
      "xception (Functional)        (None, 3, 3, 2048)        20861480  \n",
      "_________________________________________________________________\n",
      "global_average_pooling2d (Gl (None, 2048)              0         \n",
      "_________________________________________________________________\n",
      "dense_4 (Dense)              (None, 10)                20490     \n",
      "=================================================================\n",
      "Total params: 20,881,970\n",
      "Trainable params: 20,827,442\n",
      "Non-trainable params: 54,528\n",
      "_________________________________________________________________\n"
     ]
    }
   ],
   "source": [
    "xception.summary()"
   ]
  },
  {
   "cell_type": "code",
   "execution_count": 30,
   "metadata": {
    "executionInfo": {
     "elapsed": 5,
     "status": "ok",
     "timestamp": 1630553569496,
     "user": {
      "displayName": "정진우",
      "photoUrl": "",
      "userId": "05017758655145019300"
     },
     "user_tz": -540
    },
    "id": "dXrOKHuSinrR"
   },
   "outputs": [],
   "source": [
    "# callback method\n",
    "\n",
    "# checkpoint path\n",
    "ckpt_name = 'xception_ckpt.hdf5'\n",
    "checkpoint_dir_path = os.path.join(prefix, 'checkpoint')\n",
    "checkpoint_path = os.path.join(prefix, 'checkpoint', ckpt_name)\n",
    "\n",
    "# check checkpoint paht\n",
    "# 디렉토리가 존재하지 않으면 생성\n",
    "if not(os.path.exists(checkpoint_dir_path)):\n",
    "  os.mkdir(checkpoint_dir_path)\n",
    "\n",
    "callbacks_list = [\n",
    "    # accuracy 기준 가장 높은 모델의 weight 저장\n",
    "    tf.keras.callbacks.ModelCheckpoint(\n",
    "        filepath = checkpoint_path,\n",
    "        monitor='val_accuracy',\n",
    "        mode='max',\n",
    "        save_weights_only=True,\n",
    "        save_best_only=True\n",
    "    ),\n",
    "    # EarlyStopping\n",
    "    tf.keras.callbacks.EarlyStopping(\n",
    "        monitor='val_accuracy',\n",
    "        mode='max',\n",
    "        verbose=1, \n",
    "        patience=10\n",
    "    )\n",
    "]"
   ]
  },
  {
   "cell_type": "code",
   "execution_count": 31,
   "metadata": {
    "colab": {
     "base_uri": "https://localhost:8080/"
    },
    "executionInfo": {
     "elapsed": 607517,
     "status": "ok",
     "timestamp": 1630554177009,
     "user": {
      "displayName": "정진우",
      "photoUrl": "",
      "userId": "05017758655145019300"
     },
     "user_tz": -540
    },
    "id": "Nj9HtI-Nipwq",
    "outputId": "8b267d22-b330-473d-e15c-ad237b5f27ea"
   },
   "outputs": [
    {
     "name": "stdout",
     "output_type": "stream",
     "text": [
      "Epoch 1/100\n",
      "74/74 [==============================] - 85s 550ms/step - loss: 1.3368 - accuracy: 0.5141 - val_loss: 2.3048 - val_accuracy: 0.1000\n",
      "Epoch 2/100\n",
      "74/74 [==============================] - 6s 80ms/step - loss: 0.8689 - accuracy: 0.6897 - val_loss: 2.3128 - val_accuracy: 0.1000\n",
      "Epoch 3/100\n",
      "74/74 [==============================] - 6s 81ms/step - loss: 0.6133 - accuracy: 0.7844 - val_loss: 2.3398 - val_accuracy: 0.1000\n",
      "Epoch 4/100\n",
      "74/74 [==============================] - 6s 79ms/step - loss: 0.4520 - accuracy: 0.8399 - val_loss: 2.4159 - val_accuracy: 0.1000\n",
      "Epoch 5/100\n",
      "74/74 [==============================] - 6s 79ms/step - loss: 0.2969 - accuracy: 0.8973 - val_loss: 2.5882 - val_accuracy: 0.1000\n",
      "Epoch 6/100\n",
      "74/74 [==============================] - 6s 80ms/step - loss: 0.2090 - accuracy: 0.9272 - val_loss: 2.9030 - val_accuracy: 0.1106\n",
      "Epoch 7/100\n",
      "74/74 [==============================] - 6s 80ms/step - loss: 0.1639 - accuracy: 0.9421 - val_loss: 2.5564 - val_accuracy: 0.2499\n",
      "Epoch 8/100\n",
      "74/74 [==============================] - 6s 79ms/step - loss: 0.1309 - accuracy: 0.9551 - val_loss: 1.2367 - val_accuracy: 0.6145\n",
      "Epoch 9/100\n",
      "74/74 [==============================] - 6s 81ms/step - loss: 0.1088 - accuracy: 0.9611 - val_loss: 1.2792 - val_accuracy: 0.6694\n",
      "Epoch 10/100\n",
      "74/74 [==============================] - 6s 80ms/step - loss: 0.0866 - accuracy: 0.9696 - val_loss: 1.5613 - val_accuracy: 0.6951\n",
      "Epoch 11/100\n",
      "74/74 [==============================] - 6s 79ms/step - loss: 0.0891 - accuracy: 0.9675 - val_loss: 1.4818 - val_accuracy: 0.7211\n",
      "Epoch 12/100\n",
      "74/74 [==============================] - 6s 80ms/step - loss: 0.0548 - accuracy: 0.9813 - val_loss: 1.4136 - val_accuracy: 0.7364\n",
      "Epoch 13/100\n",
      "74/74 [==============================] - 6s 79ms/step - loss: 0.0551 - accuracy: 0.9806 - val_loss: 1.5975 - val_accuracy: 0.7376\n",
      "Epoch 14/100\n",
      "74/74 [==============================] - 6s 79ms/step - loss: 0.0547 - accuracy: 0.9810 - val_loss: 1.8626 - val_accuracy: 0.6982\n",
      "Epoch 15/100\n",
      "74/74 [==============================] - 6s 82ms/step - loss: 0.0391 - accuracy: 0.9869 - val_loss: 1.7636 - val_accuracy: 0.7214\n",
      "Epoch 16/100\n",
      "74/74 [==============================] - 6s 79ms/step - loss: 0.0555 - accuracy: 0.9807 - val_loss: 1.9007 - val_accuracy: 0.7089\n",
      "Epoch 17/100\n",
      "74/74 [==============================] - 6s 79ms/step - loss: 0.0580 - accuracy: 0.9800 - val_loss: 2.3736 - val_accuracy: 0.6750\n",
      "Epoch 18/100\n",
      "74/74 [==============================] - 6s 79ms/step - loss: 0.0423 - accuracy: 0.9846 - val_loss: 1.7222 - val_accuracy: 0.7426\n",
      "Epoch 19/100\n",
      "74/74 [==============================] - 6s 80ms/step - loss: 0.0323 - accuracy: 0.9889 - val_loss: 1.7112 - val_accuracy: 0.7506\n",
      "Epoch 20/100\n",
      "74/74 [==============================] - 6s 83ms/step - loss: 0.0312 - accuracy: 0.9899 - val_loss: 1.5090 - val_accuracy: 0.7549\n",
      "Epoch 21/100\n",
      "74/74 [==============================] - 6s 80ms/step - loss: 0.0378 - accuracy: 0.9871 - val_loss: 2.0434 - val_accuracy: 0.7103\n",
      "Epoch 22/100\n",
      "74/74 [==============================] - 6s 83ms/step - loss: 0.0481 - accuracy: 0.9839 - val_loss: 1.9806 - val_accuracy: 0.7199\n",
      "Epoch 23/100\n",
      "74/74 [==============================] - 6s 81ms/step - loss: 0.0457 - accuracy: 0.9838 - val_loss: 1.6825 - val_accuracy: 0.7461\n",
      "Epoch 24/100\n",
      "74/74 [==============================] - 6s 80ms/step - loss: 0.0282 - accuracy: 0.9904 - val_loss: 1.6147 - val_accuracy: 0.7554\n",
      "Epoch 25/100\n",
      "74/74 [==============================] - 6s 79ms/step - loss: 0.0214 - accuracy: 0.9923 - val_loss: 1.4537 - val_accuracy: 0.7715\n",
      "Epoch 26/100\n",
      "74/74 [==============================] - 6s 81ms/step - loss: 0.0225 - accuracy: 0.9922 - val_loss: 1.8352 - val_accuracy: 0.7377\n",
      "Epoch 27/100\n",
      "74/74 [==============================] - 6s 80ms/step - loss: 0.0309 - accuracy: 0.9896 - val_loss: 1.5055 - val_accuracy: 0.7626\n",
      "Epoch 28/100\n",
      "74/74 [==============================] - 7s 90ms/step - loss: 0.0390 - accuracy: 0.9861 - val_loss: 2.0586 - val_accuracy: 0.7147\n",
      "Epoch 29/100\n",
      "74/74 [==============================] - 6s 80ms/step - loss: 0.0440 - accuracy: 0.9850 - val_loss: 1.5099 - val_accuracy: 0.7568\n",
      "Epoch 30/100\n",
      "74/74 [==============================] - 6s 80ms/step - loss: 0.0299 - accuracy: 0.9894 - val_loss: 1.5518 - val_accuracy: 0.7685\n",
      "Epoch 31/100\n",
      "74/74 [==============================] - 6s 80ms/step - loss: 0.0270 - accuracy: 0.9906 - val_loss: 1.6041 - val_accuracy: 0.7533\n",
      "Epoch 32/100\n",
      "74/74 [==============================] - 6s 80ms/step - loss: 0.0261 - accuracy: 0.9908 - val_loss: 1.7406 - val_accuracy: 0.7554\n",
      "Epoch 33/100\n",
      "74/74 [==============================] - 6s 80ms/step - loss: 0.0274 - accuracy: 0.9908 - val_loss: 2.0731 - val_accuracy: 0.7296\n",
      "Epoch 34/100\n",
      "74/74 [==============================] - 6s 81ms/step - loss: 0.0304 - accuracy: 0.9899 - val_loss: 1.7166 - val_accuracy: 0.7472\n",
      "Epoch 35/100\n",
      "74/74 [==============================] - 6s 80ms/step - loss: 0.0182 - accuracy: 0.9940 - val_loss: 1.4079 - val_accuracy: 0.7758\n",
      "Epoch 36/100\n",
      "74/74 [==============================] - 6s 82ms/step - loss: 0.0162 - accuracy: 0.9945 - val_loss: 1.4728 - val_accuracy: 0.7777\n",
      "Epoch 37/100\n",
      "74/74 [==============================] - 6s 79ms/step - loss: 0.0191 - accuracy: 0.9934 - val_loss: 1.4944 - val_accuracy: 0.7731\n",
      "Epoch 38/100\n",
      "74/74 [==============================] - 7s 92ms/step - loss: 0.0292 - accuracy: 0.9905 - val_loss: 1.8310 - val_accuracy: 0.7405\n",
      "Epoch 39/100\n",
      "74/74 [==============================] - 6s 80ms/step - loss: 0.0306 - accuracy: 0.9891 - val_loss: 1.8770 - val_accuracy: 0.7489\n",
      "Epoch 40/100\n",
      "74/74 [==============================] - 6s 80ms/step - loss: 0.0442 - accuracy: 0.9851 - val_loss: 1.8926 - val_accuracy: 0.7368\n",
      "Epoch 41/100\n",
      "74/74 [==============================] - 6s 79ms/step - loss: 0.0306 - accuracy: 0.9895 - val_loss: 2.2831 - val_accuracy: 0.7163\n",
      "Epoch 42/100\n",
      "74/74 [==============================] - 6s 79ms/step - loss: 0.0220 - accuracy: 0.9930 - val_loss: 1.7004 - val_accuracy: 0.7598\n",
      "Epoch 43/100\n",
      "74/74 [==============================] - 6s 79ms/step - loss: 0.0245 - accuracy: 0.9919 - val_loss: 2.0007 - val_accuracy: 0.7359\n",
      "Epoch 44/100\n",
      "74/74 [==============================] - 6s 79ms/step - loss: 0.0181 - accuracy: 0.9940 - val_loss: 1.4620 - val_accuracy: 0.7794\n",
      "Epoch 45/100\n",
      "74/74 [==============================] - 6s 79ms/step - loss: 0.0210 - accuracy: 0.9932 - val_loss: 1.8146 - val_accuracy: 0.7452\n",
      "Epoch 46/100\n",
      "74/74 [==============================] - 6s 82ms/step - loss: 0.0166 - accuracy: 0.9943 - val_loss: 1.5409 - val_accuracy: 0.7704\n",
      "Epoch 47/100\n",
      "74/74 [==============================] - 6s 80ms/step - loss: 0.0412 - accuracy: 0.9870 - val_loss: 2.4602 - val_accuracy: 0.7190\n",
      "Epoch 48/100\n",
      "74/74 [==============================] - 7s 89ms/step - loss: 0.0362 - accuracy: 0.9873 - val_loss: 1.8606 - val_accuracy: 0.7514\n",
      "Epoch 49/100\n",
      "74/74 [==============================] - 6s 80ms/step - loss: 0.0165 - accuracy: 0.9942 - val_loss: 1.5047 - val_accuracy: 0.7771\n",
      "Epoch 50/100\n",
      "74/74 [==============================] - 6s 80ms/step - loss: 0.0093 - accuracy: 0.9970 - val_loss: 1.3287 - val_accuracy: 0.7886\n",
      "Epoch 51/100\n",
      "74/74 [==============================] - 6s 80ms/step - loss: 0.0031 - accuracy: 0.9993 - val_loss: 1.2450 - val_accuracy: 0.7987\n",
      "Epoch 52/100\n",
      "74/74 [==============================] - 6s 83ms/step - loss: 6.5915e-04 - accuracy: 0.9999 - val_loss: 1.1906 - val_accuracy: 0.8091\n",
      "Epoch 53/100\n",
      "74/74 [==============================] - 6s 80ms/step - loss: 1.0170e-04 - accuracy: 1.0000 - val_loss: 1.1670 - val_accuracy: 0.8131\n",
      "Epoch 54/100\n",
      "74/74 [==============================] - 6s 81ms/step - loss: 4.1607e-05 - accuracy: 1.0000 - val_loss: 1.1714 - val_accuracy: 0.8142\n",
      "Epoch 55/100\n",
      "74/74 [==============================] - 6s 81ms/step - loss: 3.2784e-05 - accuracy: 1.0000 - val_loss: 1.1764 - val_accuracy: 0.8146\n",
      "Epoch 56/100\n",
      "74/74 [==============================] - 6s 80ms/step - loss: 2.7642e-05 - accuracy: 1.0000 - val_loss: 1.1813 - val_accuracy: 0.8150\n",
      "Epoch 57/100\n",
      "74/74 [==============================] - 6s 80ms/step - loss: 2.4051e-05 - accuracy: 1.0000 - val_loss: 1.1860 - val_accuracy: 0.8154\n",
      "Epoch 58/100\n",
      "74/74 [==============================] - 7s 95ms/step - loss: 2.1336e-05 - accuracy: 1.0000 - val_loss: 1.1899 - val_accuracy: 0.8153\n",
      "Epoch 59/100\n",
      "74/74 [==============================] - 6s 81ms/step - loss: 1.9174e-05 - accuracy: 1.0000 - val_loss: 1.1927 - val_accuracy: 0.8154\n",
      "Epoch 60/100\n",
      "74/74 [==============================] - 6s 81ms/step - loss: 1.7382e-05 - accuracy: 1.0000 - val_loss: 1.1962 - val_accuracy: 0.8159\n",
      "Epoch 61/100\n",
      "74/74 [==============================] - 6s 82ms/step - loss: 1.5915e-05 - accuracy: 1.0000 - val_loss: 1.1994 - val_accuracy: 0.8154\n",
      "Epoch 62/100\n",
      "74/74 [==============================] - 6s 83ms/step - loss: 1.4643e-05 - accuracy: 1.0000 - val_loss: 1.2022 - val_accuracy: 0.8154\n",
      "Epoch 63/100\n",
      "74/74 [==============================] - 6s 82ms/step - loss: 1.3542e-05 - accuracy: 1.0000 - val_loss: 1.2049 - val_accuracy: 0.8154\n",
      "Epoch 64/100\n",
      "74/74 [==============================] - 6s 81ms/step - loss: 1.2571e-05 - accuracy: 1.0000 - val_loss: 1.2081 - val_accuracy: 0.8154\n",
      "Epoch 65/100\n",
      "74/74 [==============================] - 6s 82ms/step - loss: 1.1720e-05 - accuracy: 1.0000 - val_loss: 1.2110 - val_accuracy: 0.8152\n",
      "Epoch 66/100\n",
      "74/74 [==============================] - 6s 81ms/step - loss: 1.0961e-05 - accuracy: 1.0000 - val_loss: 1.2132 - val_accuracy: 0.8154\n",
      "Epoch 67/100\n",
      "74/74 [==============================] - 6s 82ms/step - loss: 1.0276e-05 - accuracy: 1.0000 - val_loss: 1.2155 - val_accuracy: 0.8154\n",
      "Epoch 68/100\n",
      "74/74 [==============================] - 7s 92ms/step - loss: 9.6432e-06 - accuracy: 1.0000 - val_loss: 1.2176 - val_accuracy: 0.8154\n",
      "Epoch 69/100\n",
      "74/74 [==============================] - 6s 81ms/step - loss: 9.0877e-06 - accuracy: 1.0000 - val_loss: 1.2201 - val_accuracy: 0.8150\n",
      "Epoch 70/100\n",
      "74/74 [==============================] - 6s 82ms/step - loss: 8.5719e-06 - accuracy: 1.0000 - val_loss: 1.2222 - val_accuracy: 0.8149\n",
      "Epoch 00070: early stopping\n"
     ]
    }
   ],
   "source": [
    "hist = xception.fit(train_dataset, validation_data=valid_dataset, callbacks=callbacks_list, epochs=100)"
   ]
  },
  {
   "cell_type": "code",
   "execution_count": 36,
   "metadata": {
    "colab": {
     "base_uri": "https://localhost:8080/",
     "height": 911
    },
    "executionInfo": {
     "elapsed": 901,
     "status": "ok",
     "timestamp": 1630554220939,
     "user": {
      "displayName": "정진우",
      "photoUrl": "",
      "userId": "05017758655145019300"
     },
     "user_tz": -540
    },
    "id": "NLHzumRLirc5",
    "outputId": "d5d84671-ab49-4599-a6fc-f56753d373a6"
   },
   "outputs": [
    {
     "data": {
      "text/plain": [
       "<matplotlib.legend.Legend at 0x7f365dd5ea50>"
      ]
     },
     "execution_count": 36,
     "metadata": {},
     "output_type": "execute_result"
    },
    {
     "data": {
      "image/png": "[encoded data removed]",
      "text/plain": [
       "<Figure size 1080x1080 with 1 Axes>"
      ]
     },
     "metadata": {
      "needs_background": "light"
     },
     "output_type": "display_data"
    }
   ],
   "source": [
    "# learning curve\n",
    "plt.figure(figsize=(15, 15))\n",
    "plt.plot(hist.history['accuracy'], label='accuracy')\n",
    "plt.plot(hist.history['val_accuracy'], label='val_accuracy')\n",
    "plt.title('Learing Curve')\n",
    "plt.xlabel('Epochs')\n",
    "plt.ylabel('accuracy')\n",
    "plt.legend()"
   ]
  },
  {
   "cell_type": "code",
   "execution_count": 33,
   "metadata": {
    "executionInfo": {
     "elapsed": 4902,
     "status": "ok",
     "timestamp": 1630554182550,
     "user": {
      "displayName": "정진우",
      "photoUrl": "",
      "userId": "05017758655145019300"
     },
     "user_tz": -540
    },
    "id": "oH1FoyOsl744"
   },
   "outputs": [],
   "source": [
    "# load last ckpt weight\n",
    "xception.load_weights(checkpoint_path)"
   ]
  },
  {
   "cell_type": "code",
   "execution_count": 34,
   "metadata": {
    "colab": {
     "base_uri": "https://localhost:8080/"
    },
    "executionInfo": {
     "elapsed": 13573,
     "status": "ok",
     "timestamp": 1630554196120,
     "user": {
      "displayName": "정진우",
      "photoUrl": "",
      "userId": "05017758655145019300"
     },
     "user_tz": -540
    },
    "id": "M_jfP-Q5mB9b",
    "outputId": "58210c30-1090-486d-935e-e8d735014872"
   },
   "outputs": [
    {
     "name": "stdout",
     "output_type": "stream",
     "text": [
      "20/20 [==============================] - 6s 257ms/step - loss: 1.2486 - accuracy: 0.8115\n"
     ]
    },
    {
     "data": {
      "text/plain": [
       "[1.2485828399658203, 0.8114999532699585]"
      ]
     },
     "execution_count": 34,
     "metadata": {},
     "output_type": "execute_result"
    }
   ],
   "source": [
    "# evaluate test set\n",
    "xception.evaluate(test_dataset)"
   ]
  }
 ],
 "metadata": {
  "accelerator": "TPU",
  "colab": {
   "authorship_tag": "ABX9TyOTAgoMMCkiHgs6ZaMsAIyM",
   "collapsed_sections": [],
   "name": "no_aug.ipynb",
   "provenance": []
  },
  "kernelspec": {
   "display_name": "Python 3",
   "language": "python",
   "name": "python3"
  },
  "language_info": {
   "codemirror_mode": {
    "name": "ipython",
    "version": 3
   },
   "file_extension": ".py",
   "mimetype": "text/x-python",
   "name": "python",
   "nbconvert_exporter": "python",
   "pygments_lexer": "ipython3",
   "version": "3.8.5"
  }
 },
 "nbformat": 4,
 "nbformat_minor": 1
}
