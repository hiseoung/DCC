{
 "cells": [
  {
   "cell_type": "code",
   "execution_count": 54,
   "metadata": {
    "colab": {
     "base_uri": "https://localhost:8080/"
    },
    "executionInfo": {
     "elapsed": 224,
     "status": "ok",
     "timestamp": 1630555028174,
     "user": {
      "displayName": "정진우",
      "photoUrl": "",
      "userId": "05017758655145019300"
     },
     "user_tz": -540
    },
    "id": "A44RmtG3VQuv",
    "outputId": "dfa04aa8-c6a8-4efc-d44b-3537195b0755"
   },
   "outputs": [
    {
     "name": "stdout",
     "output_type": "stream",
     "text": [
      "Drive already mounted at /content/drive; to attempt to forcibly remount, call drive.mount(\"/content/drive\", force_remount=True).\n"
     ]
    }
   ],
   "source": [
    "from google.colab import drive\n",
    "drive.mount('/content/drive')"
   ]
  },
  {
   "cell_type": "code",
   "execution_count": 55,
   "metadata": {
    "executionInfo": {
     "elapsed": 219,
     "status": "ok",
     "timestamp": 1630555031299,
     "user": {
      "displayName": "정진우",
      "photoUrl": "",
      "userId": "05017758655145019300"
     },
     "user_tz": -540
    },
    "id": "IEUjYIe9VSbK"
   },
   "outputs": [],
   "source": [
    "# prefix path\n",
    "prefix = '/content/drive/MyDrive/데이터크리에이터캠프/CV/task2/jinwoo'"
   ]
  },
  {
   "cell_type": "code",
   "execution_count": 56,
   "metadata": {
    "executionInfo": {
     "elapsed": 234,
     "status": "ok",
     "timestamp": 1630555032876,
     "user": {
      "displayName": "정진우",
      "photoUrl": "",
      "userId": "05017758655145019300"
     },
     "user_tz": -540
    },
    "id": "3qvqTJ1EVS39"
   },
   "outputs": [],
   "source": [
    "import tensorflow as tf\n",
    "from tensorflow import keras\n",
    "import numpy as np\n",
    "from keras.datasets import cifar10\n",
    "from sklearn.model_selection import train_test_split\n",
    "import matplotlib.pyplot as plt\n",
    "import os"
   ]
  },
  {
   "cell_type": "code",
   "execution_count": 57,
   "metadata": {
    "colab": {
     "base_uri": "https://localhost:8080/"
    },
    "executionInfo": {
     "elapsed": 8649,
     "status": "ok",
     "timestamp": 1630555042581,
     "user": {
      "displayName": "정진우",
      "photoUrl": "",
      "userId": "05017758655145019300"
     },
     "user_tz": -540
    },
    "id": "zs7ucJl7VVxi",
    "outputId": "a3287927-5098-4e1c-ed27-19065c79176f"
   },
   "outputs": [
    {
     "name": "stdout",
     "output_type": "stream",
     "text": [
      "Running on TPU  grpc://10.80.130.226:8470\n",
      "INFO:tensorflow:Clearing out eager caches\n"
     ]
    },
    {
     "name": "stderr",
     "output_type": "stream",
     "text": [
      "INFO:tensorflow:Clearing out eager caches\n"
     ]
    },
    {
     "name": "stdout",
     "output_type": "stream",
     "text": [
      "WARNING:tensorflow:TPU system grpc://10.80.130.226:8470 has already been initialized. Reinitializing the TPU can cause previously created variables on TPU to be lost.\n"
     ]
    },
    {
     "name": "stderr",
     "output_type": "stream",
     "text": [
      "WARNING:tensorflow:TPU system grpc://10.80.130.226:8470 has already been initialized. Reinitializing the TPU can cause previously created variables on TPU to be lost.\n"
     ]
    },
    {
     "name": "stdout",
     "output_type": "stream",
     "text": [
      "INFO:tensorflow:Initializing the TPU system: grpc://10.80.130.226:8470\n"
     ]
    },
    {
     "name": "stderr",
     "output_type": "stream",
     "text": [
      "INFO:tensorflow:Initializing the TPU system: grpc://10.80.130.226:8470\n"
     ]
    },
    {
     "name": "stdout",
     "output_type": "stream",
     "text": [
      "INFO:tensorflow:Finished initializing TPU system.\n"
     ]
    },
    {
     "name": "stderr",
     "output_type": "stream",
     "text": [
      "INFO:tensorflow:Finished initializing TPU system.\n"
     ]
    },
    {
     "name": "stdout",
     "output_type": "stream",
     "text": [
      "INFO:tensorflow:Found TPU system:\n"
     ]
    },
    {
     "name": "stderr",
     "output_type": "stream",
     "text": [
      "INFO:tensorflow:Found TPU system:\n"
     ]
    },
    {
     "name": "stdout",
     "output_type": "stream",
     "text": [
      "INFO:tensorflow:*** Num TPU Cores: 8\n"
     ]
    },
    {
     "name": "stderr",
     "output_type": "stream",
     "text": [
      "INFO:tensorflow:*** Num TPU Cores: 8\n"
     ]
    },
    {
     "name": "stdout",
     "output_type": "stream",
     "text": [
      "INFO:tensorflow:*** Num TPU Workers: 1\n"
     ]
    },
    {
     "name": "stderr",
     "output_type": "stream",
     "text": [
      "INFO:tensorflow:*** Num TPU Workers: 1\n"
     ]
    },
    {
     "name": "stdout",
     "output_type": "stream",
     "text": [
      "INFO:tensorflow:*** Num TPU Cores Per Worker: 8\n"
     ]
    },
    {
     "name": "stderr",
     "output_type": "stream",
     "text": [
      "INFO:tensorflow:*** Num TPU Cores Per Worker: 8\n"
     ]
    },
    {
     "name": "stdout",
     "output_type": "stream",
     "text": [
      "INFO:tensorflow:*** Available Device: _DeviceAttributes(/job:localhost/replica:0/task:0/device:CPU:0, CPU, 0, 0)\n"
     ]
    },
    {
     "name": "stderr",
     "output_type": "stream",
     "text": [
      "INFO:tensorflow:*** Available Device: _DeviceAttributes(/job:localhost/replica:0/task:0/device:CPU:0, CPU, 0, 0)\n"
     ]
    },
    {
     "name": "stdout",
     "output_type": "stream",
     "text": [
      "INFO:tensorflow:*** Available Device: _DeviceAttributes(/job:worker/replica:0/task:0/device:CPU:0, CPU, 0, 0)\n"
     ]
    },
    {
     "name": "stderr",
     "output_type": "stream",
     "text": [
      "INFO:tensorflow:*** Available Device: _DeviceAttributes(/job:worker/replica:0/task:0/device:CPU:0, CPU, 0, 0)\n"
     ]
    },
    {
     "name": "stdout",
     "output_type": "stream",
     "text": [
      "INFO:tensorflow:*** Available Device: _DeviceAttributes(/job:worker/replica:0/task:0/device:TPU:0, TPU, 0, 0)\n"
     ]
    },
    {
     "name": "stderr",
     "output_type": "stream",
     "text": [
      "INFO:tensorflow:*** Available Device: _DeviceAttributes(/job:worker/replica:0/task:0/device:TPU:0, TPU, 0, 0)\n"
     ]
    },
    {
     "name": "stdout",
     "output_type": "stream",
     "text": [
      "INFO:tensorflow:*** Available Device: _DeviceAttributes(/job:worker/replica:0/task:0/device:TPU:1, TPU, 0, 0)\n"
     ]
    },
    {
     "name": "stderr",
     "output_type": "stream",
     "text": [
      "INFO:tensorflow:*** Available Device: _DeviceAttributes(/job:worker/replica:0/task:0/device:TPU:1, TPU, 0, 0)\n"
     ]
    },
    {
     "name": "stdout",
     "output_type": "stream",
     "text": [
      "INFO:tensorflow:*** Available Device: _DeviceAttributes(/job:worker/replica:0/task:0/device:TPU:2, TPU, 0, 0)\n"
     ]
    },
    {
     "name": "stderr",
     "output_type": "stream",
     "text": [
      "INFO:tensorflow:*** Available Device: _DeviceAttributes(/job:worker/replica:0/task:0/device:TPU:2, TPU, 0, 0)\n"
     ]
    },
    {
     "name": "stdout",
     "output_type": "stream",
     "text": [
      "INFO:tensorflow:*** Available Device: _DeviceAttributes(/job:worker/replica:0/task:0/device:TPU:3, TPU, 0, 0)\n"
     ]
    },
    {
     "name": "stderr",
     "output_type": "stream",
     "text": [
      "INFO:tensorflow:*** Available Device: _DeviceAttributes(/job:worker/replica:0/task:0/device:TPU:3, TPU, 0, 0)\n"
     ]
    },
    {
     "name": "stdout",
     "output_type": "stream",
     "text": [
      "INFO:tensorflow:*** Available Device: _DeviceAttributes(/job:worker/replica:0/task:0/device:TPU:4, TPU, 0, 0)\n"
     ]
    },
    {
     "name": "stderr",
     "output_type": "stream",
     "text": [
      "INFO:tensorflow:*** Available Device: _DeviceAttributes(/job:worker/replica:0/task:0/device:TPU:4, TPU, 0, 0)\n"
     ]
    },
    {
     "name": "stdout",
     "output_type": "stream",
     "text": [
      "INFO:tensorflow:*** Available Device: _DeviceAttributes(/job:worker/replica:0/task:0/device:TPU:5, TPU, 0, 0)\n"
     ]
    },
    {
     "name": "stderr",
     "output_type": "stream",
     "text": [
      "INFO:tensorflow:*** Available Device: _DeviceAttributes(/job:worker/replica:0/task:0/device:TPU:5, TPU, 0, 0)\n"
     ]
    },
    {
     "name": "stdout",
     "output_type": "stream",
     "text": [
      "INFO:tensorflow:*** Available Device: _DeviceAttributes(/job:worker/replica:0/task:0/device:TPU:6, TPU, 0, 0)\n"
     ]
    },
    {
     "name": "stderr",
     "output_type": "stream",
     "text": [
      "INFO:tensorflow:*** Available Device: _DeviceAttributes(/job:worker/replica:0/task:0/device:TPU:6, TPU, 0, 0)\n"
     ]
    },
    {
     "name": "stdout",
     "output_type": "stream",
     "text": [
      "INFO:tensorflow:*** Available Device: _DeviceAttributes(/job:worker/replica:0/task:0/device:TPU:7, TPU, 0, 0)\n"
     ]
    },
    {
     "name": "stderr",
     "output_type": "stream",
     "text": [
      "INFO:tensorflow:*** Available Device: _DeviceAttributes(/job:worker/replica:0/task:0/device:TPU:7, TPU, 0, 0)\n"
     ]
    },
    {
     "name": "stdout",
     "output_type": "stream",
     "text": [
      "INFO:tensorflow:*** Available Device: _DeviceAttributes(/job:worker/replica:0/task:0/device:TPU_SYSTEM:0, TPU_SYSTEM, 0, 0)\n"
     ]
    },
    {
     "name": "stderr",
     "output_type": "stream",
     "text": [
      "INFO:tensorflow:*** Available Device: _DeviceAttributes(/job:worker/replica:0/task:0/device:TPU_SYSTEM:0, TPU_SYSTEM, 0, 0)\n"
     ]
    },
    {
     "name": "stdout",
     "output_type": "stream",
     "text": [
      "INFO:tensorflow:*** Available Device: _DeviceAttributes(/job:worker/replica:0/task:0/device:XLA_CPU:0, XLA_CPU, 0, 0)\n"
     ]
    },
    {
     "name": "stderr",
     "output_type": "stream",
     "text": [
      "INFO:tensorflow:*** Available Device: _DeviceAttributes(/job:worker/replica:0/task:0/device:XLA_CPU:0, XLA_CPU, 0, 0)\n"
     ]
    },
    {
     "name": "stdout",
     "output_type": "stream",
     "text": [
      "REPLICAS:  8\n"
     ]
    }
   ],
   "source": [
    "# tup\n",
    "try:\n",
    "    tpu = tf.distribute.cluster_resolver.TPUClusterResolver()  \n",
    "    # TPU detection. No parameters necessary if TPU_NAME environment variable is set. On Kaggle this is always the case.\n",
    "    print('Running on TPU ', tpu.master())\n",
    "except ValueError:\n",
    "    tpu = None\n",
    "\n",
    "if tpu:\n",
    "    tf.config.experimental_connect_to_cluster(tpu)\n",
    "    tf.tpu.experimental.initialize_tpu_system(tpu)\n",
    "    strategy = tf.distribute.TPUStrategy(tpu)\n",
    "else:\n",
    "    strategy = tf.distribute.get_strategy() \n",
    "    # default distribution strategy in Tensorflow. Works on CPU and single GPU.\n",
    "print(\"REPLICAS: \", strategy.num_replicas_in_sync)"
   ]
  },
  {
   "cell_type": "code",
   "execution_count": 58,
   "metadata": {
    "executionInfo": {
     "elapsed": 241,
     "status": "ok",
     "timestamp": 1630555204845,
     "user": {
      "displayName": "정진우",
      "photoUrl": "",
      "userId": "05017758655145019300"
     },
     "user_tz": -540
    },
    "id": "etEGfoj6p2BW"
   },
   "outputs": [],
   "source": [
    "# augmentation 함수\n",
    "# 이후 lambda layer로 사용\n",
    "def aug_fun(data):\n",
    "  # 밝기 조정\n",
    "  out = tf.image.random_brightness(data, 0.5)\n",
    "  # 채도 변경\n",
    "  out = tf.image.random_saturation(out, 3, 10)\n",
    "\n",
    "  return out"
   ]
  },
  {
   "cell_type": "code",
   "execution_count": 59,
   "metadata": {
    "executionInfo": {
     "elapsed": 1363,
     "status": "ok",
     "timestamp": 1630555212457,
     "user": {
      "displayName": "정진우",
      "photoUrl": "",
      "userId": "05017758655145019300"
     },
     "user_tz": -540
    },
    "id": "h_Il4yxVW5pZ"
   },
   "outputs": [],
   "source": [
    "# dataset 로드\n",
    "(x_train, y_train), (x_test, y_test) = cifar10.load_data()"
   ]
  },
  {
   "cell_type": "code",
   "execution_count": 60,
   "metadata": {
    "executionInfo": {
     "elapsed": 8,
     "status": "ok",
     "timestamp": 1630555213279,
     "user": {
      "displayName": "정진우",
      "photoUrl": "",
      "userId": "05017758655145019300"
     },
     "user_tz": -540
    },
    "id": "v6m52biOW7XF"
   },
   "outputs": [],
   "source": [
    "# class 수\n",
    "num_class = len(np.unique(y_train))"
   ]
  },
  {
   "cell_type": "code",
   "execution_count": 61,
   "metadata": {
    "executionInfo": {
     "elapsed": 376,
     "status": "ok",
     "timestamp": 1630555214616,
     "user": {
      "displayName": "정진우",
      "photoUrl": "",
      "userId": "05017758655145019300"
     },
     "user_tz": -540
    },
    "id": "4nHmcQVbW8_I"
   },
   "outputs": [],
   "source": [
    "# valid dataset 생성\n",
    "x_train, x_val, y_train, y_val = train_test_split(x_train, y_train, stratify=y_train, random_state=42)"
   ]
  },
  {
   "cell_type": "code",
   "execution_count": 62,
   "metadata": {
    "executionInfo": {
     "elapsed": 7,
     "status": "ok",
     "timestamp": 1630555215127,
     "user": {
      "displayName": "정진우",
      "photoUrl": "",
      "userId": "05017758655145019300"
     },
     "user_tz": -540
    },
    "id": "6J-3xymzW-cB"
   },
   "outputs": [],
   "source": [
    "# one-hot encoding\n",
    "y_train = keras.utils.to_categorical(y_train)\n",
    "y_val = keras.utils.to_categorical(y_val)\n",
    "y_test = keras.utils.to_categorical(y_test)"
   ]
  },
  {
   "cell_type": "code",
   "execution_count": 63,
   "metadata": {
    "colab": {
     "base_uri": "https://localhost:8080/"
    },
    "executionInfo": {
     "elapsed": 17,
     "status": "ok",
     "timestamp": 1630555215903,
     "user": {
      "displayName": "정진우",
      "photoUrl": "",
      "userId": "05017758655145019300"
     },
     "user_tz": -540
    },
    "id": "9XD2DKjbXASA",
    "outputId": "a814366b-439a-41c3-9cfd-aadee9353d87"
   },
   "outputs": [
    {
     "data": {
      "text/plain": [
       "((37500, 32, 32, 3), (12500, 32, 32, 3), (10000, 32, 32, 3))"
      ]
     },
     "execution_count": 63,
     "metadata": {},
     "output_type": "execute_result"
    }
   ],
   "source": [
    "# data shape\n",
    "x_train.shape, x_val.shape, x_test.shape"
   ]
  },
  {
   "cell_type": "code",
   "execution_count": 65,
   "metadata": {
    "executionInfo": {
     "elapsed": 242,
     "status": "ok",
     "timestamp": 1630555265215,
     "user": {
      "displayName": "정진우",
      "photoUrl": "",
      "userId": "05017758655145019300"
     },
     "user_tz": -540
    },
    "id": "YFAGZylmXMt0"
   },
   "outputs": [],
   "source": [
    "# augmentation 모델\n",
    "# 명도, 채도 변경\n",
    "# 회전, 반전\n",
    "# 이미지 대비 변경\n",
    "data_augmentation = keras.Sequential([\n",
    "        keras.layers.Lambda(lambda x: aug_fun(x)),\n",
    "        keras.layers.RandomRotation(0.2),\n",
    "        keras.layers.RandomFlip(),\n",
    "        keras.layers.RandomContrast(0.3)\n",
    "])"
   ]
  },
  {
   "cell_type": "code",
   "execution_count": 66,
   "metadata": {
    "executionInfo": {
     "elapsed": 1949,
     "status": "ok",
     "timestamp": 1630555269658,
     "user": {
      "displayName": "정진우",
      "photoUrl": "",
      "userId": "05017758655145019300"
     },
     "user_tz": -540
    },
    "id": "xEZtthrZJspq"
   },
   "outputs": [],
   "source": [
    "# 이전 이미지를 변환\n",
    "out = data_augmentation(x_train)"
   ]
  },
  {
   "cell_type": "code",
   "execution_count": 71,
   "metadata": {
    "colab": {
     "base_uri": "https://localhost:8080/"
    },
    "executionInfo": {
     "elapsed": 417,
     "status": "ok",
     "timestamp": 1630555298640,
     "user": {
      "displayName": "정진우",
      "photoUrl": "",
      "userId": "05017758655145019300"
     },
     "user_tz": -540
    },
    "id": "txZ_cgOMKOI-",
    "outputId": "5ebcfdc9-e5a6-41d4-ce70-62fc0e38139c"
   },
   "outputs": [
    {
     "data": {
      "text/plain": [
       "TensorShape([37500, 32, 32, 3])"
      ]
     },
     "execution_count": 71,
     "metadata": {},
     "output_type": "execute_result"
    }
   ],
   "source": [
    "# 변환된 이미지 shape\n",
    "out.shape"
   ]
  },
  {
   "cell_type": "code",
   "execution_count": 72,
   "metadata": {
    "executionInfo": {
     "elapsed": 637,
     "status": "ok",
     "timestamp": 1630555300370,
     "user": {
      "displayName": "정진우",
      "photoUrl": "",
      "userId": "05017758655145019300"
     },
     "user_tz": -540
    },
    "id": "6z-G15kYJ8ec"
   },
   "outputs": [],
   "source": [
    "# 이전 이미지와 변환된 이미지를 합침\n",
    "aug_x_train = np.concatenate((x_train, out), axis=0)\n",
    "aug_y_train = np.concatenate((y_train, y_train), axis=0)"
   ]
  },
  {
   "cell_type": "code",
   "execution_count": 73,
   "metadata": {
    "executionInfo": {
     "elapsed": 246,
     "status": "ok",
     "timestamp": 1630555301855,
     "user": {
      "displayName": "정진우",
      "photoUrl": "",
      "userId": "05017758655145019300"
     },
     "user_tz": -540
    },
    "id": "VoN21jMSc7Vm"
   },
   "outputs": [],
   "source": [
    "# 전처리 함수\n",
    "# normalizing\n",
    "def normalizing(x_batch, y_batch):\n",
    "  x_batch = tf.cast(x_batch, tf.float32)\n",
    "  x_batch /= 255.0\n",
    "\n",
    "  return x_batch, y_batch\n",
    "\n",
    "\n",
    "# 이미지 크기 조정\n",
    "# xcpetion은 최소 71x71\n",
    "def resizing(x_batch, y_batch):\n",
    "  x_batch = tf.image.resize(x_batch, (71, 71))\n",
    "\n",
    "  return x_batch, y_batch"
   ]
  },
  {
   "cell_type": "code",
   "execution_count": 74,
   "metadata": {
    "executionInfo": {
     "elapsed": 3216,
     "status": "ok",
     "timestamp": 1630555306708,
     "user": {
      "displayName": "정진우",
      "photoUrl": "",
      "userId": "05017758655145019300"
     },
     "user_tz": -540
    },
    "id": "hjC5_SVydNMh"
   },
   "outputs": [],
   "source": [
    "# 데이터 셋 생성\n",
    "batch_size = 512\n",
    "\n",
    "train_dataset = tf.data.Dataset.from_tensor_slices((aug_x_train, aug_y_train))\n",
    "train_dataset = train_dataset.batch(batch_size)\n",
    "train_dataset = train_dataset.map(normalizing).shuffle(1000, seed=42)\n",
    "train_dataset = train_dataset.prefetch(buffer_size=tf.data.experimental.AUTOTUNE)\n",
    "\n",
    "valid_dataset = tf.data.Dataset.from_tensor_slices((x_val, y_val))\n",
    "valid_dataset = valid_dataset.batch(batch_size).map(normalizing)\n",
    "valid_dataset = valid_dataset.prefetch(buffer_size=tf.data.experimental.AUTOTUNE)\n",
    "\n",
    "test_dataset = tf.data.Dataset.from_tensor_slices((x_test, y_test))\n",
    "test_dataset = test_dataset.batch(batch_size).map(normalizing)\n",
    "test_dataset = test_dataset.prefetch(buffer_size=tf.data.experimental.AUTOTUNE)"
   ]
  },
  {
   "cell_type": "code",
   "execution_count": 75,
   "metadata": {
    "executionInfo": {
     "elapsed": 965,
     "status": "ok",
     "timestamp": 1630555308592,
     "user": {
      "displayName": "정진우",
      "photoUrl": "",
      "userId": "05017758655145019300"
     },
     "user_tz": -540
    },
    "id": "J2H1PkAWdQyG"
   },
   "outputs": [],
   "source": [
    "with strategy.scope():\n",
    "  # model\n",
    "  model = keras.models.Sequential([\n",
    "              keras.layers.Conv2D(16, 5, activation='relu', input_shape=(32, 32, 3)),\n",
    "              keras.layers.BatchNormalization(),\n",
    "              keras.layers.MaxPool2D(pool_size=(3, 3)),\n",
    "              keras.layers.Conv2D(32, 3, activation='relu'),\n",
    "              keras.layers.BatchNormalization(),\n",
    "              keras.layers.MaxPool2D(pool_size=(2, 2)),\n",
    "              keras.layers.Flatten(),\n",
    "              keras.layers.Dense(120, activation='relu'),\n",
    "              keras.layers.BatchNormalization(),\n",
    "              keras.layers.Dense(62, activation='relu'),\n",
    "              keras.layers.BatchNormalization(),\n",
    "              keras.layers.Dense(20, activation='relu'),\n",
    "              keras.layers.Dense(num_class, activation='softmax')\n",
    "  ])\n",
    "\n",
    "  model.compile(\n",
    "      optimizer='adam',\n",
    "      loss='categorical_crossentropy',\n",
    "      metrics='accuracy'\n",
    "  )"
   ]
  },
  {
   "cell_type": "code",
   "execution_count": 76,
   "metadata": {
    "colab": {
     "base_uri": "https://localhost:8080/"
    },
    "executionInfo": {
     "elapsed": 198,
     "status": "ok",
     "timestamp": 1630555309979,
     "user": {
      "displayName": "정진우",
      "photoUrl": "",
      "userId": "05017758655145019300"
     },
     "user_tz": -540
    },
    "id": "mLPNvxWmdnqk",
    "outputId": "7c641562-af75-408a-d68c-0752ba99fa97"
   },
   "outputs": [
    {
     "name": "stdout",
     "output_type": "stream",
     "text": [
      "Model: \"sequential_4\"\n",
      "_________________________________________________________________\n",
      "Layer (type)                 Output Shape              Param #   \n",
      "=================================================================\n",
      "conv2d_6 (Conv2D)            (None, 28, 28, 16)        1216      \n",
      "_________________________________________________________________\n",
      "batch_normalization_8 (Batch (None, 28, 28, 16)        64        \n",
      "_________________________________________________________________\n",
      "max_pooling2d_2 (MaxPooling2 (None, 9, 9, 16)          0         \n",
      "_________________________________________________________________\n",
      "conv2d_7 (Conv2D)            (None, 7, 7, 32)          4640      \n",
      "_________________________________________________________________\n",
      "batch_normalization_9 (Batch (None, 7, 7, 32)          128       \n",
      "_________________________________________________________________\n",
      "max_pooling2d_3 (MaxPooling2 (None, 3, 3, 32)          0         \n",
      "_________________________________________________________________\n",
      "flatten_1 (Flatten)          (None, 288)               0         \n",
      "_________________________________________________________________\n",
      "dense_5 (Dense)              (None, 120)               34680     \n",
      "_________________________________________________________________\n",
      "batch_normalization_10 (Batc (None, 120)               480       \n",
      "_________________________________________________________________\n",
      "dense_6 (Dense)              (None, 62)                7502      \n",
      "_________________________________________________________________\n",
      "batch_normalization_11 (Batc (None, 62)                248       \n",
      "_________________________________________________________________\n",
      "dense_7 (Dense)              (None, 20)                1260      \n",
      "_________________________________________________________________\n",
      "dense_8 (Dense)              (None, 10)                210       \n",
      "=================================================================\n",
      "Total params: 50,428\n",
      "Trainable params: 49,968\n",
      "Non-trainable params: 460\n",
      "_________________________________________________________________\n"
     ]
    }
   ],
   "source": [
    "model.summary()"
   ]
  },
  {
   "cell_type": "code",
   "execution_count": 77,
   "metadata": {
    "executionInfo": {
     "elapsed": 217,
     "status": "ok",
     "timestamp": 1630555315539,
     "user": {
      "displayName": "정진우",
      "photoUrl": "",
      "userId": "05017758655145019300"
     },
     "user_tz": -540
    },
    "id": "WTqmCbq4fGYg"
   },
   "outputs": [],
   "source": [
    "# callback method\n",
    "\n",
    "# checkpoint path\n",
    "ckpt_name = 'aug_CNN_ckpt.hdf5'\n",
    "checkpoint_dir_path = os.path.join(prefix, 'checkpoint')\n",
    "checkpoint_path = os.path.join(prefix, 'checkpoint', ckpt_name)\n",
    "\n",
    "# check checkpoint paht\n",
    "# 디렉토리가 존재하지 않으면 생성\n",
    "if not(os.path.exists(checkpoint_dir_path)):\n",
    "  os.mkdir(checkpoint_dir_path)\n",
    "\n",
    "callbacks_list = [\n",
    "    # accuracy 기준 가장 높은 모델의 weight 저장\n",
    "    tf.keras.callbacks.ModelCheckpoint(\n",
    "        filepath = checkpoint_path,\n",
    "        monitor='val_accuracy',\n",
    "        mode='max',\n",
    "        save_weights_only=True,\n",
    "        save_best_only=True\n",
    "    ),\n",
    "    # EarlyStopping\n",
    "    tf.keras.callbacks.EarlyStopping(\n",
    "        monitor='val_accuracy',\n",
    "        mode='max',\n",
    "        verbose=1, \n",
    "        patience=10\n",
    "    )\n",
    "]"
   ]
  },
  {
   "cell_type": "code",
   "execution_count": 78,
   "metadata": {
    "colab": {
     "base_uri": "https://localhost:8080/"
    },
    "executionInfo": {
     "elapsed": 118510,
     "status": "ok",
     "timestamp": 1630555436061,
     "user": {
      "displayName": "정진우",
      "photoUrl": "",
      "userId": "05017758655145019300"
     },
     "user_tz": -540
    },
    "id": "FCQnAFsyfKDf",
    "outputId": "22a7b7f4-2a57-4764-c0dd-5e0b125e6624"
   },
   "outputs": [
    {
     "name": "stdout",
     "output_type": "stream",
     "text": [
      "Epoch 1/100\n",
      "147/147 [==============================] - 14s 52ms/step - loss: 1.9471 - accuracy: 0.3048 - val_loss: 2.2706 - val_accuracy: 0.1667\n",
      "Epoch 2/100\n",
      "147/147 [==============================] - 3s 20ms/step - loss: 1.6638 - accuracy: 0.4048 - val_loss: 2.0742 - val_accuracy: 0.2318\n",
      "Epoch 3/100\n",
      "147/147 [==============================] - 3s 21ms/step - loss: 1.5531 - accuracy: 0.4476 - val_loss: 1.8663 - val_accuracy: 0.3250\n",
      "Epoch 4/100\n",
      "147/147 [==============================] - 3s 21ms/step - loss: 1.4799 - accuracy: 0.4757 - val_loss: 1.7417 - val_accuracy: 0.3877\n",
      "Epoch 5/100\n",
      "147/147 [==============================] - 4s 26ms/step - loss: 1.4250 - accuracy: 0.4964 - val_loss: 1.6709 - val_accuracy: 0.4203\n",
      "Epoch 6/100\n",
      "147/147 [==============================] - 3s 21ms/step - loss: 1.3745 - accuracy: 0.5151 - val_loss: 1.6411 - val_accuracy: 0.4432\n",
      "Epoch 7/100\n",
      "147/147 [==============================] - 3s 21ms/step - loss: 1.3360 - accuracy: 0.5296 - val_loss: 1.7421 - val_accuracy: 0.4154\n",
      "Epoch 8/100\n",
      "147/147 [==============================] - 3s 21ms/step - loss: 1.2952 - accuracy: 0.5440 - val_loss: 1.6473 - val_accuracy: 0.4384\n",
      "Epoch 9/100\n",
      "147/147 [==============================] - 3s 21ms/step - loss: 1.2633 - accuracy: 0.5555 - val_loss: 1.4456 - val_accuracy: 0.5050\n",
      "Epoch 10/100\n",
      "147/147 [==============================] - 3s 21ms/step - loss: 1.2365 - accuracy: 0.5660 - val_loss: 1.6053 - val_accuracy: 0.4474\n",
      "Epoch 11/100\n",
      "147/147 [==============================] - 3s 22ms/step - loss: 1.2054 - accuracy: 0.5786 - val_loss: 1.4779 - val_accuracy: 0.4992\n",
      "Epoch 12/100\n",
      "147/147 [==============================] - 3s 22ms/step - loss: 1.1805 - accuracy: 0.5860 - val_loss: 1.4929 - val_accuracy: 0.5034\n",
      "Epoch 13/100\n",
      "147/147 [==============================] - 3s 21ms/step - loss: 1.1547 - accuracy: 0.5955 - val_loss: 1.5772 - val_accuracy: 0.4782\n",
      "Epoch 14/100\n",
      "147/147 [==============================] - 3s 21ms/step - loss: 1.1384 - accuracy: 0.6012 - val_loss: 1.6136 - val_accuracy: 0.4742\n",
      "Epoch 15/100\n",
      "147/147 [==============================] - 3s 21ms/step - loss: 1.1132 - accuracy: 0.6089 - val_loss: 1.6262 - val_accuracy: 0.4782\n",
      "Epoch 16/100\n",
      "147/147 [==============================] - 4s 25ms/step - loss: 1.0937 - accuracy: 0.6156 - val_loss: 1.4489 - val_accuracy: 0.5163\n",
      "Epoch 17/100\n",
      "147/147 [==============================] - 3s 21ms/step - loss: 1.0771 - accuracy: 0.6228 - val_loss: 1.5452 - val_accuracy: 0.4932\n",
      "Epoch 18/100\n",
      "147/147 [==============================] - 3s 21ms/step - loss: 1.0610 - accuracy: 0.6289 - val_loss: 1.6233 - val_accuracy: 0.4713\n",
      "Epoch 19/100\n",
      "147/147 [==============================] - 3s 21ms/step - loss: 1.0495 - accuracy: 0.6329 - val_loss: 1.5216 - val_accuracy: 0.5026\n",
      "Epoch 20/100\n",
      "147/147 [==============================] - 3s 21ms/step - loss: 1.0250 - accuracy: 0.6418 - val_loss: 1.6417 - val_accuracy: 0.4827\n",
      "Epoch 21/100\n",
      "147/147 [==============================] - 3s 21ms/step - loss: 1.0083 - accuracy: 0.6475 - val_loss: 1.7289 - val_accuracy: 0.4661\n",
      "Epoch 22/100\n",
      "147/147 [==============================] - 3s 22ms/step - loss: 1.0001 - accuracy: 0.6496 - val_loss: 1.5506 - val_accuracy: 0.4978\n",
      "Epoch 23/100\n",
      "147/147 [==============================] - 3s 22ms/step - loss: 0.9852 - accuracy: 0.6555 - val_loss: 1.7196 - val_accuracy: 0.4586\n",
      "Epoch 24/100\n",
      "147/147 [==============================] - 3s 22ms/step - loss: 0.9743 - accuracy: 0.6578 - val_loss: 1.7859 - val_accuracy: 0.4599\n",
      "Epoch 25/100\n",
      "147/147 [==============================] - 3s 22ms/step - loss: 0.9601 - accuracy: 0.6637 - val_loss: 1.5980 - val_accuracy: 0.4978\n",
      "Epoch 26/100\n",
      "147/147 [==============================] - 4s 26ms/step - loss: 0.9474 - accuracy: 0.6678 - val_loss: 1.6807 - val_accuracy: 0.4877\n",
      "Epoch 00026: early stopping\n"
     ]
    }
   ],
   "source": [
    "hist = model.fit(train_dataset, validation_data=valid_dataset, callbacks=callbacks_list, epochs=100)"
   ]
  },
  {
   "cell_type": "code",
   "execution_count": 82,
   "metadata": {
    "colab": {
     "base_uri": "https://localhost:8080/",
     "height": 911
    },
    "executionInfo": {
     "elapsed": 941,
     "status": "ok",
     "timestamp": 1630555465691,
     "user": {
      "displayName": "정진우",
      "photoUrl": "",
      "userId": "05017758655145019300"
     },
     "user_tz": -540
    },
    "id": "SKWspIAIfLYj",
    "outputId": "7682368d-c71f-4378-dd27-4b635c498816"
   },
   "outputs": [
    {
     "data": {
      "text/plain": [
       "<matplotlib.legend.Legend at 0x7fd872059c50>"
      ]
     },
     "execution_count": 82,
     "metadata": {},
     "output_type": "execute_result"
    },
    {
     "data": {
      "image/png": "[encoded data removed]",
      "text/plain": [
       "<Figure size 1080x1080 with 1 Axes>"
      ]
     },
     "metadata": {
      "needs_background": "light"
     },
     "output_type": "display_data"
    }
   ],
   "source": [
    "# learning curve\n",
    "plt.figure(figsize=(15, 15))\n",
    "plt.plot(hist.history['accuracy'], label='accuracy')\n",
    "plt.plot(hist.history['val_accuracy'], label='val_accuracy')\n",
    "plt.title('Learing Curve')\n",
    "plt.xlabel('Epochs')\n",
    "plt.ylabel('accuracy')\n",
    "plt.legend()"
   ]
  },
  {
   "cell_type": "code",
   "execution_count": 83,
   "metadata": {
    "executionInfo": {
     "elapsed": 481,
     "status": "ok",
     "timestamp": 1630555473028,
     "user": {
      "displayName": "정진우",
      "photoUrl": "",
      "userId": "05017758655145019300"
     },
     "user_tz": -540
    },
    "id": "F6DtqMLoMjux"
   },
   "outputs": [],
   "source": [
    "# load last ckpt weight\n",
    "model.load_weights(checkpoint_path)"
   ]
  },
  {
   "cell_type": "code",
   "execution_count": 84,
   "metadata": {
    "colab": {
     "base_uri": "https://localhost:8080/"
    },
    "executionInfo": {
     "elapsed": 1683,
     "status": "ok",
     "timestamp": 1630555476989,
     "user": {
      "displayName": "정진우",
      "photoUrl": "",
      "userId": "05017758655145019300"
     },
     "user_tz": -540
    },
    "id": "S5KfK2UKMmm2",
    "outputId": "d0155985-6c26-4e75-b86f-f6d7b2069fe0"
   },
   "outputs": [
    {
     "name": "stdout",
     "output_type": "stream",
     "text": [
      "20/20 [==============================] - 1s 13ms/step - loss: 1.4598 - accuracy: 0.5038\n"
     ]
    },
    {
     "data": {
      "text/plain": [
       "[1.4597970247268677, 0.5037999749183655]"
      ]
     },
     "execution_count": 84,
     "metadata": {},
     "output_type": "execute_result"
    }
   ],
   "source": [
    "# evaluate test set\n",
    "model.evaluate(test_dataset)"
   ]
  },
  {
   "cell_type": "code",
   "execution_count": 85,
   "metadata": {
    "executionInfo": {
     "elapsed": 7138,
     "status": "ok",
     "timestamp": 1630555488278,
     "user": {
      "displayName": "정진우",
      "photoUrl": "",
      "userId": "05017758655145019300"
     },
     "user_tz": -540
    },
    "id": "k_7A-PcDMoQu"
   },
   "outputs": [],
   "source": [
    "with strategy.scope():\n",
    "  # Xception\n",
    "  base = keras.applications.Xception(input_shape=(71, 71, 3), weights=None, include_top=False)\n",
    "\n",
    "  # top layer 생성\n",
    "  xception = keras.models.Sequential()\n",
    "  xception.add(base)\n",
    "  xception.add(keras.layers.GlobalAveragePooling2D())\n",
    "  xception.add(keras.layers.Dense(num_class, activation='softmax'))\n",
    "\n",
    "  xception.compile(\n",
    "      optimizer='adam',\n",
    "      loss='categorical_crossentropy',\n",
    "      metrics='accuracy'\n",
    "  )"
   ]
  },
  {
   "cell_type": "code",
   "execution_count": 86,
   "metadata": {
    "executionInfo": {
     "elapsed": 3462,
     "status": "ok",
     "timestamp": 1630555494069,
     "user": {
      "displayName": "정진우",
      "photoUrl": "",
      "userId": "05017758655145019300"
     },
     "user_tz": -540
    },
    "id": "gQBuwfDpMsc0"
   },
   "outputs": [],
   "source": [
    "# 데이터 셋 생성\n",
    "# 이미지 크기 조정\n",
    "batch_size = 512\n",
    "\n",
    "train_dataset = tf.data.Dataset.from_tensor_slices((aug_x_train, aug_y_train))\n",
    "train_dataset = train_dataset.batch(batch_size)\n",
    "train_dataset = train_dataset.map(normalizing).map(resizing).shuffle(1000, seed=42)\n",
    "train_dataset = train_dataset.prefetch(buffer_size=tf.data.experimental.AUTOTUNE)\n",
    "\n",
    "valid_dataset = tf.data.Dataset.from_tensor_slices((x_val, y_val))\n",
    "valid_dataset = valid_dataset.batch(batch_size).map(normalizing).map(resizing)\n",
    "valid_dataset = valid_dataset.prefetch(buffer_size=tf.data.experimental.AUTOTUNE)\n",
    "\n",
    "test_dataset = tf.data.Dataset.from_tensor_slices((x_test, y_test))\n",
    "test_dataset = test_dataset.batch(batch_size).map(normalizing).map(resizing)\n",
    "test_dataset = test_dataset.prefetch(buffer_size=tf.data.experimental.AUTOTUNE)"
   ]
  },
  {
   "cell_type": "code",
   "execution_count": 87,
   "metadata": {
    "colab": {
     "base_uri": "https://localhost:8080/"
    },
    "executionInfo": {
     "elapsed": 447,
     "status": "ok",
     "timestamp": 1630555495873,
     "user": {
      "displayName": "정진우",
      "photoUrl": "",
      "userId": "05017758655145019300"
     },
     "user_tz": -540
    },
    "id": "dY7FkfEeM8-6",
    "outputId": "f4478cc9-a54d-418e-9a6d-75f05cfa6b52"
   },
   "outputs": [
    {
     "name": "stdout",
     "output_type": "stream",
     "text": [
      "Model: \"sequential_5\"\n",
      "_________________________________________________________________\n",
      "Layer (type)                 Output Shape              Param #   \n",
      "=================================================================\n",
      "xception (Functional)        (None, 3, 3, 2048)        20861480  \n",
      "_________________________________________________________________\n",
      "global_average_pooling2d_1 ( (None, 2048)              0         \n",
      "_________________________________________________________________\n",
      "dense_9 (Dense)              (None, 10)                20490     \n",
      "=================================================================\n",
      "Total params: 20,881,970\n",
      "Trainable params: 20,827,442\n",
      "Non-trainable params: 54,528\n",
      "_________________________________________________________________\n"
     ]
    }
   ],
   "source": [
    "xception.summary()"
   ]
  },
  {
   "cell_type": "code",
   "execution_count": 88,
   "metadata": {
    "executionInfo": {
     "elapsed": 7,
     "status": "ok",
     "timestamp": 1630555498666,
     "user": {
      "displayName": "정진우",
      "photoUrl": "",
      "userId": "05017758655145019300"
     },
     "user_tz": -540
    },
    "id": "40APTy35NLPV"
   },
   "outputs": [],
   "source": [
    "# callback method\n",
    "\n",
    "# checkpoint path\n",
    "ckpt_name = 'aug_xception_ckpt.hdf5'\n",
    "checkpoint_dir_path = os.path.join(prefix, 'checkpoint')\n",
    "checkpoint_path = os.path.join(prefix, 'checkpoint', ckpt_name)\n",
    "\n",
    "# check checkpoint paht\n",
    "# 디렉토리가 존재하지 않으면 생성\n",
    "if not(os.path.exists(checkpoint_dir_path)):\n",
    "  os.mkdir(checkpoint_dir_path)\n",
    "\n",
    "callbacks_list = [\n",
    "    # accuracy 기준 가장 높은 모델의 weight 저장\n",
    "    tf.keras.callbacks.ModelCheckpoint(\n",
    "        filepath = checkpoint_path,\n",
    "        monitor='val_accuracy',\n",
    "        mode='max',\n",
    "        save_weights_only=True,\n",
    "        save_best_only=True\n",
    "    ),\n",
    "    # EarlyStopping\n",
    "    tf.keras.callbacks.EarlyStopping(\n",
    "        monitor='val_accuracy',\n",
    "        mode='max',\n",
    "        verbose=1, \n",
    "        patience=10\n",
    "    )\n",
    "]"
   ]
  },
  {
   "cell_type": "code",
   "execution_count": 89,
   "metadata": {
    "colab": {
     "base_uri": "https://localhost:8080/"
    },
    "executionInfo": {
     "elapsed": 523796,
     "status": "ok",
     "timestamp": 1630556024597,
     "user": {
      "displayName": "정진우",
      "photoUrl": "",
      "userId": "05017758655145019300"
     },
     "user_tz": -540
    },
    "id": "AA70XTeXNOmS",
    "outputId": "8e75698c-c4f5-4d2e-9cfd-c6a3a9b7661c"
   },
   "outputs": [
    {
     "name": "stdout",
     "output_type": "stream",
     "text": [
      "Epoch 1/100\n",
      "147/147 [==============================] - 94s 321ms/step - loss: 1.5393 - accuracy: 0.4477 - val_loss: 2.3039 - val_accuracy: 0.1000\n",
      "Epoch 2/100\n",
      "147/147 [==============================] - 11s 74ms/step - loss: 1.1785 - accuracy: 0.5825 - val_loss: 2.3125 - val_accuracy: 0.1000\n",
      "Epoch 3/100\n",
      "147/147 [==============================] - 11s 69ms/step - loss: 0.9627 - accuracy: 0.6624 - val_loss: 2.3004 - val_accuracy: 0.1682\n",
      "Epoch 4/100\n",
      "147/147 [==============================] - 11s 71ms/step - loss: 0.7960 - accuracy: 0.7208 - val_loss: 1.7214 - val_accuracy: 0.3867\n",
      "Epoch 5/100\n",
      "147/147 [==============================] - 11s 71ms/step - loss: 0.6378 - accuracy: 0.7753 - val_loss: 1.8290 - val_accuracy: 0.4949\n",
      "Epoch 6/100\n",
      "147/147 [==============================] - 11s 70ms/step - loss: 0.4716 - accuracy: 0.8359 - val_loss: 1.5575 - val_accuracy: 0.6174\n",
      "Epoch 7/100\n",
      "147/147 [==============================] - 11s 71ms/step - loss: 0.3519 - accuracy: 0.8768 - val_loss: 2.3914 - val_accuracy: 0.5765\n",
      "Epoch 8/100\n",
      "147/147 [==============================] - 10s 69ms/step - loss: 0.2521 - accuracy: 0.9114 - val_loss: 2.1527 - val_accuracy: 0.6306\n",
      "Epoch 9/100\n",
      "147/147 [==============================] - 11s 70ms/step - loss: 0.1814 - accuracy: 0.9369 - val_loss: 1.9550 - val_accuracy: 0.6466\n",
      "Epoch 10/100\n",
      "147/147 [==============================] - 11s 71ms/step - loss: 0.1462 - accuracy: 0.9490 - val_loss: 1.8567 - val_accuracy: 0.6643\n",
      "Epoch 11/100\n",
      "147/147 [==============================] - 12s 77ms/step - loss: 0.1196 - accuracy: 0.9582 - val_loss: 2.0538 - val_accuracy: 0.6538\n",
      "Epoch 12/100\n",
      "147/147 [==============================] - 11s 70ms/step - loss: 0.0904 - accuracy: 0.9676 - val_loss: 2.3016 - val_accuracy: 0.6469\n",
      "Epoch 13/100\n",
      "147/147 [==============================] - 11s 70ms/step - loss: 0.0804 - accuracy: 0.9720 - val_loss: 2.0623 - val_accuracy: 0.6750\n",
      "Epoch 14/100\n",
      "147/147 [==============================] - 11s 70ms/step - loss: 0.0778 - accuracy: 0.9729 - val_loss: 1.8467 - val_accuracy: 0.6950\n",
      "Epoch 15/100\n",
      "147/147 [==============================] - 11s 71ms/step - loss: 0.0854 - accuracy: 0.9703 - val_loss: 1.8248 - val_accuracy: 0.7017\n",
      "Epoch 16/100\n",
      "147/147 [==============================] - 11s 71ms/step - loss: 0.0696 - accuracy: 0.9762 - val_loss: 1.9064 - val_accuracy: 0.7090\n",
      "Epoch 17/100\n",
      "147/147 [==============================] - 11s 71ms/step - loss: 0.0595 - accuracy: 0.9793 - val_loss: 2.1508 - val_accuracy: 0.6714\n",
      "Epoch 18/100\n",
      "147/147 [==============================] - 11s 70ms/step - loss: 0.0566 - accuracy: 0.9800 - val_loss: 2.0082 - val_accuracy: 0.7036\n",
      "Epoch 19/100\n",
      "147/147 [==============================] - 11s 69ms/step - loss: 0.0743 - accuracy: 0.9745 - val_loss: 2.3739 - val_accuracy: 0.6654\n",
      "Epoch 20/100\n",
      "147/147 [==============================] - 11s 69ms/step - loss: 0.0628 - accuracy: 0.9783 - val_loss: 2.1932 - val_accuracy: 0.6830\n",
      "Epoch 21/100\n",
      "147/147 [==============================] - 11s 75ms/step - loss: 0.0529 - accuracy: 0.9809 - val_loss: 2.0844 - val_accuracy: 0.6929\n",
      "Epoch 22/100\n",
      "147/147 [==============================] - 11s 69ms/step - loss: 0.0558 - accuracy: 0.9808 - val_loss: 2.5041 - val_accuracy: 0.6586\n",
      "Epoch 23/100\n",
      "147/147 [==============================] - 11s 69ms/step - loss: 0.0530 - accuracy: 0.9813 - val_loss: 2.3535 - val_accuracy: 0.6734\n",
      "Epoch 24/100\n",
      "147/147 [==============================] - 11s 70ms/step - loss: 0.0448 - accuracy: 0.9841 - val_loss: 2.0344 - val_accuracy: 0.7003\n",
      "Epoch 25/100\n",
      "147/147 [==============================] - 11s 69ms/step - loss: 0.0433 - accuracy: 0.9853 - val_loss: 2.0974 - val_accuracy: 0.6957\n",
      "Epoch 26/100\n",
      "147/147 [==============================] - 11s 69ms/step - loss: 0.0513 - accuracy: 0.9820 - val_loss: 1.8070 - val_accuracy: 0.7294\n",
      "Epoch 27/100\n",
      "147/147 [==============================] - 11s 71ms/step - loss: 0.0420 - accuracy: 0.9848 - val_loss: 2.2547 - val_accuracy: 0.6925\n",
      "Epoch 28/100\n",
      "147/147 [==============================] - 11s 69ms/step - loss: 0.0398 - accuracy: 0.9862 - val_loss: 2.1217 - val_accuracy: 0.7002\n",
      "Epoch 29/100\n",
      "147/147 [==============================] - 11s 69ms/step - loss: 0.0410 - accuracy: 0.9860 - val_loss: 2.0685 - val_accuracy: 0.7093\n",
      "Epoch 30/100\n",
      "147/147 [==============================] - 10s 69ms/step - loss: 0.0388 - accuracy: 0.9869 - val_loss: 1.9736 - val_accuracy: 0.7162\n",
      "Epoch 31/100\n",
      "147/147 [==============================] - 11s 69ms/step - loss: 0.0446 - accuracy: 0.9847 - val_loss: 2.2623 - val_accuracy: 0.6970\n",
      "Epoch 32/100\n",
      "147/147 [==============================] - 11s 74ms/step - loss: 0.0464 - accuracy: 0.9843 - val_loss: 2.5211 - val_accuracy: 0.6682\n",
      "Epoch 33/100\n",
      "147/147 [==============================] - 11s 69ms/step - loss: 0.0435 - accuracy: 0.9854 - val_loss: 2.0633 - val_accuracy: 0.7067\n",
      "Epoch 34/100\n",
      "147/147 [==============================] - 11s 69ms/step - loss: 0.0354 - accuracy: 0.9880 - val_loss: 2.2230 - val_accuracy: 0.6962\n",
      "Epoch 35/100\n",
      "147/147 [==============================] - 11s 70ms/step - loss: 0.0298 - accuracy: 0.9896 - val_loss: 2.5170 - val_accuracy: 0.6672\n",
      "Epoch 36/100\n",
      "147/147 [==============================] - 11s 69ms/step - loss: 0.0375 - accuracy: 0.9870 - val_loss: 2.2091 - val_accuracy: 0.6942\n",
      "Epoch 00036: early stopping\n"
     ]
    }
   ],
   "source": [
    "hist = xception.fit(train_dataset, validation_data=valid_dataset, callbacks=callbacks_list, epochs=100)"
   ]
  },
  {
   "cell_type": "code",
   "execution_count": 93,
   "metadata": {
    "colab": {
     "base_uri": "https://localhost:8080/",
     "height": 911
    },
    "executionInfo": {
     "elapsed": 809,
     "status": "ok",
     "timestamp": 1630556098737,
     "user": {
      "displayName": "정진우",
      "photoUrl": "",
      "userId": "05017758655145019300"
     },
     "user_tz": -540
    },
    "id": "Fq9OsQraNQOg",
    "outputId": "f4a88855-27e2-421d-d859-92ace340a8fa"
   },
   "outputs": [
    {
     "data": {
      "text/plain": [
       "<matplotlib.legend.Legend at 0x7fd8749b5dd0>"
      ]
     },
     "execution_count": 93,
     "metadata": {},
     "output_type": "execute_result"
    },
    {
     "data": {
      "image/png": "[encoded data removed]",
      "text/plain": [
       "<Figure size 1080x1080 with 1 Axes>"
      ]
     },
     "metadata": {
      "needs_background": "light"
     },
     "output_type": "display_data"
    }
   ],
   "source": [
    "# learning curve\n",
    "plt.figure(figsize=(15, 15))\n",
    "plt.plot(hist.history['accuracy'], label='accuracy')\n",
    "plt.plot(hist.history['val_accuracy'], label='val_accuracy')\n",
    "plt.title('Learing Curve')\n",
    "plt.xlabel('Epochs')\n",
    "plt.ylabel('accuracy')\n",
    "plt.legend()"
   ]
  },
  {
   "cell_type": "code",
   "execution_count": 94,
   "metadata": {
    "executionInfo": {
     "elapsed": 2653,
     "status": "ok",
     "timestamp": 1630556109124,
     "user": {
      "displayName": "정진우",
      "photoUrl": "",
      "userId": "05017758655145019300"
     },
     "user_tz": -540
    },
    "id": "sulhXUpTrqe1"
   },
   "outputs": [],
   "source": [
    "# load last ckpt weight\n",
    "xception.load_weights(checkpoint_path)"
   ]
  },
  {
   "cell_type": "code",
   "execution_count": 95,
   "metadata": {
    "colab": {
     "base_uri": "https://localhost:8080/"
    },
    "executionInfo": {
     "elapsed": 5527,
     "status": "ok",
     "timestamp": 1630556115793,
     "user": {
      "displayName": "정진우",
      "photoUrl": "",
      "userId": "05017758655145019300"
     },
     "user_tz": -540
    },
    "id": "FiANjPVKru7d",
    "outputId": "95ab26a5-4bd5-47ef-9bb3-bc36ff47a647"
   },
   "outputs": [
    {
     "name": "stdout",
     "output_type": "stream",
     "text": [
      "20/20 [==============================] - 2s 23ms/step - loss: 1.8636 - accuracy: 0.7180\n"
     ]
    },
    {
     "data": {
      "text/plain": [
       "[1.8636448383331299, 0.7179999947547913]"
      ]
     },
     "execution_count": 95,
     "metadata": {},
     "output_type": "execute_result"
    }
   ],
   "source": [
    "# evaluate test set\n",
    "xception.evaluate(test_dataset)"
   ]
  },
  {
   "cell_type": "code",
   "execution_count": null,
   "metadata": {
    "id": "Za34QUbDryv2"
   },
   "outputs": [],
   "source": []
  }
 ],
 "metadata": {
  "accelerator": "TPU",
  "colab": {
   "authorship_tag": "ABX9TyOQD39tXYeq/Vl8rvpSx61d",
   "collapsed_sections": [],
   "name": "Untitled0.ipynb",
   "provenance": []
  },
  "kernelspec": {
   "display_name": "Python 3",
   "language": "python",
   "name": "python3"
  },
  "language_info": {
   "codemirror_mode": {
    "name": "ipython",
    "version": 3
   },
   "file_extension": ".py",
   "mimetype": "text/x-python",
   "name": "python",
   "nbconvert_exporter": "python",
   "pygments_lexer": "ipython3",
   "version": "3.8.5"
  }
 },
 "nbformat": 4,
 "nbformat_minor": 1
}
