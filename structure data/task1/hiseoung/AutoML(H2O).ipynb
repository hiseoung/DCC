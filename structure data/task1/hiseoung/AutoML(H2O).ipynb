{
  "nbformat": 4,
  "nbformat_minor": 0,
  "metadata": {
    "colab": {
      "name": "AutoML(H2O).ipynb",
      "provenance": [],
      "collapsed_sections": [],
      "machine_shape": "hm"
    },
    "kernelspec": {
      "name": "python3",
      "display_name": "Python 3"
    },
    "language_info": {
      "name": "python"
    },
    "accelerator": "GPU"
  },
  "cells": [
    {
      "cell_type": "code",
      "metadata": {
        "colab": {
          "base_uri": "https://localhost:8080/"
        },
        "id": "zpfYhFwhp41X",
        "outputId": "44cd7d8d-7ea5-4716-ccb5-be25c5e42aaf"
      },
      "source": [
        "from google.colab import drive\n",
        "drive.mount('/content/drive')"
      ],
      "execution_count": null,
      "outputs": [
        {
          "output_type": "stream",
          "name": "stdout",
          "text": [
            "Mounted at /content/drive\n"
          ]
        }
      ]
    },
    {
      "cell_type": "code",
      "metadata": {
        "colab": {
          "base_uri": "https://localhost:8080/"
        },
        "id": "VQIvZWJDr7Pq",
        "outputId": "734bd10e-a019-4dec-d8c4-447d8dcf6075"
      },
      "source": [
        "!pip install h2o\n",
        "!pip install sklearn"
      ],
      "execution_count": null,
      "outputs": [
        {
          "output_type": "stream",
          "name": "stdout",
          "text": [
            "Requirement already satisfied: h2o in /usr/local/lib/python3.7/dist-packages (3.32.1.7)\n",
            "Requirement already satisfied: tabulate in /usr/local/lib/python3.7/dist-packages (from h2o) (0.8.9)\n",
            "Requirement already satisfied: colorama>=0.3.8 in /usr/local/lib/python3.7/dist-packages (from h2o) (0.4.4)\n",
            "Requirement already satisfied: future in /usr/local/lib/python3.7/dist-packages (from h2o) (0.16.0)\n",
            "Requirement already satisfied: requests in /usr/local/lib/python3.7/dist-packages (from h2o) (2.23.0)\n",
            "Requirement already satisfied: certifi>=2017.4.17 in /usr/local/lib/python3.7/dist-packages (from requests->h2o) (2021.5.30)\n",
            "Requirement already satisfied: idna<3,>=2.5 in /usr/local/lib/python3.7/dist-packages (from requests->h2o) (2.10)\n",
            "Requirement already satisfied: urllib3!=1.25.0,!=1.25.1,<1.26,>=1.21.1 in /usr/local/lib/python3.7/dist-packages (from requests->h2o) (1.24.3)\n",
            "Requirement already satisfied: chardet<4,>=3.0.2 in /usr/local/lib/python3.7/dist-packages (from requests->h2o) (3.0.4)\n",
            "Requirement already satisfied: sklearn in /usr/local/lib/python3.7/dist-packages (0.0)\n",
            "Requirement already satisfied: scikit-learn in /usr/local/lib/python3.7/dist-packages (from sklearn) (0.22.2.post1)\n",
            "Requirement already satisfied: numpy>=1.11.0 in /usr/local/lib/python3.7/dist-packages (from scikit-learn->sklearn) (1.19.5)\n",
            "Requirement already satisfied: joblib>=0.11 in /usr/local/lib/python3.7/dist-packages (from scikit-learn->sklearn) (1.0.1)\n",
            "Requirement already satisfied: scipy>=0.17.0 in /usr/local/lib/python3.7/dist-packages (from scikit-learn->sklearn) (1.4.1)\n"
          ]
        }
      ]
    },
    {
      "cell_type": "code",
      "metadata": {
        "id": "JYWTxgHWrDQ5"
      },
      "source": [
        "import pandas as pd\n",
        "import h2o\n",
        "from h2o.automl import H2OAutoML\n",
        "from sklearn.model_selection import train_test_split"
      ],
      "execution_count": null,
      "outputs": []
    },
    {
      "cell_type": "code",
      "metadata": {
        "id": "R-7cUklhXXuX"
      },
      "source": [
        "train_data = pd.read_csv('/content/drive/MyDrive/data/voted/train.csv', index_col=0)\n",
        "test_data = pd.read_csv('/content/drive/MyDrive/data/voted/test_x.csv', index_col=0)\n",
        "submission = pd.read_csv('/content/drive/MyDrive/data/voted/sample_submission.csv', index_col=0)"
      ],
      "execution_count": null,
      "outputs": []
    },
    {
      "cell_type": "code",
      "metadata": {
        "colab": {
          "base_uri": "https://localhost:8080/",
          "height": 367
        },
        "id": "NkJplATPaFe5",
        "outputId": "b88e0d42-410f-4b72-ed8d-df708bfbbfc1"
      },
      "source": [
        "h2o.init()"
      ],
      "execution_count": null,
      "outputs": [
        {
          "output_type": "stream",
          "name": "stdout",
          "text": [
            "Checking whether there is an H2O instance running at http://localhost:54321 . connected.\n"
          ]
        },
        {
          "output_type": "display_data",
          "data": {
            "text/html": [
              "<div style=\"overflow:auto\"><table style=\"width:50%\"><tr><td>H2O_cluster_uptime:</td>\n",
              "<td>21 mins 35 secs</td></tr>\n",
              "<tr><td>H2O_cluster_timezone:</td>\n",
              "<td>Etc/UTC</td></tr>\n",
              "<tr><td>H2O_data_parsing_timezone:</td>\n",
              "<td>UTC</td></tr>\n",
              "<tr><td>H2O_cluster_version:</td>\n",
              "<td>3.32.1.7</td></tr>\n",
              "<tr><td>H2O_cluster_version_age:</td>\n",
              "<td>9 days </td></tr>\n",
              "<tr><td>H2O_cluster_name:</td>\n",
              "<td>H2O_from_python_unknownUser_8w60rc</td></tr>\n",
              "<tr><td>H2O_cluster_total_nodes:</td>\n",
              "<td>1</td></tr>\n",
              "<tr><td>H2O_cluster_free_memory:</td>\n",
              "<td>6.342 Gb</td></tr>\n",
              "<tr><td>H2O_cluster_total_cores:</td>\n",
              "<td>4</td></tr>\n",
              "<tr><td>H2O_cluster_allowed_cores:</td>\n",
              "<td>4</td></tr>\n",
              "<tr><td>H2O_cluster_status:</td>\n",
              "<td>locked, healthy</td></tr>\n",
              "<tr><td>H2O_connection_url:</td>\n",
              "<td>http://localhost:54321</td></tr>\n",
              "<tr><td>H2O_connection_proxy:</td>\n",
              "<td>{\"http\": null, \"https\": null}</td></tr>\n",
              "<tr><td>H2O_internal_security:</td>\n",
              "<td>False</td></tr>\n",
              "<tr><td>H2O_API_Extensions:</td>\n",
              "<td>Amazon S3, XGBoost, Algos, AutoML, Core V3, TargetEncoder, Core V4</td></tr>\n",
              "<tr><td>Python_version:</td>\n",
              "<td>3.7.11 final</td></tr></table></div>"
            ],
            "text/plain": [
              "--------------------------  ------------------------------------------------------------------\n",
              "H2O_cluster_uptime:         21 mins 35 secs\n",
              "H2O_cluster_timezone:       Etc/UTC\n",
              "H2O_data_parsing_timezone:  UTC\n",
              "H2O_cluster_version:        3.32.1.7\n",
              "H2O_cluster_version_age:    9 days\n",
              "H2O_cluster_name:           H2O_from_python_unknownUser_8w60rc\n",
              "H2O_cluster_total_nodes:    1\n",
              "H2O_cluster_free_memory:    6.342 Gb\n",
              "H2O_cluster_total_cores:    4\n",
              "H2O_cluster_allowed_cores:  4\n",
              "H2O_cluster_status:         locked, healthy\n",
              "H2O_connection_url:         http://localhost:54321\n",
              "H2O_connection_proxy:       {\"http\": null, \"https\": null}\n",
              "H2O_internal_security:      False\n",
              "H2O_API_Extensions:         Amazon S3, XGBoost, Algos, AutoML, Core V3, TargetEncoder, Core V4\n",
              "Python_version:             3.7.11 final\n",
              "--------------------------  ------------------------------------------------------------------"
            ]
          },
          "metadata": {}
        }
      ]
    },
    {
      "cell_type": "code",
      "metadata": {
        "id": "9mrXyE8WYvL3"
      },
      "source": [
        "# 레이블 설정\n",
        "label = train_data['voted']\n",
        "label.describe()\n",
        "\n",
        "# 레이블을 제외한 나머지 데이터를 Feautre로 설정\n",
        "feature = train_data.drop('voted', axis=1)"
      ],
      "execution_count": null,
      "outputs": []
    },
    {
      "cell_type": "code",
      "metadata": {
        "id": "R9OczKyir18I"
      },
      "source": [
        "y = \"voted\"\n",
        "x = list(train_data.columns)\n",
        "x.remove(y)"
      ],
      "execution_count": null,
      "outputs": []
    },
    {
      "cell_type": "code",
      "metadata": {
        "colab": {
          "base_uri": "https://localhost:8080/"
        },
        "id": "d5N9vAevcnl1",
        "outputId": "d09a8e17-3af4-4625-f900-a6e7bc121357"
      },
      "source": [
        "# 데이터 스플릿\n",
        "train, valid = train_test_split(train_data,\n",
        "                                test_size=0.2, \n",
        "                                shuffle=True)\n",
        "h2o_train = h2o.H2OFrame(train)\n",
        "h2o_valid = h2o.H2OFrame(valid)"
      ],
      "execution_count": null,
      "outputs": [
        {
          "output_type": "stream",
          "name": "stdout",
          "text": [
            "Parse progress: |█████████████████████████████████████████████████████████| 100%\n",
            "Parse progress: |█████████████████████████████████████████████████████████| 100%\n"
          ]
        }
      ]
    },
    {
      "cell_type": "code",
      "metadata": {
        "id": "NUJ3QTZpZfSi"
      },
      "source": [
        "h2o_train[y] = h2o_train[y].asfactor()\n",
        "h2o_valid[y] = h2o_valid[y].asfactor()"
      ],
      "execution_count": null,
      "outputs": []
    },
    {
      "cell_type": "code",
      "metadata": {
        "colab": {
          "base_uri": "https://localhost:8080/"
        },
        "id": "tde-ffV0Xr3Y",
        "outputId": "2ec30bd9-3926-4a56-c842-d8fefc52d99f"
      },
      "source": [
        "aml = H2OAutoML(max_models=20, seed=1)\n",
        "aml.train(x = x, y = y, training_frame=h2o_train, leaderboard_frame=h2o_valid)"
      ],
      "execution_count": null,
      "outputs": [
        {
          "output_type": "stream",
          "name": "stdout",
          "text": [
            "AutoML progress: |████████████████████████████████████████████████████████| 100%\n"
          ]
        }
      ]
    },
    {
      "cell_type": "code",
      "metadata": {
        "id": "tQP_YFsrXumL"
      },
      "source": [
        "leaderboard = aml.leaderboard\n",
        "performance = aml.leader.model_performance(h2o_valid)"
      ],
      "execution_count": null,
      "outputs": []
    },
    {
      "cell_type": "code",
      "metadata": {
        "colab": {
          "base_uri": "https://localhost:8080/",
          "height": 284
        },
        "id": "8TaAptwWiUFI",
        "outputId": "6c5462db-3c0f-457a-e2f6-4918d12316ff"
      },
      "source": [
        "print(leaderboard)"
      ],
      "execution_count": null,
      "outputs": [
        {
          "output_type": "display_data",
          "data": {
            "text/html": [
              "<table>\n",
              "<thead>\n",
              "<tr><th>model_id                                           </th><th style=\"text-align: right;\">     auc</th><th style=\"text-align: right;\">  logloss</th><th style=\"text-align: right;\">   aucpr</th><th style=\"text-align: right;\">  mean_per_class_error</th><th style=\"text-align: right;\">    rmse</th><th style=\"text-align: right;\">     mse</th></tr>\n",
              "</thead>\n",
              "<tbody>\n",
              "<tr><td>StackedEnsemble_AllModels_AutoML_20210912_052254   </td><td style=\"text-align: right;\">0.776942</td><td style=\"text-align: right;\"> 0.550707</td><td style=\"text-align: right;\">0.83085 </td><td style=\"text-align: right;\">              0.331984</td><td style=\"text-align: right;\">0.43466 </td><td style=\"text-align: right;\">0.188929</td></tr>\n",
              "<tr><td>StackedEnsemble_BestOfFamily_AutoML_20210912_052254</td><td style=\"text-align: right;\">0.775313</td><td style=\"text-align: right;\"> 0.552543</td><td style=\"text-align: right;\">0.829404</td><td style=\"text-align: right;\">              0.326554</td><td style=\"text-align: right;\">0.435476</td><td style=\"text-align: right;\">0.189639</td></tr>\n",
              "<tr><td>GBM_1_AutoML_20210912_052254                       </td><td style=\"text-align: right;\">0.774132</td><td style=\"text-align: right;\"> 0.553622</td><td style=\"text-align: right;\">0.828264</td><td style=\"text-align: right;\">              0.33888 </td><td style=\"text-align: right;\">0.435936</td><td style=\"text-align: right;\">0.190041</td></tr>\n",
              "<tr><td>GBM_2_AutoML_20210912_052254                       </td><td style=\"text-align: right;\">0.773295</td><td style=\"text-align: right;\"> 0.554234</td><td style=\"text-align: right;\">0.828355</td><td style=\"text-align: right;\">              0.343002</td><td style=\"text-align: right;\">0.436335</td><td style=\"text-align: right;\">0.190388</td></tr>\n",
              "<tr><td>GBM_3_AutoML_20210912_052254                       </td><td style=\"text-align: right;\">0.773184</td><td style=\"text-align: right;\"> 0.554237</td><td style=\"text-align: right;\">0.828389</td><td style=\"text-align: right;\">              0.352981</td><td style=\"text-align: right;\">0.436357</td><td style=\"text-align: right;\">0.190407</td></tr>\n",
              "<tr><td>GBM_grid__1_AutoML_20210912_052254_model_1         </td><td style=\"text-align: right;\">0.772749</td><td style=\"text-align: right;\"> 0.555117</td><td style=\"text-align: right;\">0.828117</td><td style=\"text-align: right;\">              0.336085</td><td style=\"text-align: right;\">0.436405</td><td style=\"text-align: right;\">0.19045 </td></tr>\n",
              "<tr><td>XGBoost_3_AutoML_20210912_052254                   </td><td style=\"text-align: right;\">0.768189</td><td style=\"text-align: right;\"> 0.558743</td><td style=\"text-align: right;\">0.823037</td><td style=\"text-align: right;\">              0.353431</td><td style=\"text-align: right;\">0.438521</td><td style=\"text-align: right;\">0.192301</td></tr>\n",
              "<tr><td>GBM_5_AutoML_20210912_052254                       </td><td style=\"text-align: right;\">0.768041</td><td style=\"text-align: right;\"> 0.557961</td><td style=\"text-align: right;\">0.82416 </td><td style=\"text-align: right;\">              0.342638</td><td style=\"text-align: right;\">0.438126</td><td style=\"text-align: right;\">0.191954</td></tr>\n",
              "<tr><td>GBM_4_AutoML_20210912_052254                       </td><td style=\"text-align: right;\">0.767746</td><td style=\"text-align: right;\"> 0.557337</td><td style=\"text-align: right;\">0.825999</td><td style=\"text-align: right;\">              0.354952</td><td style=\"text-align: right;\">0.438104</td><td style=\"text-align: right;\">0.191935</td></tr>\n",
              "<tr><td>XGBoost_grid__1_AutoML_20210912_052254_model_4     </td><td style=\"text-align: right;\">0.767703</td><td style=\"text-align: right;\"> 0.557963</td><td style=\"text-align: right;\">0.823012</td><td style=\"text-align: right;\">              0.35952 </td><td style=\"text-align: right;\">0.438271</td><td style=\"text-align: right;\">0.192082</td></tr>\n",
              "</tbody>\n",
              "</table>"
            ]
          },
          "metadata": {}
        },
        {
          "output_type": "stream",
          "name": "stdout",
          "text": [
            "\n"
          ]
        }
      ]
    },
    {
      "cell_type": "code",
      "metadata": {
        "colab": {
          "base_uri": "https://localhost:8080/",
          "height": 1000
        },
        "id": "xHwigyDrh5so",
        "outputId": "f10d060d-322b-4465-95c6-837736d3850b"
      },
      "source": [
        "model_id   =aml.leader.model_id  # 최고 모델 명\n",
        "accuracy   =performance.accuracy()  # 정확도\n",
        "precision  =performance.precision()  # precision\n",
        "recall     =performance.recall()  # recall\n",
        "F1         =performance.F1()  # f1\n",
        "auc        =performance.auc()  # auc\n",
        "variable_importance=aml.leader.varimp()  # 중요한 입력 변수\n",
        "\n",
        "print(model_id, accuracy, precision, recall, F1, auc, variable_importance)\n",
        "print(performance)"
      ],
      "execution_count": null,
      "outputs": [
        {
          "output_type": "stream",
          "name": "stdout",
          "text": [
            "Warning: This model doesn't have variable importances\n",
            "StackedEnsemble_AllModels_AutoML_20210912_052254 [[0.49337727647401947, 0.705391457120896]] [[0.989445749046625, 1.0]] [[0.13829759756339416, 1.0]] [[0.38894845914928555, 0.7383836557584523]] 0.7769416967716806 None\n",
            "\n",
            "ModelMetricsBinomialGLM: stackedensemble\n",
            "** Reported on test data. **\n",
            "\n",
            "MSE: 0.18892934862703145\n",
            "RMSE: 0.4346600379917982\n",
            "LogLoss: 0.5507074719265396\n",
            "Null degrees of freedom: 9106\n",
            "Residual degrees of freedom: 9090\n",
            "Null deviance: 12545.722257650632\n",
            "Residual deviance: 10030.585893669993\n",
            "AIC: 10064.585893669993\n",
            "AUC: 0.7769416967716806\n",
            "AUCPR: 0.8308498044575198\n",
            "Gini: 0.5538833935433611\n",
            "\n",
            "Confusion Matrix (Act/Pred) for max f1 @ threshold = 0.38894845914928555: \n"
          ]
        },
        {
          "output_type": "display_data",
          "data": {
            "text/html": [
              "<div>\n",
              "<style scoped>\n",
              "    .dataframe tbody tr th:only-of-type {\n",
              "        vertical-align: middle;\n",
              "    }\n",
              "\n",
              "    .dataframe tbody tr th {\n",
              "        vertical-align: top;\n",
              "    }\n",
              "\n",
              "    .dataframe thead th {\n",
              "        text-align: right;\n",
              "    }\n",
              "</style>\n",
              "<table border=\"1\" class=\"dataframe\">\n",
              "  <thead>\n",
              "    <tr style=\"text-align: right;\">\n",
              "      <th></th>\n",
              "      <th></th>\n",
              "      <th>1</th>\n",
              "      <th>2</th>\n",
              "      <th>Error</th>\n",
              "      <th>Rate</th>\n",
              "    </tr>\n",
              "  </thead>\n",
              "  <tbody>\n",
              "    <tr>\n",
              "      <th>0</th>\n",
              "      <td>1</td>\n",
              "      <td>2129.0</td>\n",
              "      <td>2000.0</td>\n",
              "      <td>0.4844</td>\n",
              "      <td>(2000.0/4129.0)</td>\n",
              "    </tr>\n",
              "    <tr>\n",
              "      <th>1</th>\n",
              "      <td>2</td>\n",
              "      <td>894.0</td>\n",
              "      <td>4084.0</td>\n",
              "      <td>0.1796</td>\n",
              "      <td>(894.0/4978.0)</td>\n",
              "    </tr>\n",
              "    <tr>\n",
              "      <th>2</th>\n",
              "      <td>Total</td>\n",
              "      <td>3023.0</td>\n",
              "      <td>6084.0</td>\n",
              "      <td>0.3178</td>\n",
              "      <td>(2894.0/9107.0)</td>\n",
              "    </tr>\n",
              "  </tbody>\n",
              "</table>\n",
              "</div>"
            ],
            "text/plain": [
              "               1       2   Error              Rate\n",
              "0      1  2129.0  2000.0  0.4844   (2000.0/4129.0)\n",
              "1      2   894.0  4084.0  0.1796    (894.0/4978.0)\n",
              "2  Total  3023.0  6084.0  0.3178   (2894.0/9107.0)"
            ]
          },
          "metadata": {}
        },
        {
          "output_type": "stream",
          "name": "stdout",
          "text": [
            "\n",
            "Maximum Metrics: Maximum metrics at their respective thresholds\n"
          ]
        },
        {
          "output_type": "display_data",
          "data": {
            "text/html": [
              "<div>\n",
              "<style scoped>\n",
              "    .dataframe tbody tr th:only-of-type {\n",
              "        vertical-align: middle;\n",
              "    }\n",
              "\n",
              "    .dataframe tbody tr th {\n",
              "        vertical-align: top;\n",
              "    }\n",
              "\n",
              "    .dataframe thead th {\n",
              "        text-align: right;\n",
              "    }\n",
              "</style>\n",
              "<table border=\"1\" class=\"dataframe\">\n",
              "  <thead>\n",
              "    <tr style=\"text-align: right;\">\n",
              "      <th></th>\n",
              "      <th>metric</th>\n",
              "      <th>threshold</th>\n",
              "      <th>value</th>\n",
              "      <th>idx</th>\n",
              "    </tr>\n",
              "  </thead>\n",
              "  <tbody>\n",
              "    <tr>\n",
              "      <th>0</th>\n",
              "      <td>max f1</td>\n",
              "      <td>0.388948</td>\n",
              "      <td>0.738384</td>\n",
              "      <td>276.0</td>\n",
              "    </tr>\n",
              "    <tr>\n",
              "      <th>1</th>\n",
              "      <td>max f2</td>\n",
              "      <td>0.138298</td>\n",
              "      <td>0.857743</td>\n",
              "      <td>398.0</td>\n",
              "    </tr>\n",
              "    <tr>\n",
              "      <th>2</th>\n",
              "      <td>max f0point5</td>\n",
              "      <td>0.552550</td>\n",
              "      <td>0.754357</td>\n",
              "      <td>184.0</td>\n",
              "    </tr>\n",
              "    <tr>\n",
              "      <th>3</th>\n",
              "      <td>max accuracy</td>\n",
              "      <td>0.493377</td>\n",
              "      <td>0.705391</td>\n",
              "      <td>215.0</td>\n",
              "    </tr>\n",
              "    <tr>\n",
              "      <th>4</th>\n",
              "      <td>max precision</td>\n",
              "      <td>0.989446</td>\n",
              "      <td>1.000000</td>\n",
              "      <td>0.0</td>\n",
              "    </tr>\n",
              "    <tr>\n",
              "      <th>5</th>\n",
              "      <td>max recall</td>\n",
              "      <td>0.138298</td>\n",
              "      <td>1.000000</td>\n",
              "      <td>398.0</td>\n",
              "    </tr>\n",
              "    <tr>\n",
              "      <th>6</th>\n",
              "      <td>max specificity</td>\n",
              "      <td>0.989446</td>\n",
              "      <td>1.000000</td>\n",
              "      <td>0.0</td>\n",
              "    </tr>\n",
              "    <tr>\n",
              "      <th>7</th>\n",
              "      <td>max absolute_mcc</td>\n",
              "      <td>0.744411</td>\n",
              "      <td>0.433221</td>\n",
              "      <td>108.0</td>\n",
              "    </tr>\n",
              "    <tr>\n",
              "      <th>8</th>\n",
              "      <td>max min_per_class_accuracy</td>\n",
              "      <td>0.462308</td>\n",
              "      <td>0.703696</td>\n",
              "      <td>232.0</td>\n",
              "    </tr>\n",
              "    <tr>\n",
              "      <th>9</th>\n",
              "      <td>max mean_per_class_accuracy</td>\n",
              "      <td>0.530496</td>\n",
              "      <td>0.712564</td>\n",
              "      <td>195.0</td>\n",
              "    </tr>\n",
              "    <tr>\n",
              "      <th>10</th>\n",
              "      <td>max tns</td>\n",
              "      <td>0.989446</td>\n",
              "      <td>4129.000000</td>\n",
              "      <td>0.0</td>\n",
              "    </tr>\n",
              "    <tr>\n",
              "      <th>11</th>\n",
              "      <td>max fns</td>\n",
              "      <td>0.989446</td>\n",
              "      <td>4973.000000</td>\n",
              "      <td>0.0</td>\n",
              "    </tr>\n",
              "    <tr>\n",
              "      <th>12</th>\n",
              "      <td>max fps</td>\n",
              "      <td>0.131892</td>\n",
              "      <td>4129.000000</td>\n",
              "      <td>399.0</td>\n",
              "    </tr>\n",
              "    <tr>\n",
              "      <th>13</th>\n",
              "      <td>max tps</td>\n",
              "      <td>0.138298</td>\n",
              "      <td>4978.000000</td>\n",
              "      <td>398.0</td>\n",
              "    </tr>\n",
              "    <tr>\n",
              "      <th>14</th>\n",
              "      <td>max tnr</td>\n",
              "      <td>0.989446</td>\n",
              "      <td>1.000000</td>\n",
              "      <td>0.0</td>\n",
              "    </tr>\n",
              "    <tr>\n",
              "      <th>15</th>\n",
              "      <td>max fnr</td>\n",
              "      <td>0.989446</td>\n",
              "      <td>0.998996</td>\n",
              "      <td>0.0</td>\n",
              "    </tr>\n",
              "    <tr>\n",
              "      <th>16</th>\n",
              "      <td>max fpr</td>\n",
              "      <td>0.131892</td>\n",
              "      <td>1.000000</td>\n",
              "      <td>399.0</td>\n",
              "    </tr>\n",
              "    <tr>\n",
              "      <th>17</th>\n",
              "      <td>max tpr</td>\n",
              "      <td>0.138298</td>\n",
              "      <td>1.000000</td>\n",
              "      <td>398.0</td>\n",
              "    </tr>\n",
              "  </tbody>\n",
              "</table>\n",
              "</div>"
            ],
            "text/plain": [
              "                         metric  threshold        value    idx\n",
              "0                        max f1   0.388948     0.738384  276.0\n",
              "1                        max f2   0.138298     0.857743  398.0\n",
              "2                  max f0point5   0.552550     0.754357  184.0\n",
              "3                  max accuracy   0.493377     0.705391  215.0\n",
              "4                 max precision   0.989446     1.000000    0.0\n",
              "5                    max recall   0.138298     1.000000  398.0\n",
              "6               max specificity   0.989446     1.000000    0.0\n",
              "7              max absolute_mcc   0.744411     0.433221  108.0\n",
              "8    max min_per_class_accuracy   0.462308     0.703696  232.0\n",
              "9   max mean_per_class_accuracy   0.530496     0.712564  195.0\n",
              "10                      max tns   0.989446  4129.000000    0.0\n",
              "11                      max fns   0.989446  4973.000000    0.0\n",
              "12                      max fps   0.131892  4129.000000  399.0\n",
              "13                      max tps   0.138298  4978.000000  398.0\n",
              "14                      max tnr   0.989446     1.000000    0.0\n",
              "15                      max fnr   0.989446     0.998996    0.0\n",
              "16                      max fpr   0.131892     1.000000  399.0\n",
              "17                      max tpr   0.138298     1.000000  398.0"
            ]
          },
          "metadata": {}
        },
        {
          "output_type": "stream",
          "name": "stdout",
          "text": [
            "\n",
            "Gains/Lift Table: Avg response rate: 54.66 %, avg score: 54.77 %\n"
          ]
        },
        {
          "output_type": "display_data",
          "data": {
            "text/html": [
              "<div>\n",
              "<style scoped>\n",
              "    .dataframe tbody tr th:only-of-type {\n",
              "        vertical-align: middle;\n",
              "    }\n",
              "\n",
              "    .dataframe tbody tr th {\n",
              "        vertical-align: top;\n",
              "    }\n",
              "\n",
              "    .dataframe thead th {\n",
              "        text-align: right;\n",
              "    }\n",
              "</style>\n",
              "<table border=\"1\" class=\"dataframe\">\n",
              "  <thead>\n",
              "    <tr style=\"text-align: right;\">\n",
              "      <th></th>\n",
              "      <th>group</th>\n",
              "      <th>cumulative_data_fraction</th>\n",
              "      <th>lower_threshold</th>\n",
              "      <th>lift</th>\n",
              "      <th>cumulative_lift</th>\n",
              "      <th>response_rate</th>\n",
              "      <th>score</th>\n",
              "      <th>cumulative_response_rate</th>\n",
              "      <th>cumulative_score</th>\n",
              "      <th>capture_rate</th>\n",
              "      <th>cumulative_capture_rate</th>\n",
              "      <th>gain</th>\n",
              "      <th>cumulative_gain</th>\n",
              "      <th>kolmogorov_smirnov</th>\n",
              "    </tr>\n",
              "  </thead>\n",
              "  <tbody>\n",
              "    <tr>\n",
              "      <th>0</th>\n",
              "      <td>1</td>\n",
              "      <td>0.010102</td>\n",
              "      <td>0.981632</td>\n",
              "      <td>1.829450</td>\n",
              "      <td>1.829450</td>\n",
              "      <td>1.000000</td>\n",
              "      <td>0.983297</td>\n",
              "      <td>1.000000</td>\n",
              "      <td>0.983297</td>\n",
              "      <td>0.018481</td>\n",
              "      <td>0.018481</td>\n",
              "      <td>82.944958</td>\n",
              "      <td>82.944958</td>\n",
              "      <td>0.018481</td>\n",
              "    </tr>\n",
              "    <tr>\n",
              "      <th>1</th>\n",
              "      <td>2</td>\n",
              "      <td>0.020094</td>\n",
              "      <td>0.980205</td>\n",
              "      <td>1.789242</td>\n",
              "      <td>1.809456</td>\n",
              "      <td>0.978022</td>\n",
              "      <td>0.980951</td>\n",
              "      <td>0.989071</td>\n",
              "      <td>0.982130</td>\n",
              "      <td>0.017879</td>\n",
              "      <td>0.036360</td>\n",
              "      <td>78.924190</td>\n",
              "      <td>80.945559</td>\n",
              "      <td>0.035876</td>\n",
              "    </tr>\n",
              "    <tr>\n",
              "      <th>2</th>\n",
              "      <td>3</td>\n",
              "      <td>0.030087</td>\n",
              "      <td>0.978736</td>\n",
              "      <td>1.829450</td>\n",
              "      <td>1.816096</td>\n",
              "      <td>1.000000</td>\n",
              "      <td>0.979428</td>\n",
              "      <td>0.992701</td>\n",
              "      <td>0.981233</td>\n",
              "      <td>0.018280</td>\n",
              "      <td>0.054640</td>\n",
              "      <td>82.944958</td>\n",
              "      <td>81.609593</td>\n",
              "      <td>0.054156</td>\n",
              "    </tr>\n",
              "    <tr>\n",
              "      <th>3</th>\n",
              "      <td>4</td>\n",
              "      <td>0.040079</td>\n",
              "      <td>0.977443</td>\n",
              "      <td>1.789242</td>\n",
              "      <td>1.809401</td>\n",
              "      <td>0.978022</td>\n",
              "      <td>0.978029</td>\n",
              "      <td>0.989041</td>\n",
              "      <td>0.980434</td>\n",
              "      <td>0.017879</td>\n",
              "      <td>0.072519</td>\n",
              "      <td>78.924190</td>\n",
              "      <td>80.940082</td>\n",
              "      <td>0.071550</td>\n",
              "    </tr>\n",
              "    <tr>\n",
              "      <th>4</th>\n",
              "      <td>5</td>\n",
              "      <td>0.050071</td>\n",
              "      <td>0.975876</td>\n",
              "      <td>1.809346</td>\n",
              "      <td>1.809390</td>\n",
              "      <td>0.989011</td>\n",
              "      <td>0.976678</td>\n",
              "      <td>0.989035</td>\n",
              "      <td>0.979684</td>\n",
              "      <td>0.018080</td>\n",
              "      <td>0.090599</td>\n",
              "      <td>80.934574</td>\n",
              "      <td>80.938982</td>\n",
              "      <td>0.089388</td>\n",
              "    </tr>\n",
              "    <tr>\n",
              "      <th>5</th>\n",
              "      <td>6</td>\n",
              "      <td>0.100033</td>\n",
              "      <td>0.948388</td>\n",
              "      <td>1.805325</td>\n",
              "      <td>1.807360</td>\n",
              "      <td>0.986813</td>\n",
              "      <td>0.970358</td>\n",
              "      <td>0.987925</td>\n",
              "      <td>0.975026</td>\n",
              "      <td>0.090197</td>\n",
              "      <td>0.180796</td>\n",
              "      <td>80.532497</td>\n",
              "      <td>80.735963</td>\n",
              "      <td>0.178131</td>\n",
              "    </tr>\n",
              "    <tr>\n",
              "      <th>6</th>\n",
              "      <td>7</td>\n",
              "      <td>0.149995</td>\n",
              "      <td>0.870865</td>\n",
              "      <td>1.624390</td>\n",
              "      <td>1.746415</td>\n",
              "      <td>0.887912</td>\n",
              "      <td>0.901956</td>\n",
              "      <td>0.954612</td>\n",
              "      <td>0.950687</td>\n",
              "      <td>0.081157</td>\n",
              "      <td>0.261953</td>\n",
              "      <td>62.439039</td>\n",
              "      <td>74.641453</td>\n",
              "      <td>0.246937</td>\n",
              "    </tr>\n",
              "    <tr>\n",
              "      <th>7</th>\n",
              "      <td>8</td>\n",
              "      <td>0.200066</td>\n",
              "      <td>0.821913</td>\n",
              "      <td>1.588733</td>\n",
              "      <td>1.706951</td>\n",
              "      <td>0.868421</td>\n",
              "      <td>0.846379</td>\n",
              "      <td>0.933041</td>\n",
              "      <td>0.924582</td>\n",
              "      <td>0.079550</td>\n",
              "      <td>0.341503</td>\n",
              "      <td>58.873253</td>\n",
              "      <td>70.695076</td>\n",
              "      <td>0.311956</td>\n",
              "    </tr>\n",
              "    <tr>\n",
              "      <th>8</th>\n",
              "      <td>9</td>\n",
              "      <td>0.299989</td>\n",
              "      <td>0.699196</td>\n",
              "      <td>1.379124</td>\n",
              "      <td>1.597755</td>\n",
              "      <td>0.753846</td>\n",
              "      <td>0.766570</td>\n",
              "      <td>0.873353</td>\n",
              "      <td>0.871950</td>\n",
              "      <td>0.137806</td>\n",
              "      <td>0.479309</td>\n",
              "      <td>37.912353</td>\n",
              "      <td>59.775501</td>\n",
              "      <td>0.395511</td>\n",
              "    </tr>\n",
              "    <tr>\n",
              "      <th>9</th>\n",
              "      <td>10</td>\n",
              "      <td>0.400022</td>\n",
              "      <td>0.547537</td>\n",
              "      <td>1.122571</td>\n",
              "      <td>1.478926</td>\n",
              "      <td>0.613611</td>\n",
              "      <td>0.613025</td>\n",
              "      <td>0.808400</td>\n",
              "      <td>0.807201</td>\n",
              "      <td>0.112294</td>\n",
              "      <td>0.591603</td>\n",
              "      <td>12.257115</td>\n",
              "      <td>47.892644</td>\n",
              "      <td>0.422555</td>\n",
              "    </tr>\n",
              "    <tr>\n",
              "      <th>10</th>\n",
              "      <td>11</td>\n",
              "      <td>0.500055</td>\n",
              "      <td>0.472245</td>\n",
              "      <td>0.955892</td>\n",
              "      <td>1.374297</td>\n",
              "      <td>0.522503</td>\n",
              "      <td>0.506742</td>\n",
              "      <td>0.751208</td>\n",
              "      <td>0.747096</td>\n",
              "      <td>0.095621</td>\n",
              "      <td>0.687224</td>\n",
              "      <td>-4.410757</td>\n",
              "      <td>37.429666</td>\n",
              "      <td>0.412823</td>\n",
              "    </tr>\n",
              "    <tr>\n",
              "      <th>11</th>\n",
              "      <td>12</td>\n",
              "      <td>0.599978</td>\n",
              "      <td>0.419655</td>\n",
              "      <td>0.836320</td>\n",
              "      <td>1.284699</td>\n",
              "      <td>0.457143</td>\n",
              "      <td>0.444714</td>\n",
              "      <td>0.702233</td>\n",
              "      <td>0.696736</td>\n",
              "      <td>0.083568</td>\n",
              "      <td>0.770791</td>\n",
              "      <td>-16.368019</td>\n",
              "      <td>28.469949</td>\n",
              "      <td>0.376749</td>\n",
              "    </tr>\n",
              "    <tr>\n",
              "      <th>12</th>\n",
              "      <td>13</td>\n",
              "      <td>0.700011</td>\n",
              "      <td>0.374787</td>\n",
              "      <td>0.692821</td>\n",
              "      <td>1.200119</td>\n",
              "      <td>0.378705</td>\n",
              "      <td>0.396531</td>\n",
              "      <td>0.656000</td>\n",
              "      <td>0.653836</td>\n",
              "      <td>0.069305</td>\n",
              "      <td>0.840096</td>\n",
              "      <td>-30.717881</td>\n",
              "      <td>20.011892</td>\n",
              "      <td>0.308975</td>\n",
              "    </tr>\n",
              "    <tr>\n",
              "      <th>13</th>\n",
              "      <td>14</td>\n",
              "      <td>0.799934</td>\n",
              "      <td>0.331324</td>\n",
              "      <td>0.603115</td>\n",
              "      <td>1.125545</td>\n",
              "      <td>0.329670</td>\n",
              "      <td>0.353188</td>\n",
              "      <td>0.615237</td>\n",
              "      <td>0.616281</td>\n",
              "      <td>0.060265</td>\n",
              "      <td>0.900362</td>\n",
              "      <td>-39.688475</td>\n",
              "      <td>12.554468</td>\n",
              "      <td>0.221505</td>\n",
              "    </tr>\n",
              "    <tr>\n",
              "      <th>14</th>\n",
              "      <td>15</td>\n",
              "      <td>0.899967</td>\n",
              "      <td>0.281743</td>\n",
              "      <td>0.560281</td>\n",
              "      <td>1.062715</td>\n",
              "      <td>0.306257</td>\n",
              "      <td>0.307604</td>\n",
              "      <td>0.580893</td>\n",
              "      <td>0.581971</td>\n",
              "      <td>0.056047</td>\n",
              "      <td>0.956408</td>\n",
              "      <td>-43.971852</td>\n",
              "      <td>6.271467</td>\n",
              "      <td>0.124488</td>\n",
              "    </tr>\n",
              "    <tr>\n",
              "      <th>15</th>\n",
              "      <td>16</td>\n",
              "      <td>1.000000</td>\n",
              "      <td>0.131892</td>\n",
              "      <td>0.435774</td>\n",
              "      <td>1.000000</td>\n",
              "      <td>0.238200</td>\n",
              "      <td>0.239482</td>\n",
              "      <td>0.546612</td>\n",
              "      <td>0.547711</td>\n",
              "      <td>0.043592</td>\n",
              "      <td>1.000000</td>\n",
              "      <td>-56.422551</td>\n",
              "      <td>0.000000</td>\n",
              "      <td>0.000000</td>\n",
              "    </tr>\n",
              "  </tbody>\n",
              "</table>\n",
              "</div>"
            ],
            "text/plain": [
              "    group  cumulative_data_fraction  ...  cumulative_gain  kolmogorov_smirnov\n",
              "0       1                  0.010102  ...        82.944958            0.018481\n",
              "1       2                  0.020094  ...        80.945559            0.035876\n",
              "2       3                  0.030087  ...        81.609593            0.054156\n",
              "3       4                  0.040079  ...        80.940082            0.071550\n",
              "4       5                  0.050071  ...        80.938982            0.089388\n",
              "5       6                  0.100033  ...        80.735963            0.178131\n",
              "6       7                  0.149995  ...        74.641453            0.246937\n",
              "7       8                  0.200066  ...        70.695076            0.311956\n",
              "8       9                  0.299989  ...        59.775501            0.395511\n",
              "9      10                  0.400022  ...        47.892644            0.422555\n",
              "10     11                  0.500055  ...        37.429666            0.412823\n",
              "11     12                  0.599978  ...        28.469949            0.376749\n",
              "12     13                  0.700011  ...        20.011892            0.308975\n",
              "13     14                  0.799934  ...        12.554468            0.221505\n",
              "14     15                  0.899967  ...         6.271467            0.124488\n",
              "15     16                  1.000000  ...         0.000000            0.000000\n",
              "\n",
              "[16 rows x 14 columns]"
            ]
          },
          "metadata": {}
        },
        {
          "output_type": "stream",
          "name": "stdout",
          "text": [
            "\n",
            "\n"
          ]
        }
      ]
    },
    {
      "cell_type": "code",
      "metadata": {
        "colab": {
          "base_uri": "https://localhost:8080/"
        },
        "id": "SCM2o3zAlIBB",
        "outputId": "28e115de-a2c4-4568-bb74-9ea0c9033c3d"
      },
      "source": [
        "test_data = h2o.H2OFrame(test_data)"
      ],
      "execution_count": null,
      "outputs": [
        {
          "output_type": "stream",
          "name": "stdout",
          "text": [
            "Parse progress: |█████████████████████████████████████████████████████████| 100%\n"
          ]
        }
      ]
    },
    {
      "cell_type": "code",
      "metadata": {
        "colab": {
          "base_uri": "https://localhost:8080/"
        },
        "id": "P12DrNSllZsu",
        "outputId": "eb866f14-770b-4807-c994-35d3e27b025b"
      },
      "source": [
        "predictions = aml.predict(test_data)"
      ],
      "execution_count": null,
      "outputs": [
        {
          "output_type": "stream",
          "name": "stdout",
          "text": [
            "stackedensemble prediction progress: |████████████████████████████████████| 100%\n"
          ]
        }
      ]
    },
    {
      "cell_type": "code",
      "metadata": {
        "id": "cy5OWNj5loj3"
      },
      "source": [
        "predictions = predictions.as_data_frame()"
      ],
      "execution_count": null,
      "outputs": []
    },
    {
      "cell_type": "code",
      "metadata": {
        "colab": {
          "base_uri": "https://localhost:8080/",
          "height": 204
        },
        "id": "aU10VErfmKq0",
        "outputId": "bb486bd4-fb1b-4e68-cb3c-a135be0c7042"
      },
      "source": [
        "predictions.head()"
      ],
      "execution_count": null,
      "outputs": [
        {
          "output_type": "execute_result",
          "data": {
            "text/html": [
              "<div>\n",
              "<style scoped>\n",
              "    .dataframe tbody tr th:only-of-type {\n",
              "        vertical-align: middle;\n",
              "    }\n",
              "\n",
              "    .dataframe tbody tr th {\n",
              "        vertical-align: top;\n",
              "    }\n",
              "\n",
              "    .dataframe thead th {\n",
              "        text-align: right;\n",
              "    }\n",
              "</style>\n",
              "<table border=\"1\" class=\"dataframe\">\n",
              "  <thead>\n",
              "    <tr style=\"text-align: right;\">\n",
              "      <th></th>\n",
              "      <th>predict</th>\n",
              "      <th>p1</th>\n",
              "      <th>p2</th>\n",
              "    </tr>\n",
              "  </thead>\n",
              "  <tbody>\n",
              "    <tr>\n",
              "      <th>0</th>\n",
              "      <td>2</td>\n",
              "      <td>0.330223</td>\n",
              "      <td>0.669777</td>\n",
              "    </tr>\n",
              "    <tr>\n",
              "      <th>1</th>\n",
              "      <td>2</td>\n",
              "      <td>0.088118</td>\n",
              "      <td>0.911882</td>\n",
              "    </tr>\n",
              "    <tr>\n",
              "      <th>2</th>\n",
              "      <td>2</td>\n",
              "      <td>0.450934</td>\n",
              "      <td>0.549066</td>\n",
              "    </tr>\n",
              "    <tr>\n",
              "      <th>3</th>\n",
              "      <td>1</td>\n",
              "      <td>0.829009</td>\n",
              "      <td>0.170991</td>\n",
              "    </tr>\n",
              "    <tr>\n",
              "      <th>4</th>\n",
              "      <td>2</td>\n",
              "      <td>0.271225</td>\n",
              "      <td>0.728775</td>\n",
              "    </tr>\n",
              "  </tbody>\n",
              "</table>\n",
              "</div>"
            ],
            "text/plain": [
              "   predict        p1        p2\n",
              "0        2  0.330223  0.669777\n",
              "1        2  0.088118  0.911882\n",
              "2        2  0.450934  0.549066\n",
              "3        1  0.829009  0.170991\n",
              "4        2  0.271225  0.728775"
            ]
          },
          "metadata": {},
          "execution_count": 64
        }
      ]
    },
    {
      "cell_type": "code",
      "metadata": {
        "id": "vDs94UEKmHYo"
      },
      "source": [
        "submission['voted'] = predictions['predict']"
      ],
      "execution_count": null,
      "outputs": []
    },
    {
      "cell_type": "code",
      "metadata": {
        "id": "9edj6gIYmxiB"
      },
      "source": [
        "submission.to_csv('/content/drive/MyDrive/data/voted/submission2.csv')"
      ],
      "execution_count": null,
      "outputs": []
    }
  ]
}