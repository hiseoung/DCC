{
 "cells": [
  {
   "cell_type": "code",
   "execution_count": 1,
   "id": "8ca4f920",
   "metadata": {
    "scrolled": true
   },
   "outputs": [],
   "source": [
    "import pandas as pd\n",
    "from sklearn.feature_selection import SelectFromModel\n",
    "import os\n",
    "import preprocessing as pr\n",
    "import xgboost as xgb"
   ]
  },
  {
   "cell_type": "code",
   "execution_count": 13,
   "id": "32654388",
   "metadata": {},
   "outputs": [],
   "source": [
    "path = '../../../data/카드'\n",
    "\n",
    "train = pd.read_csv(os.path.join(path, 'train.csv'), index_col=0)\n",
    "test = pd.read_csv(os.path.join(path, 'test.csv'), index_col=0)\n",
    "sub = pd.read_csv(os.path.join(path, 'sample_submission.csv'), index_col=0)\n",
    "\n",
    "train = pr.main(train)\n",
    "test = pr.main(test)"
   ]
  },
  {
   "cell_type": "code",
   "execution_count": 14,
   "id": "a5a66dca",
   "metadata": {},
   "outputs": [],
   "source": [
    "x_train = train.drop(['credit'], axis=1)\n",
    "y_train = train['credit']"
   ]
  },
  {
   "cell_type": "code",
   "execution_count": 15,
   "id": "0b86ec82",
   "metadata": {},
   "outputs": [],
   "source": [
    "clf = xgb.XGBClassifier()"
   ]
  },
  {
   "cell_type": "code",
   "execution_count": 16,
   "id": "5ab6352c",
   "metadata": {},
   "outputs": [
    {
     "name": "stdout",
     "output_type": "stream",
     "text": [
      "[09:33:10] WARNING: C:/Users/Administrator/workspace/xgboost-win64_release_1.4.0/src/learner.cc:1095: Starting in XGBoost 1.3.0, the default evaluation metric used with the objective 'multi:softprob' was changed from 'merror' to 'mlogloss'. Explicitly set eval_metric if you'd like to restore the old behavior.\n"
     ]
    }
   ],
   "source": [
    "selector = SelectFromModel(estimator=clf).fit(x_train, y_train)"
   ]
  },
  {
   "cell_type": "code",
   "execution_count": 17,
   "id": "28f56574",
   "metadata": {},
   "outputs": [],
   "source": [
    "trans_x = selector.transform(x_train)\n",
    "trans_test = selector.transform(test)"
   ]
  },
  {
   "cell_type": "code",
   "execution_count": 19,
   "id": "d8fb298e",
   "metadata": {},
   "outputs": [
    {
     "data": {
      "text/plain": [
       "((26457, 52), (26457, 23), (10000, 23))"
      ]
     },
     "execution_count": 19,
     "metadata": {},
     "output_type": "execute_result"
    }
   ],
   "source": [
    "x_train.shape, trans_x.shape, trans_test.shape"
   ]
  },
  {
   "cell_type": "code",
   "execution_count": 20,
   "id": "9fb8dffd",
   "metadata": {},
   "outputs": [
    {
     "name": "stdout",
     "output_type": "stream",
     "text": [
      "[09:33:32] WARNING: C:/Users/Administrator/workspace/xgboost-win64_release_1.4.0/src/learner.cc:1095: Starting in XGBoost 1.3.0, the default evaluation metric used with the objective 'multi:softprob' was changed from 'merror' to 'mlogloss'. Explicitly set eval_metric if you'd like to restore the old behavior.\n"
     ]
    },
    {
     "data": {
      "text/plain": [
       "XGBClassifier(base_score=0.5, booster='gbtree', colsample_bylevel=1,\n",
       "              colsample_bynode=1, colsample_bytree=1, gamma=0, gpu_id=-1,\n",
       "              importance_type='gain', interaction_constraints='',\n",
       "              learning_rate=0.300000012, max_delta_step=0, max_depth=6,\n",
       "              min_child_weight=1, missing=nan, monotone_constraints='()',\n",
       "              n_estimators=100, n_jobs=12, num_parallel_tree=1,\n",
       "              objective='multi:softprob', random_state=0, reg_alpha=0,\n",
       "              reg_lambda=1, scale_pos_weight=None, subsample=1,\n",
       "              tree_method='exact', validate_parameters=1, verbosity=None)"
      ]
     },
     "execution_count": 20,
     "metadata": {},
     "output_type": "execute_result"
    }
   ],
   "source": [
    "clf.fit(trans_x, y_train)"
   ]
  },
  {
   "cell_type": "code",
   "execution_count": 25,
   "id": "26660081",
   "metadata": {},
   "outputs": [],
   "source": [
    "pred = clf.predict_proba(trans_test)"
   ]
  },
  {
   "cell_type": "code",
   "execution_count": 28,
   "id": "54a99b47",
   "metadata": {},
   "outputs": [],
   "source": [
    "sub.loc[:, :] = pred"
   ]
  },
  {
   "cell_type": "code",
   "execution_count": 31,
   "id": "9da1b1d5",
   "metadata": {},
   "outputs": [],
   "source": [
    "sub.to_csv('select.csv')"
   ]
  },
  {
   "cell_type": "code",
   "execution_count": 33,
   "id": "f7f51dcc",
   "metadata": {},
   "outputs": [],
   "source": [
    "path = '../../../data/카드'\n",
    "\n",
    "train = pd.read_csv(os.path.join(path, 'train.csv'), index_col=0)\n",
    "test = pd.read_csv(os.path.join(path, 'test.csv'), index_col=0)\n",
    "sub = pd.read_csv(os.path.join(path, 'sample_submission.csv'), index_col=0)\n",
    "\n",
    "train = pr.main(train)\n",
    "test = pr.main(test)"
   ]
  },
  {
   "cell_type": "code",
   "execution_count": 34,
   "id": "54e29f31",
   "metadata": {},
   "outputs": [],
   "source": [
    "x_train = train.drop(['credit'], axis=1)\n",
    "y_train = train['credit']"
   ]
  },
  {
   "cell_type": "code",
   "execution_count": 35,
   "id": "bce35f18",
   "metadata": {},
   "outputs": [
    {
     "name": "stdout",
     "output_type": "stream",
     "text": [
      "[09:39:27] WARNING: C:/Users/Administrator/workspace/xgboost-win64_release_1.4.0/src/learner.cc:1095: Starting in XGBoost 1.3.0, the default evaluation metric used with the objective 'multi:softprob' was changed from 'merror' to 'mlogloss'. Explicitly set eval_metric if you'd like to restore the old behavior.\n"
     ]
    },
    {
     "data": {
      "text/plain": [
       "XGBClassifier(base_score=0.5, booster='gbtree', colsample_bylevel=1,\n",
       "              colsample_bynode=1, colsample_bytree=1, gamma=0, gpu_id=-1,\n",
       "              importance_type='gain', interaction_constraints='',\n",
       "              learning_rate=0.300000012, max_delta_step=0, max_depth=6,\n",
       "              min_child_weight=1, missing=nan, monotone_constraints='()',\n",
       "              n_estimators=100, n_jobs=12, num_parallel_tree=1,\n",
       "              objective='multi:softprob', random_state=0, reg_alpha=0,\n",
       "              reg_lambda=1, scale_pos_weight=None, subsample=1,\n",
       "              tree_method='exact', validate_parameters=1, verbosity=None)"
      ]
     },
     "execution_count": 35,
     "metadata": {},
     "output_type": "execute_result"
    }
   ],
   "source": [
    "clf.fit(x_train, y_train)"
   ]
  },
  {
   "cell_type": "code",
   "execution_count": 37,
   "id": "ce74beae",
   "metadata": {},
   "outputs": [],
   "source": [
    "pred = clf.predict_proba(test)\n",
    "sub.loc[:, :] = pred\n",
    "sub.to_csv('xgb_normal.csv')"
   ]
  },
  {
   "cell_type": "code",
   "execution_count": null,
   "id": "b4c4a0f8",
   "metadata": {},
   "outputs": [],
   "source": []
  }
 ],
 "metadata": {
  "kernelspec": {
   "display_name": "dcc",
   "language": "python",
   "name": "dcc"
  },
  "language_info": {
   "codemirror_mode": {
    "name": "ipython",
    "version": 3
   },
   "file_extension": ".py",
   "mimetype": "text/x-python",
   "name": "python",
   "nbconvert_exporter": "python",
   "pygments_lexer": "ipython3",
   "version": "3.8.0"
  }
 },
 "nbformat": 4,
 "nbformat_minor": 5
}
